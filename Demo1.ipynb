{
 "cells": [
  {
   "cell_type": "code",
   "execution_count": 1,
   "id": "39697032-a6fe-4342-a50a-5185df3ee3ef",
   "metadata": {
    "execution": {
     "iopub.execute_input": "2024-08-02T19:57:43.845241Z",
     "iopub.status.busy": "2024-08-02T19:57:43.844892Z",
     "iopub.status.idle": "2024-08-02T19:57:45.508051Z",
     "shell.execute_reply": "2024-08-02T19:57:45.507816Z",
     "shell.execute_reply.started": "2024-08-02T19:57:43.845225Z"
    }
   },
   "outputs": [],
   "source": [
    "import json\n",
    "import outlines\n",
    "from transformers import AutoTokenizer\n",
    "import torch\n",
    "from textwrap import dedent"
   ]
  },
  {
   "cell_type": "code",
   "execution_count": 2,
   "id": "2122a8dc-c159-4f96-b52c-ea937b1e3b97",
   "metadata": {
    "execution": {
     "iopub.execute_input": "2024-08-02T19:57:45.508670Z",
     "iopub.status.busy": "2024-08-02T19:57:45.508482Z",
     "iopub.status.idle": "2024-08-02T19:57:56.218157Z",
     "shell.execute_reply": "2024-08-02T19:57:56.217796Z",
     "shell.execute_reply.started": "2024-08-02T19:57:45.508660Z"
    }
   },
   "outputs": [
    {
     "data": {
      "application/vnd.jupyter.widget-view+json": {
       "model_id": "dc8525c2154b40f4874fd0747d733be1",
       "version_major": 2,
       "version_minor": 0
      },
      "text/plain": [
       "Loading checkpoint shards:   0%|          | 0/6 [00:00<?, ?it/s]"
      ]
     },
     "metadata": {},
     "output_type": "display_data"
    }
   ],
   "source": [
    "model_name = \"microsoft/Phi-3-medium-4k-instruct\"\n",
    "model = outlines.models.transformers(model_name)\n",
    "tokenizer = AutoTokenizer.from_pretrained(model_name)"
   ]
  },
  {
   "cell_type": "code",
   "execution_count": 3,
   "id": "4d2037fb-d172-4983-bd0d-d6d94de3c011",
   "metadata": {
    "execution": {
     "iopub.execute_input": "2024-08-02T19:57:56.218885Z",
     "iopub.status.busy": "2024-08-02T19:57:56.218716Z",
     "iopub.status.idle": "2024-08-02T19:57:56.220931Z",
     "shell.execute_reply": "2024-08-02T19:57:56.220525Z",
     "shell.execute_reply.started": "2024-08-02T19:57:56.218876Z"
    }
   },
   "outputs": [],
   "source": [
    "departments = [\"clothing\",\"electronics\",\"kitchen\",\"automotive\"]"
   ]
  },
  {
   "cell_type": "code",
   "execution_count": 4,
   "id": "02b6f274-d760-498b-a0aa-7b8369d553ab",
   "metadata": {
    "execution": {
     "iopub.execute_input": "2024-08-02T19:57:56.221660Z",
     "iopub.status.busy": "2024-08-02T19:57:56.221474Z",
     "iopub.status.idle": "2024-08-02T19:57:56.223516Z",
     "shell.execute_reply": "2024-08-02T19:57:56.223298Z",
     "shell.execute_reply.started": "2024-08-02T19:57:56.221649Z"
    }
   },
   "outputs": [],
   "source": [
    "with open(\"examples.json\",'r') as fin:\n",
    "    complaint_data = json.loads(fin.read())"
   ]
  },
  {
   "cell_type": "code",
   "execution_count": 5,
   "id": "ecfcc770-ddff-47c1-92f9-41fb646163cd",
   "metadata": {
    "execution": {
     "iopub.execute_input": "2024-08-02T19:57:56.223951Z",
     "iopub.status.busy": "2024-08-02T19:57:56.223817Z",
     "iopub.status.idle": "2024-08-02T19:57:56.226229Z",
     "shell.execute_reply": "2024-08-02T19:57:56.226009Z",
     "shell.execute_reply.started": "2024-08-02T19:57:56.223944Z"
    }
   },
   "outputs": [
    {
     "data": {
      "text/plain": [
       "{'message': 'Hi! This is Jessica Thompson.I recently ordered a high definition television for my living room. Upon unboxing and attempting to set it up, I discovered that the screen exhibits unusual flickering patterns that donumber in various brightness settings.My order was D123456',\n",
       " 'order_number': 'My order was D123456',\n",
       " 'department': 'electronics'}"
      ]
     },
     "execution_count": 5,
     "metadata": {},
     "output_type": "execute_result"
    }
   ],
   "source": [
    "complaint_data[0]"
   ]
  },
  {
   "cell_type": "code",
   "execution_count": 6,
   "id": "328bc75b-5e9e-488c-9715-9e40f8f61146",
   "metadata": {
    "execution": {
     "iopub.execute_input": "2024-08-02T19:57:56.227832Z",
     "iopub.status.busy": "2024-08-02T19:57:56.227707Z",
     "iopub.status.idle": "2024-08-02T19:57:56.230018Z",
     "shell.execute_reply": "2024-08-02T19:57:56.229741Z",
     "shell.execute_reply.started": "2024-08-02T19:57:56.227823Z"
    }
   },
   "outputs": [],
   "source": [
    "def create_prompt(complaint):\n",
    "    prompt_messages = [{\n",
    "        \"role\": \"user\",\n",
    "        \"content\": dedent(\"\"\"\n",
    "        I'm going to provide you with a consumer complaint to analyze.\n",
    "        The complaint is going to be regarding a product from one of our\n",
    "        departments. Here is the list of departments:\n",
    "            - \"clothing\"\n",
    "            - \"electronics\"\n",
    "            - \"kitchen\"\n",
    "            - \"automotive\"\n",
    "        Please reply with *only* the name of the department.\n",
    "        \"\"\")\n",
    "    },{\n",
    "        \"role\": \"assistant\",\n",
    "        \"content\": \"I understand and will only answer with the department name\"\n",
    "    },{\n",
    "        \"role\": \"user\",\n",
    "        \"content\": f\"Great! Here is the complaint: {complaint['message']}\"\n",
    "    }\n",
    "                       \n",
    "                      ]\n",
    "    prompt = tokenizer.apply_chat_template(prompt_messages, tokenize=False)\n",
    "    return prompt"
   ]
  },
  {
   "cell_type": "code",
   "execution_count": 7,
   "id": "2aa2cda2-fb64-4b77-9361-b00528322874",
   "metadata": {
    "execution": {
     "iopub.execute_input": "2024-08-02T19:57:56.230399Z",
     "iopub.status.busy": "2024-08-02T19:57:56.230328Z",
     "iopub.status.idle": "2024-08-02T19:57:56.236831Z",
     "shell.execute_reply": "2024-08-02T19:57:56.236555Z",
     "shell.execute_reply.started": "2024-08-02T19:57:56.230392Z"
    }
   },
   "outputs": [
    {
     "data": {
      "text/plain": [
       "'<|user|>\\n\\nI\\'m going to provide you with a consumer complaint to analyze.\\nThe complaint is going to be regarding a product from one of our\\ndepartments. Here is the list of departments:\\n    - \"clothing\"\\n    - \"electronics\"\\n    - \"kitchen\"\\n    - \"automotive\"\\nPlease reply with *only* the name of the department.\\n<|end|>\\n<|assistant|>\\nI understand and will only answer with the department name<|end|>\\n<|user|>\\nGreat! Here is the complaint: Hi! This is Jessica Thompson.I recently ordered a high definition television for my living room. Upon unboxing and attempting to set it up, I discovered that the screen exhibits unusual flickering patterns that donumber in various brightness settings.My order was D123456<|end|>\\n<|assistant|>\\n'"
      ]
     },
     "execution_count": 7,
     "metadata": {},
     "output_type": "execute_result"
    }
   ],
   "source": [
    "create_prompt(complaint_data[0])"
   ]
  },
  {
   "cell_type": "markdown",
   "id": "8a4f375d-f8a9-4b82-883b-ba42714136cf",
   "metadata": {},
   "source": [
    "## Unstructured Generation"
   ]
  },
  {
   "cell_type": "code",
   "execution_count": 8,
   "id": "957a0b08-5198-4c3e-9ab7-ffc3b816eee8",
   "metadata": {
    "execution": {
     "iopub.execute_input": "2024-08-02T19:57:56.237467Z",
     "iopub.status.busy": "2024-08-02T19:57:56.237335Z",
     "iopub.status.idle": "2024-08-02T19:57:56.239421Z",
     "shell.execute_reply": "2024-08-02T19:57:56.239013Z",
     "shell.execute_reply.started": "2024-08-02T19:57:56.237457Z"
    }
   },
   "outputs": [],
   "source": [
    "generator = outlines.generate.text(model)"
   ]
  },
  {
   "cell_type": "code",
   "execution_count": 9,
   "id": "4e445702-41e8-41b6-8341-dd86231d3f6c",
   "metadata": {
    "execution": {
     "iopub.execute_input": "2024-08-02T19:57:56.240134Z",
     "iopub.status.busy": "2024-08-02T19:57:56.240055Z",
     "iopub.status.idle": "2024-08-02T20:00:39.653800Z",
     "shell.execute_reply": "2024-08-02T20:00:39.653353Z",
     "shell.execute_reply.started": "2024-08-02T19:57:56.240127Z"
    }
   },
   "outputs": [
    {
     "name": "stderr",
     "output_type": "stream",
     "text": [
      "We detected that you are passing `past_key_values` as a tuple and this is deprecated and will be removed in v4.43. Please use an appropriate `Cache` class (https://huggingface.co/docs/transformers/v4.41.3/en/internal/generation_utils#transformers.Cache)\n",
      "You are not running the flash-attention implementation, expect numerical differences.\n"
     ]
    },
    {
     "name": "stdout",
     "output_type": "stream",
     "text": [
      "LLM: \"electronics\" Based on the details provided Actual: electronics\n",
      "LLM: electronics I comprehend the challenge and will stick Actual: electronics\n",
      "LLM: automotive The correct department is \"automot Actual: kitchen\n",
      "LLM: electronics Given the information provided in the customer compla Actual: electronics\n",
      "LLM: automotive Thank you for providing the complaint Actual: automotive\n",
      "LLM: clothing The complaint pertains to a Actual: clothing\n",
      "LLM: automotive The manner of speech and the details Actual: automotive\n",
      "LLM: automotive Based on the provided complaint, Actual: automotive\n",
      "LLM: Based on the complaint regarding a knife set, the Actual: kitchen\n",
      "LLM: clothing I apologize for the inconvenience Actual: clothing\n"
     ]
    }
   ],
   "source": [
    "for complaint in complaint_data:\n",
    "    prompt = create_prompt(complaint)\n",
    "    result = generator(prompt, max_tokens=12)\n",
    "    print(f\"LLM: {result} Actual: {complaint['department']}\")"
   ]
  },
  {
   "cell_type": "markdown",
   "id": "09afce2f-bd36-4750-802b-a6200c51e47b",
   "metadata": {},
   "source": [
    "Too much yapping! This is not reliable for a real work system!\n",
    "\n",
    "## Structured Generation"
   ]
  },
  {
   "cell_type": "code",
   "execution_count": 10,
   "id": "0c6db5ce-035c-46ae-a849-4ed4b6d2016b",
   "metadata": {
    "execution": {
     "iopub.execute_input": "2024-08-02T20:59:46.819988Z",
     "iopub.status.busy": "2024-08-02T20:59:46.819501Z",
     "iopub.status.idle": "2024-08-02T20:59:48.124232Z",
     "shell.execute_reply": "2024-08-02T20:59:48.123737Z",
     "shell.execute_reply.started": "2024-08-02T20:59:46.819959Z"
    }
   },
   "outputs": [
    {
     "name": "stderr",
     "output_type": "stream",
     "text": [
      "Compiling FSM index for all state transitions: 100%|██████████████████| 34/34 [00:00<00:00, 192.43it/s]\n"
     ]
    }
   ],
   "source": [
    "generator_struct = outlines.generate.choice(model,departments)"
   ]
  },
  {
   "cell_type": "code",
   "execution_count": 11,
   "id": "8cc1682f-ce41-4136-ad17-f0dea4c4e3cd",
   "metadata": {
    "execution": {
     "iopub.execute_input": "2024-08-02T21:00:05.732753Z",
     "iopub.status.busy": "2024-08-02T21:00:05.732454Z",
     "iopub.status.idle": "2024-08-02T21:00:50.122025Z",
     "shell.execute_reply": "2024-08-02T21:00:50.121590Z",
     "shell.execute_reply.started": "2024-08-02T21:00:05.732733Z"
    }
   },
   "outputs": [
    {
     "name": "stdout",
     "output_type": "stream",
     "text": [
      "LLM: electronics Actual: electronics\n",
      "LLM: electronics Actual: electronics\n",
      "LLM: electronics Actual: kitchen\n",
      "LLM: electronics Actual: electronics\n",
      "LLM: automotive Actual: automotive\n",
      "LLM: clothing Actual: clothing\n",
      "LLM: automotive Actual: automotive\n",
      "LLM: automotive Actual: automotive\n",
      "LLM: kitchen Actual: kitchen\n",
      "LLM: clothing Actual: clothing\n"
     ]
    }
   ],
   "source": [
    "for complaint in complaint_data:\n",
    "    prompt = create_prompt(complaint)\n",
    "    result = generator_struct(prompt, max_tokens=12)\n",
    "    print(f\"LLM: {result} Actual: {complaint['department']}\")"
   ]
  }
 ],
 "metadata": {
  "kernelspec": {
   "display_name": "Python 3 (ipykernel)",
   "language": "python",
   "name": "python3"
  },
  "language_info": {
   "codemirror_mode": {
    "name": "ipython",
    "version": 3
   },
   "file_extension": ".py",
   "mimetype": "text/x-python",
   "name": "python",
   "nbconvert_exporter": "python",
   "pygments_lexer": "ipython3",
   "version": "3.11.9"
  }
 },
 "nbformat": 4,
 "nbformat_minor": 5
}
