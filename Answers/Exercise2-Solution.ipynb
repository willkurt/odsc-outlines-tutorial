{
 "cells": [
  {
   "cell_type": "markdown",
   "id": "7aa740b3-44c0-4679-9d3e-14c463b3502a",
   "metadata": {},
   "source": [
    "# Exercise 2 - Generating JSON Structured Output\n",
    "\n",
    "In this exercise we'll extend our zero-shot classifer into something a bit more useful for everyday software. We'll be using our LLM to process the complaint text into JSON with the order information. Specifically our JSON contain the following information:\n",
    "\n",
    "- User's First Name.\n",
    "- User's Last Name.\n",
    "- The Department of the complaint is about.\n",
    "- A propertly formatted order number.\n",
    "\n",
    "It's not hard to imagine such a tool being used in a real world application were we want to automatically parse out complaint information and dispatch it to the correct department. As you'll see, even a relatively weak LLM such as Qwen2-0.5B does a surprsingly good job and extracting information for us.\n",
    "\n",
    "This exercise is a bit more involved that the last one. You'll see that most of the work required involved defining Pydantic classes to describe the desired JSON output. We can the trivially uses `outlines.generate.json` to ensure we get structured outputs exactly as we want them."
   ]
  },
  {
   "cell_type": "markdown",
   "id": "b92c3cbc-bae8-4154-9357-0eac59188a1c",
   "metadata": {},
   "source": [
    "## Loading the model\n",
    "\n",
    "As before we need to import the necessary libraries and initialize our model and tokenizer.\n",
    "\n",
    "**Reminder:** If you are not running on an Apple Silicon device, chaing the `device` value."
   ]
  },
  {
   "cell_type": "code",
   "execution_count": 1,
   "id": "ace3862e-33e5-48ef-8d5b-c61087c1eb77",
   "metadata": {
    "execution": {
     "iopub.execute_input": "2024-08-20T18:40:40.747766Z",
     "iopub.status.busy": "2024-08-20T18:40:40.747537Z",
     "iopub.status.idle": "2024-08-20T18:40:42.022076Z",
     "shell.execute_reply": "2024-08-20T18:40:42.021711Z",
     "shell.execute_reply.started": "2024-08-20T18:40:40.747735Z"
    }
   },
   "outputs": [],
   "source": [
    "import json\n",
    "import outlines\n",
    "import torch\n",
    "from transformers import AutoTokenizer\n",
    "from textwrap import dedent"
   ]
  },
  {
   "cell_type": "code",
   "execution_count": 2,
   "id": "bdc9a6c1-22c0-4d6c-9cec-aeae462ebb4e",
   "metadata": {
    "execution": {
     "iopub.execute_input": "2024-08-20T18:40:42.023213Z",
     "iopub.status.busy": "2024-08-20T18:40:42.023072Z",
     "iopub.status.idle": "2024-08-20T18:40:44.483307Z",
     "shell.execute_reply": "2024-08-20T18:40:44.483022Z",
     "shell.execute_reply.started": "2024-08-20T18:40:42.023206Z"
    }
   },
   "outputs": [],
   "source": [
    "model_name = \"Qwen/Qwen2-0.5B-Instruct\"\n",
    "model = outlines.models.transformers(\n",
    "    model_name,\n",
    "    device='mps',\n",
    "    model_kwargs={\n",
    "        'torch_dtype': torch.bfloat16,\n",
    "        'trust_remote_code': True\n",
    "    })\n",
    "tokenizer = AutoTokenizer.from_pretrained(model_name)"
   ]
  },
  {
   "cell_type": "markdown",
   "id": "6dcd6d23-accb-48b5-8adb-ecd8ee4777ff",
   "metadata": {},
   "source": [
    "And of course load the example data as well."
   ]
  },
  {
   "cell_type": "code",
   "execution_count": 3,
   "id": "28dca569-7002-48cf-ab71-454a37557b93",
   "metadata": {
    "execution": {
     "iopub.execute_input": "2024-08-20T18:40:44.483846Z",
     "iopub.status.busy": "2024-08-20T18:40:44.483682Z",
     "iopub.status.idle": "2024-08-20T18:40:44.485854Z",
     "shell.execute_reply": "2024-08-20T18:40:44.485597Z",
     "shell.execute_reply.started": "2024-08-20T18:40:44.483838Z"
    }
   },
   "outputs": [],
   "source": [
    "with open(\"../examples.json\",'r') as fin:\n",
    "    complaint_data = json.loads(fin.read())"
   ]
  },
  {
   "cell_type": "markdown",
   "id": "05937075-75f0-4064-b691-11f164dfbae7",
   "metadata": {},
   "source": [
    "## Main Exercise: Defining our Pydantic Models\n",
    "\n",
    "If you aren't familiar with [Pydantic](https://docs.pydantic.dev/latest/), it is library that uses Python classes to define what are essentially complex types in Python that can then be easily converted into JSON or a standard Python dictionary. Pydantic classes are a great way to easily describe complex structure to use with Outlines.\n",
    "\n",
    "The bulk of the work in this exercise involves filling out these classes. Where necessary as few notes have been added to help you get started.\n",
    "\n",
    "Here is some useful information to help you:\n",
    "\n",
    "The `ComplaintData` should consist of:\n",
    "\n",
    "- `first_name`: a string representing the first name.\n",
    "\n",
    "- `last_name`: a string representing the last name.\n",
    "\n",
    "- `order_number`: is an ID formated that can start with 'A', 'D', or 'Z' followed by 2 digits, a '-' and then 4 more digits.\n",
    "\n",
    "- `department`: can be any of the following: \"clothing\", \"electronics\", \"kitchen\" or \"automotive\".\n",
    "\n"
   ]
  },
  {
   "cell_type": "code",
   "execution_count": 4,
   "id": "c26cd0b4-5008-4fb6-be85-387c2d1f120a",
   "metadata": {
    "execution": {
     "iopub.execute_input": "2024-08-20T18:40:44.486233Z",
     "iopub.status.busy": "2024-08-20T18:40:44.486157Z",
     "iopub.status.idle": "2024-08-20T18:40:44.565101Z",
     "shell.execute_reply": "2024-08-20T18:40:44.564815Z",
     "shell.execute_reply.started": "2024-08-20T18:40:44.486226Z"
    }
   },
   "outputs": [],
   "source": [
    "from pydantic import BaseModel, Field, constr\n",
    "from enum import Enum\n",
    "\n",
    "\n",
    "class Department(str, Enum):\n",
    "    clothing = \"clothing\"\n",
    "    electronics = \"electronics\"\n",
    "    kitchen = \"kitchen\"\n",
    "    automotive = \"automotive\"\n",
    "\n",
    "class ComplaintData(BaseModel):\n",
    "    first_name: str\n",
    "    last_name: str\n",
    "    order_number: str = Field(pattern=r'[ADZ][0-9]{2}-[0-9]{4}')\n",
    "    department: Department\n",
    "    \n",
    "complaint_processor = outlines.generate.json(model, ComplaintData)"
   ]
  },
  {
   "cell_type": "markdown",
   "id": "43c0eec7-e577-44ce-9d03-e160f1c61566",
   "metadata": {},
   "source": [
    "## Prompt\n",
    "\n",
    "Similar to the last exercise the prompt is a series of messages. Note that we do specify how the output should look."
   ]
  },
  {
   "cell_type": "code",
   "execution_count": 5,
   "id": "eae089fd-1389-4f37-9d6a-1be1cf69867a",
   "metadata": {
    "execution": {
     "iopub.execute_input": "2024-08-20T18:40:44.565555Z",
     "iopub.status.busy": "2024-08-20T18:40:44.565470Z",
     "iopub.status.idle": "2024-08-20T18:40:44.567644Z",
     "shell.execute_reply": "2024-08-20T18:40:44.567429Z",
     "shell.execute_reply.started": "2024-08-20T18:40:44.565547Z"
    }
   },
   "outputs": [],
   "source": [
    "def create_prompt(complaint):\n",
    "    complaint_messages = [\n",
    "        {\n",
    "        'role': 'user',\n",
    "        'content': f\"\"\"\n",
    "        You are a complaint processing assistent, you aim is to process complaints and return the following intformation in this JSON format:\n",
    "        {{\n",
    "            'first_name': <first name>,\n",
    "            'last_name': <last name>,\n",
    "            'order number': <order number has the following format (ADZ)XX-XXXXX>,\n",
    "            'department': <{\"|\".join([e.value for e in Department])}>,\n",
    "        }}\n",
    "        \"\"\"},\n",
    "        {'role': 'assistant',\n",
    "         'content': \"I undersand and will process the complaints in the JSON format you described\"\n",
    "        },\n",
    "        {'role': 'user',\n",
    "        'content': complaint['message']\n",
    "        }\n",
    "    ]\n",
    "    complaint_prompt = tokenizer.apply_chat_template(complaint_messages, tokenize=False)\n",
    "    return complaint_prompt"
   ]
  },
  {
   "cell_type": "markdown",
   "id": "195bceb3-db99-4673-9db4-9388c2597c75",
   "metadata": {},
   "source": [
    "## Exercise - Create the complaint processer\n",
    "\n",
    "The final bit of this exercise is the use our Pydantic model in order to create a `complaint_processor` that automatically. This can be done using `outlines.generate.json`"
   ]
  },
  {
   "cell_type": "code",
   "execution_count": 6,
   "id": "e244b48e-8aed-44fb-b331-51959e78a2be",
   "metadata": {
    "execution": {
     "iopub.execute_input": "2024-08-20T18:40:44.568014Z",
     "iopub.status.busy": "2024-08-20T18:40:44.567947Z",
     "iopub.status.idle": "2024-08-20T18:40:44.623868Z",
     "shell.execute_reply": "2024-08-20T18:40:44.623565Z",
     "shell.execute_reply.started": "2024-08-20T18:40:44.568006Z"
    }
   },
   "outputs": [],
   "source": [
    "complaint_processor = outlines.generate.json(model, ComplaintData)"
   ]
  },
  {
   "cell_type": "markdown",
   "id": "db5f0063-de98-4fed-87dc-b48c47cfcdd1",
   "metadata": {},
   "source": [
    "Finally we can test our an see how our processor does!"
   ]
  },
  {
   "cell_type": "code",
   "execution_count": 7,
   "id": "fb7f23cd-b36c-41d3-b58b-02a9151b572e",
   "metadata": {
    "execution": {
     "iopub.execute_input": "2024-08-20T18:40:44.625403Z",
     "iopub.status.busy": "2024-08-20T18:40:44.625305Z",
     "iopub.status.idle": "2024-08-20T18:41:14.711099Z",
     "shell.execute_reply": "2024-08-20T18:41:14.710781Z",
     "shell.execute_reply.started": "2024-08-20T18:40:44.625394Z"
    }
   },
   "outputs": [
    {
     "name": "stderr",
     "output_type": "stream",
     "text": [
      "We detected that you are passing `past_key_values` as a tuple and this is deprecated and will be removed in v4.43. Please use an appropriate `Cache` class (https://huggingface.co/docs/transformers/v4.41.3/en/internal/generation_utils#transformers.Cache)\n"
     ]
    }
   ],
   "source": [
    "results = []\n",
    "for complaint in complaint_data[0:10]:\n",
    "    prompt = create_prompt(complaint)\n",
    "    result = complaint_processor(prompt)\n",
    "    results.append(result)"
   ]
  },
  {
   "cell_type": "code",
   "execution_count": 8,
   "id": "7ce908dc-8adf-4001-bcbd-9266a740fbbe",
   "metadata": {
    "execution": {
     "iopub.execute_input": "2024-08-20T18:41:14.711593Z",
     "iopub.status.busy": "2024-08-20T18:41:14.711500Z",
     "iopub.status.idle": "2024-08-20T18:41:14.714441Z",
     "shell.execute_reply": "2024-08-20T18:41:14.714217Z",
     "shell.execute_reply.started": "2024-08-20T18:41:14.711584Z"
    }
   },
   "outputs": [
    {
     "data": {
      "text/plain": [
       "'Hi, my name is Jane Doeandcommn.I recently ordered a stylish black pair of headphones from your store, and unfortunately, they failed to work on the first try. Despite troubleshooting instructions in the manual, there seems to be no response from the device.The order number is D12-3456'"
      ]
     },
     "execution_count": 8,
     "metadata": {},
     "output_type": "execute_result"
    }
   ],
   "source": [
    "idx = 3\n",
    "complaint_data[idx]['message']"
   ]
  },
  {
   "cell_type": "code",
   "execution_count": 9,
   "id": "c36eb76b-657c-4b2e-9ccb-6f51fe91aa15",
   "metadata": {
    "execution": {
     "iopub.execute_input": "2024-08-20T18:41:14.714871Z",
     "iopub.status.busy": "2024-08-20T18:41:14.714804Z",
     "iopub.status.idle": "2024-08-20T18:41:14.716833Z",
     "shell.execute_reply": "2024-08-20T18:41:14.716608Z",
     "shell.execute_reply.started": "2024-08-20T18:41:14.714864Z"
    },
    "scrolled": true
   },
   "outputs": [
    {
     "data": {
      "text/plain": [
       "'{\"first_name\":\"Jane\",\"last_name\":\"Doe\",\"order_number\":\"D12-3456\",\"department\":\"electronics\"}'"
      ]
     },
     "execution_count": 9,
     "metadata": {},
     "output_type": "execute_result"
    }
   ],
   "source": [
    "results[idx].json()"
   ]
  },
  {
   "cell_type": "code",
   "execution_count": null,
   "id": "970f629e-f738-4336-9bfa-e5b4458be1be",
   "metadata": {},
   "outputs": [],
   "source": []
  }
 ],
 "metadata": {
  "kernelspec": {
   "display_name": "Python 3 (ipykernel)",
   "language": "python",
   "name": "python3"
  },
  "language_info": {
   "codemirror_mode": {
    "name": "ipython",
    "version": 3
   },
   "file_extension": ".py",
   "mimetype": "text/x-python",
   "name": "python",
   "nbconvert_exporter": "python",
   "pygments_lexer": "ipython3",
   "version": "3.11.5"
  }
 },
 "nbformat": 4,
 "nbformat_minor": 5
}
