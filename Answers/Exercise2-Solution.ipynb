{
 "cells": [
  {
   "cell_type": "code",
   "execution_count": 1,
   "id": "ace3862e-33e5-48ef-8d5b-c61087c1eb77",
   "metadata": {
    "execution": {
     "iopub.execute_input": "2024-08-16T16:09:59.391130Z",
     "iopub.status.busy": "2024-08-16T16:09:59.390908Z",
     "iopub.status.idle": "2024-08-16T16:10:00.661042Z",
     "shell.execute_reply": "2024-08-16T16:10:00.660749Z",
     "shell.execute_reply.started": "2024-08-16T16:09:59.391104Z"
    }
   },
   "outputs": [],
   "source": [
    "import json\n",
    "import outlines\n",
    "import torch\n",
    "from transformers import AutoTokenizer\n",
    "from textwrap import dedent"
   ]
  },
  {
   "cell_type": "code",
   "execution_count": 2,
   "id": "bdc9a6c1-22c0-4d6c-9cec-aeae462ebb4e",
   "metadata": {
    "execution": {
     "iopub.execute_input": "2024-08-16T16:10:00.662142Z",
     "iopub.status.busy": "2024-08-16T16:10:00.662002Z",
     "iopub.status.idle": "2024-08-16T16:10:02.460997Z",
     "shell.execute_reply": "2024-08-16T16:10:02.460618Z",
     "shell.execute_reply.started": "2024-08-16T16:10:00.662135Z"
    }
   },
   "outputs": [],
   "source": [
    "model_name = \"Qwen/Qwen2-0.5B-Instruct\"\n",
    "model = outlines.models.transformers(\n",
    "    model_name,\n",
    "    device='mps',\n",
    "    model_kwargs={\n",
    "        'torch_dtype': torch.bfloat16,\n",
    "        'trust_remote_code': True\n",
    "    })\n",
    "tokenizer = AutoTokenizer.from_pretrained(model_name)"
   ]
  },
  {
   "cell_type": "code",
   "execution_count": 5,
   "id": "28dca569-7002-48cf-ab71-454a37557b93",
   "metadata": {
    "execution": {
     "iopub.execute_input": "2024-08-16T16:10:02.466125Z",
     "iopub.status.busy": "2024-08-16T16:10:02.466057Z",
     "iopub.status.idle": "2024-08-16T16:10:02.468005Z",
     "shell.execute_reply": "2024-08-16T16:10:02.467804Z",
     "shell.execute_reply.started": "2024-08-16T16:10:02.466117Z"
    }
   },
   "outputs": [],
   "source": [
    "with open(\"../examples.json\",'r') as fin:\n",
    "    complaint_data = json.loads(fin.read())"
   ]
  },
  {
   "cell_type": "code",
   "execution_count": 6,
   "id": "c26cd0b4-5008-4fb6-be85-387c2d1f120a",
   "metadata": {
    "execution": {
     "iopub.execute_input": "2024-08-16T16:10:02.468326Z",
     "iopub.status.busy": "2024-08-16T16:10:02.468254Z",
     "iopub.status.idle": "2024-08-16T16:10:08.491150Z",
     "shell.execute_reply": "2024-08-16T16:10:08.490841Z",
     "shell.execute_reply.started": "2024-08-16T16:10:02.468319Z"
    }
   },
   "outputs": [
    {
     "name": "stderr",
     "output_type": "stream",
     "text": [
      "Compiling FSM index for all state transitions: 100%|██| 134/134 [00:03<00:00, 42.10it/s]\n"
     ]
    }
   ],
   "source": [
    "from pydantic import BaseModel, Field, constr\n",
    "from enum import Enum\n",
    "\n",
    "\n",
    "class Department(str, Enum):\n",
    "    clothing = \"clothing\"\n",
    "    electronics = \"electronics\"\n",
    "    kitchen = \"kitchen\"\n",
    "    automotive = \"automotive\"\n",
    "\n",
    "class ComplaintData(BaseModel):\n",
    "    first_name: str\n",
    "    last_name: str\n",
    "    order_number: str = Field(pattern=r'[ADZ][0-9]{2}-[0-9]{4}')\n",
    "    department: Department\n",
    "    \n",
    "complaint_processor = outlines.generate.json(model, ComplaintData)"
   ]
  },
  {
   "cell_type": "code",
   "execution_count": 7,
   "id": "eae089fd-1389-4f37-9d6a-1be1cf69867a",
   "metadata": {
    "execution": {
     "iopub.execute_input": "2024-08-16T16:10:08.492768Z",
     "iopub.status.busy": "2024-08-16T16:10:08.492665Z",
     "iopub.status.idle": "2024-08-16T16:10:08.494875Z",
     "shell.execute_reply": "2024-08-16T16:10:08.494685Z",
     "shell.execute_reply.started": "2024-08-16T16:10:08.492759Z"
    }
   },
   "outputs": [],
   "source": [
    "def create_prompt(complaint):\n",
    "    complaint_messages = [\n",
    "        {\n",
    "        'role': 'user',\n",
    "        'content': f\"\"\"\n",
    "        You are a complaint processing assistent, you aim is to process complaints and return the following intformation in this JSON format:\n",
    "        {{\n",
    "            'first_name': <first name>,\n",
    "            'last_name': <last name>,\n",
    "            'order number': <order number has the following format (ADZ)XX-XXXXX>,\n",
    "            'department': <{\"|\".join([e.value for e in Department])}>,\n",
    "        }}\n",
    "        \"\"\"},\n",
    "        {'role': 'assistant',\n",
    "         'content': \"I undersand and will process the complaints in the JSON format you described\"\n",
    "        },\n",
    "        {'role': 'user',\n",
    "        'content': complaint['message']\n",
    "        }\n",
    "    ]\n",
    "    complaint_prompt = tokenizer.apply_chat_template(complaint_messages, tokenize=False)\n",
    "    return complaint_prompt"
   ]
  },
  {
   "cell_type": "code",
   "execution_count": 8,
   "id": "e244b48e-8aed-44fb-b331-51959e78a2be",
   "metadata": {
    "execution": {
     "iopub.execute_input": "2024-08-16T16:10:08.495349Z",
     "iopub.status.busy": "2024-08-16T16:10:08.495240Z",
     "iopub.status.idle": "2024-08-16T16:10:10.670708Z",
     "shell.execute_reply": "2024-08-16T16:10:10.670264Z",
     "shell.execute_reply.started": "2024-08-16T16:10:08.495340Z"
    }
   },
   "outputs": [
    {
     "name": "stderr",
     "output_type": "stream",
     "text": [
      "We detected that you are passing `past_key_values` as a tuple and this is deprecated and will be removed in v4.43. Please use an appropriate `Cache` class (https://huggingface.co/docs/transformers/v4.41.3/en/internal/generation_utils#transformers.Cache)\n"
     ]
    }
   ],
   "source": [
    "complaint_processor = outlines.generate.json(model, ComplaintData)"
   ]
  },
  {
   "cell_type": "code",
   "execution_count": 13,
   "id": "fb7f23cd-b36c-41d3-b58b-02a9151b572e",
   "metadata": {
    "execution": {
     "iopub.execute_input": "2024-08-16T16:12:20.172413Z",
     "iopub.status.busy": "2024-08-16T16:12:20.171934Z",
     "iopub.status.idle": "2024-08-16T16:12:37.896624Z",
     "shell.execute_reply": "2024-08-16T16:12:37.896228Z",
     "shell.execute_reply.started": "2024-08-16T16:12:20.172387Z"
    }
   },
   "outputs": [],
   "source": [
    "results = []\n",
    "for complaint in complaint_data[0:10]:\n",
    "    prompt = create_prompt(complaint)\n",
    "    result = complaint_processor(prompt)\n",
    "    results.append(result)"
   ]
  },
  {
   "cell_type": "code",
   "execution_count": 14,
   "id": "7ce908dc-8adf-4001-bcbd-9266a740fbbe",
   "metadata": {
    "execution": {
     "iopub.execute_input": "2024-08-16T16:15:46.670472Z",
     "iopub.status.busy": "2024-08-16T16:15:46.669995Z",
     "iopub.status.idle": "2024-08-16T16:15:46.675059Z",
     "shell.execute_reply": "2024-08-16T16:15:46.674547Z",
     "shell.execute_reply.started": "2024-08-16T16:15:46.670444Z"
    }
   },
   "outputs": [
    {
     "data": {
      "text/plain": [
       "'Hi, my name is Sarah Collins.I recently ordered your SmartWidget, but it hasn stopped working entirely! I just purchased the RapidCharge battery pack that does not charge at all.My order was Z123456'"
      ]
     },
     "execution_count": 14,
     "metadata": {},
     "output_type": "execute_result"
    }
   ],
   "source": [
    "idx = 4\n",
    "complaint_data[idx]['message']"
   ]
  },
  {
   "cell_type": "code",
   "execution_count": 15,
   "id": "c36eb76b-657c-4b2e-9ccb-6f51fe91aa15",
   "metadata": {
    "execution": {
     "iopub.execute_input": "2024-08-16T16:15:47.093194Z",
     "iopub.status.busy": "2024-08-16T16:15:47.092910Z",
     "iopub.status.idle": "2024-08-16T16:15:47.097167Z",
     "shell.execute_reply": "2024-08-16T16:15:47.096479Z",
     "shell.execute_reply.started": "2024-08-16T16:15:47.093176Z"
    },
    "scrolled": true
   },
   "outputs": [
    {
     "data": {
      "text/plain": [
       "'{\"first_name\":\"Sarah\",\"last_name\":\"Collins\",\"order_number\":\"Z12-3456\",\"department\":\"electronics\"}'"
      ]
     },
     "execution_count": 15,
     "metadata": {},
     "output_type": "execute_result"
    }
   ],
   "source": [
    "results[idx].json()"
   ]
  },
  {
   "cell_type": "code",
   "execution_count": null,
   "id": "970f629e-f738-4336-9bfa-e5b4458be1be",
   "metadata": {},
   "outputs": [],
   "source": []
  }
 ],
 "metadata": {
  "kernelspec": {
   "display_name": "Python 3 (ipykernel)",
   "language": "python",
   "name": "python3"
  },
  "language_info": {
   "codemirror_mode": {
    "name": "ipython",
    "version": 3
   },
   "file_extension": ".py",
   "mimetype": "text/x-python",
   "name": "python",
   "nbconvert_exporter": "python",
   "pygments_lexer": "ipython3",
   "version": "3.11.5"
  }
 },
 "nbformat": 4,
 "nbformat_minor": 5
}
