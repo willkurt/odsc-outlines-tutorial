{
 "cells": [
  {
   "cell_type": "code",
   "execution_count": 1,
   "id": "ace3862e-33e5-48ef-8d5b-c61087c1eb77",
   "metadata": {
    "execution": {
     "iopub.execute_input": "2024-08-13T21:17:24.042009Z",
     "iopub.status.busy": "2024-08-13T21:17:24.041763Z",
     "iopub.status.idle": "2024-08-13T21:17:24.946079Z",
     "shell.execute_reply": "2024-08-13T21:17:24.945789Z",
     "shell.execute_reply.started": "2024-08-13T21:17:24.041980Z"
    }
   },
   "outputs": [],
   "source": [
    "import json\n",
    "import outlines\n",
    "from transformers import AutoTokenizer\n",
    "import torch\n",
    "from textwrap import dedent"
   ]
  },
  {
   "cell_type": "code",
   "execution_count": 2,
   "id": "bdc9a6c1-22c0-4d6c-9cec-aeae462ebb4e",
   "metadata": {
    "execution": {
     "iopub.execute_input": "2024-08-13T21:17:24.947339Z",
     "iopub.status.busy": "2024-08-13T21:17:24.947216Z",
     "iopub.status.idle": "2024-08-13T21:17:35.301189Z",
     "shell.execute_reply": "2024-08-13T21:17:35.300839Z",
     "shell.execute_reply.started": "2024-08-13T21:17:24.947330Z"
    }
   },
   "outputs": [
    {
     "name": "stderr",
     "output_type": "stream",
     "text": [
      "`flash-attention` package not found, consider installing for better performance: No module named 'flash_attn'.\n",
      "Current `flash-attenton` does not support `window_size`. Either upgrade or use `attn_implementation='eager'`.\n"
     ]
    },
    {
     "data": {
      "application/vnd.jupyter.widget-view+json": {
       "model_id": "ca8e7a5dfd274945890fef1e2ce432c4",
       "version_major": 2,
       "version_minor": 0
      },
      "text/plain": [
       "Loading checkpoint shards:   0%|          | 0/6 [00:00<?, ?it/s]"
      ]
     },
     "metadata": {},
     "output_type": "display_data"
    },
    {
     "name": "stderr",
     "output_type": "stream",
     "text": [
      "Special tokens have been added in the vocabulary, make sure the associated word embeddings are fine-tuned or trained.\n",
      "Special tokens have been added in the vocabulary, make sure the associated word embeddings are fine-tuned or trained.\n"
     ]
    }
   ],
   "source": [
    "model_name = \"microsoft/Phi-3-medium-4k-instruct\"\n",
    "model = outlines.models.transformers(\n",
    "    model_name,\n",
    "    model_kwargs={\n",
    "        'trust_remote_code': True\n",
    "    })\n",
    "tokenizer = AutoTokenizer.from_pretrained(model_name)"
   ]
  },
  {
   "cell_type": "code",
   "execution_count": 3,
   "id": "28dca569-7002-48cf-ab71-454a37557b93",
   "metadata": {
    "execution": {
     "iopub.execute_input": "2024-08-13T21:17:35.301915Z",
     "iopub.status.busy": "2024-08-13T21:17:35.301801Z",
     "iopub.status.idle": "2024-08-13T21:17:35.304445Z",
     "shell.execute_reply": "2024-08-13T21:17:35.304105Z",
     "shell.execute_reply.started": "2024-08-13T21:17:35.301902Z"
    }
   },
   "outputs": [],
   "source": [
    "with open(\"../examples.json\",'r') as fin:\n",
    "    complaint_data = json.loads(fin.read())"
   ]
  },
  {
   "cell_type": "code",
   "execution_count": 4,
   "id": "c26cd0b4-5008-4fb6-be85-387c2d1f120a",
   "metadata": {
    "execution": {
     "iopub.execute_input": "2024-08-13T21:17:35.305084Z",
     "iopub.status.busy": "2024-08-13T21:17:35.304968Z",
     "iopub.status.idle": "2024-08-13T21:17:35.309359Z",
     "shell.execute_reply": "2024-08-13T21:17:35.308895Z",
     "shell.execute_reply.started": "2024-08-13T21:17:35.305074Z"
    }
   },
   "outputs": [],
   "source": [
    "from pydantic import BaseModel, Field, constr\n",
    "from enum import Enum\n",
    "\n",
    "\n",
    "class Department(str, Enum):\n",
    "    clothing = \"clothing\"\n",
    "    electronics = \"electronics\"\n",
    "    kitchen = \"kitchen\"\n",
    "    automotive = \"automotive\"\n",
    "\n",
    "class ComplaintData(BaseModel):\n",
    "    first_name: str\n",
    "    last_name: str\n",
    "    order_number: str = Field(pattern=r'[ADZ][0-9]{2}-[0-9]{4}')\n",
    "    department: Department\n",
    "    \n",
    "complaint_processor = outlines.generate.json(model, ComplaintData)"
   ]
  },
  {
   "cell_type": "code",
   "execution_count": 5,
   "id": "eae089fd-1389-4f37-9d6a-1be1cf69867a",
   "metadata": {
    "execution": {
     "iopub.execute_input": "2024-08-13T21:17:35.310261Z",
     "iopub.status.busy": "2024-08-13T21:17:35.309981Z",
     "iopub.status.idle": "2024-08-13T21:17:35.312598Z",
     "shell.execute_reply": "2024-08-13T21:17:35.312338Z",
     "shell.execute_reply.started": "2024-08-13T21:17:35.310251Z"
    }
   },
   "outputs": [],
   "source": [
    "def create_prompt(complaint):\n",
    "    complaint_messages = [\n",
    "        {\n",
    "        'role': 'user',\n",
    "        'content': f\"\"\"\n",
    "        You are a complaint processing assistent, you aim is to process complaints and return the following intformation in this JSON format:\n",
    "        {{\n",
    "            'first_name': <first name>,\n",
    "            'last_name': <last name>,\n",
    "            'order number': <order number has the following format (ADZ)XX-XXXXX>,\n",
    "            'department': <{\"|\".join([e.value for e in Department])}>,\n",
    "        }}\n",
    "        \"\"\"},\n",
    "        {'role': 'assistant',\n",
    "         'content': \"I undersand and will process the complaints in the JSON format you described\"\n",
    "        },\n",
    "        {'role': 'user',\n",
    "        'content': complaint['message']\n",
    "        }\n",
    "    ]\n",
    "    complaint_prompt = tokenizer.apply_chat_template(complaint_messages, tokenize=False)\n",
    "    return complaint_prompt"
   ]
  },
  {
   "cell_type": "code",
   "execution_count": 6,
   "id": "e244b48e-8aed-44fb-b331-51959e78a2be",
   "metadata": {
    "execution": {
     "iopub.execute_input": "2024-08-13T21:17:35.313188Z",
     "iopub.status.busy": "2024-08-13T21:17:35.313067Z",
     "iopub.status.idle": "2024-08-13T21:17:35.343539Z",
     "shell.execute_reply": "2024-08-13T21:17:35.343215Z",
     "shell.execute_reply.started": "2024-08-13T21:17:35.313177Z"
    }
   },
   "outputs": [],
   "source": []
  },
  {
   "cell_type": "code",
   "execution_count": 7,
   "id": "fb7f23cd-b36c-41d3-b58b-02a9151b572e",
   "metadata": {
    "execution": {
     "iopub.execute_input": "2024-08-13T21:17:35.345666Z",
     "iopub.status.busy": "2024-08-13T21:17:35.345500Z",
     "iopub.status.idle": "2024-08-13T21:29:07.011638Z",
     "shell.execute_reply": "2024-08-13T21:29:07.011243Z",
     "shell.execute_reply.started": "2024-08-13T21:17:35.345650Z"
    }
   },
   "outputs": [
    {
     "name": "stderr",
     "output_type": "stream",
     "text": [
      "You are not running the flash-attention implementation, expect numerical differences.\n"
     ]
    }
   ],
   "source": [
    "results = []\n",
    "for complaint in complaint_data[0:10]:\n",
    "    prompt = create_prompt(complaint)\n",
    "    result = complaint_processor(prompt)\n",
    "    results.append(result)"
   ]
  },
  {
   "cell_type": "code",
   "execution_count": 12,
   "id": "7ce908dc-8adf-4001-bcbd-9266a740fbbe",
   "metadata": {
    "execution": {
     "iopub.execute_input": "2024-08-13T21:29:58.276739Z",
     "iopub.status.busy": "2024-08-13T21:29:58.276048Z",
     "iopub.status.idle": "2024-08-13T21:29:58.287139Z",
     "shell.execute_reply": "2024-08-13T21:29:58.286129Z",
     "shell.execute_reply.started": "2024-08-13T21:29:58.276697Z"
    }
   },
   "outputs": [
    {
     "data": {
      "text/plain": [
       "'Hi, my name is Sarah Collins.I recently ordered your SmartWidget, but it hasn stopped working entirely! I just purchased the RapidCharge battery pack that does not charge at all.My order was Z123456'"
      ]
     },
     "execution_count": 12,
     "metadata": {},
     "output_type": "execute_result"
    }
   ],
   "source": [
    "idx = 4\n",
    "complaint_data[idx]['message']"
   ]
  },
  {
   "cell_type": "code",
   "execution_count": 14,
   "id": "c36eb76b-657c-4b2e-9ccb-6f51fe91aa15",
   "metadata": {
    "execution": {
     "iopub.execute_input": "2024-08-13T21:30:15.027228Z",
     "iopub.status.busy": "2024-08-13T21:30:15.026114Z",
     "iopub.status.idle": "2024-08-13T21:30:15.045184Z",
     "shell.execute_reply": "2024-08-13T21:30:15.043665Z",
     "shell.execute_reply.started": "2024-08-13T21:30:15.027159Z"
    },
    "scrolled": true
   },
   "outputs": [
    {
     "data": {
      "text/plain": [
       "'{\"first_name\":\"Sarah\",\"last_name\":\"Collins\",\"order_number\":\"Z12-3456\",\"department\":\"electronics\"}'"
      ]
     },
     "execution_count": 14,
     "metadata": {},
     "output_type": "execute_result"
    }
   ],
   "source": [
    "results[idx].json()"
   ]
  }
 ],
 "metadata": {
  "kernelspec": {
   "display_name": "Python 3 (ipykernel)",
   "language": "python",
   "name": "python3"
  },
  "language_info": {
   "codemirror_mode": {
    "name": "ipython",
    "version": 3
   },
   "file_extension": ".py",
   "mimetype": "text/x-python",
   "name": "python",
   "nbconvert_exporter": "python",
   "pygments_lexer": "ipython3",
   "version": "3.10.0"
  }
 },
 "nbformat": 4,
 "nbformat_minor": 5
}
