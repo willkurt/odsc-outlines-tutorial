{
 "cells": [
  {
   "cell_type": "markdown",
   "id": "5ab7cafe-b712-4794-b4a6-69186eaf411c",
   "metadata": {},
   "source": [
    "# Exercise 3: Generating Complaints and the Structured Generation Workflow\n",
    "\n",
    "For this exercise we're going to work on a much more involved example. When creating this workshop I didn't want to have to hand write 50 complaints, so I decided to let an LLM do that for me! Typically we would think of a complain as *unstructured* but, as you can see in this exercise, there's almost always an advantage to using structured generation. \n",
    "\n",
    "The code for this exercise is a fair be more involved than the last two, but don't worry, you only need to work on a small part of this project.\n",
    "\n",
    "We're also going to learn about the [Structured Generation Workflow](https://blog.dottxt.co/coding-for-structured-generation.html) which make it easier to iteratively develop structured applications using LLMs."
   ]
  },
  {
   "cell_type": "code",
   "execution_count": 1,
   "id": "3a3aa6ec-89e8-4832-a008-823b099ffd0e",
   "metadata": {
    "execution": {
     "iopub.execute_input": "2024-08-20T22:59:59.371006Z",
     "iopub.status.busy": "2024-08-20T22:59:59.370787Z",
     "iopub.status.idle": "2024-08-20T23:00:00.700139Z",
     "shell.execute_reply": "2024-08-20T23:00:00.699862Z",
     "shell.execute_reply.started": "2024-08-20T22:59:59.370979Z"
    }
   },
   "outputs": [],
   "source": [
    "import json\n",
    "import outlines\n",
    "from transformers import AutoTokenizer\n",
    "import torch\n",
    "from textwrap import dedent\n",
    "from enum import Enum\n",
    "import re\n",
    "import random"
   ]
  },
  {
   "cell_type": "markdown",
   "id": "d3e5116b-4bb8-4108-931e-2e8a4e0c0273",
   "metadata": {},
   "source": [
    "**Note:** change the `DEVICE` if you are using a non-Apple Silicon device."
   ]
  },
  {
   "cell_type": "code",
   "execution_count": 2,
   "id": "cce7d7b5-e75c-46de-b51a-1cd9d3c23faa",
   "metadata": {
    "execution": {
     "iopub.execute_input": "2024-08-20T23:00:00.701266Z",
     "iopub.status.busy": "2024-08-20T23:00:00.701128Z",
     "iopub.status.idle": "2024-08-20T23:00:00.702760Z",
     "shell.execute_reply": "2024-08-20T23:00:00.702514Z",
     "shell.execute_reply.started": "2024-08-20T23:00:00.701258Z"
    }
   },
   "outputs": [],
   "source": [
    "MODEL_NAME = \"Qwen/Qwen2-0.5B-Instruct\"\n",
    "# Change to 'cuda' or 'cpu' if not using Apple Silicon\n",
    "DEVICE='mps'"
   ]
  },
  {
   "cell_type": "markdown",
   "id": "8cb98ffb-f6a6-4d83-8463-219785926f61",
   "metadata": {},
   "source": [
    "For consistency, we'll be using the Enum from the last exercise."
   ]
  },
  {
   "cell_type": "code",
   "execution_count": 3,
   "id": "d5b4b016-4b96-4ba2-8ac2-cd09839df327",
   "metadata": {
    "execution": {
     "iopub.execute_input": "2024-08-20T23:00:00.703150Z",
     "iopub.status.busy": "2024-08-20T23:00:00.703078Z",
     "iopub.status.idle": "2024-08-20T23:00:00.706558Z",
     "shell.execute_reply": "2024-08-20T23:00:00.706330Z",
     "shell.execute_reply.started": "2024-08-20T23:00:00.703142Z"
    }
   },
   "outputs": [
    {
     "data": {
      "text/plain": [
       "['clothing', 'electronics', 'kitchen', 'automotive']"
      ]
     },
     "execution_count": 3,
     "metadata": {},
     "output_type": "execute_result"
    }
   ],
   "source": [
    "class Department(str, Enum):\n",
    "    clothing = \"clothing\"\n",
    "    electronics = \"electronics\"\n",
    "    kitchen = \"kitchen\"\n",
    "    automotive = \"automotive\"\n",
    "\n",
    "DEFAULT_DEPTS = [dept.name for dept in list(Department)]\n",
    "DEFAULT_DEPTS"
   ]
  },
  {
   "cell_type": "markdown",
   "id": "de090770-a552-4507-9ef6-c9a6d0385b2f",
   "metadata": {},
   "source": [
    "## Step 1 - Draft Structure\n",
    "\n",
    "Our `ComplaintGenerator` builds complaints by breaking the complaint down into 3 steps with accompanying methods.\n",
    "\n",
    "- `intro_structure` contains the name of the person\n",
    "- `complaint_structure` contains the body of the complaint\n",
    "- `order_number_structure` gives the order number in several different ways.\n",
    "\n",
    "For this exercise we'll focus on the **intro_structure** and fill out the rest as time permits.\n",
    "\n",
    "\n",
    "All structured generation tasks, just like normal machine learnings tasks, should start with some *examples of real data*. Let's take a look at a few complaints (pretending for this exercise that these aren't generated and are real):"
   ]
  },
  {
   "cell_type": "code",
   "execution_count": 4,
   "id": "e35be45c-00fd-477e-b205-2a6ae1c7a8b2",
   "metadata": {
    "execution": {
     "iopub.execute_input": "2024-08-20T23:00:00.706891Z",
     "iopub.status.busy": "2024-08-20T23:00:00.706826Z",
     "iopub.status.idle": "2024-08-20T23:00:00.708793Z",
     "shell.execute_reply": "2024-08-20T23:00:00.708591Z",
     "shell.execute_reply.started": "2024-08-20T23:00:00.706884Z"
    }
   },
   "outputs": [],
   "source": [
    "with open(\"../examples.json\",'r') as fin:\n",
    "    complaint_data = json.loads(fin.read())"
   ]
  },
  {
   "cell_type": "markdown",
   "id": "275e5e1e-3ce7-4771-a407-22868b081197",
   "metadata": {},
   "source": [
    "Let's look at some example intros:"
   ]
  },
  {
   "cell_type": "code",
   "execution_count": 5,
   "id": "f69c36e1-3f5b-47bd-a3d6-8b8abba4dfe1",
   "metadata": {
    "execution": {
     "iopub.execute_input": "2024-08-20T23:00:00.709140Z",
     "iopub.status.busy": "2024-08-20T23:00:00.709067Z",
     "iopub.status.idle": "2024-08-20T23:00:00.711727Z",
     "shell.execute_reply": "2024-08-20T23:00:00.711471Z",
     "shell.execute_reply.started": "2024-08-20T23:00:00.709132Z"
    }
   },
   "outputs": [
    {
     "data": {
      "text/plain": [
       "{\"Hello, I'm\", 'Hi! This i'}"
      ]
     },
     "execution_count": 5,
     "metadata": {},
     "output_type": "execute_result"
    }
   ],
   "source": [
    "example_intros = [complaint['message'][0:10] for complaint in complaint_data]\n",
    "set(example_intros)"
   ]
  },
  {
   "cell_type": "markdown",
   "id": "ff1f1a12-2a9a-4d8a-bab0-758d9465d09d",
   "metadata": {},
   "source": [
    "As we can see there are only two intros (in real life we would of course expect many more), but this helps us start to imagine the patterns we would like to generate.\n",
    "\n",
    "We'll use this to draft a version of the `intro_structure` method as our first step for structured generation."
   ]
  },
  {
   "cell_type": "code",
   "execution_count": 6,
   "id": "4e487036-4fdc-418c-86d8-289117179063",
   "metadata": {
    "execution": {
     "iopub.execute_input": "2024-08-20T23:00:00.712262Z",
     "iopub.status.busy": "2024-08-20T23:00:00.712185Z",
     "iopub.status.idle": "2024-08-20T23:00:00.719704Z",
     "shell.execute_reply": "2024-08-20T23:00:00.719391Z",
     "shell.execute_reply.started": "2024-08-20T23:00:00.712254Z"
    }
   },
   "outputs": [],
   "source": [
    "from copy import deepcopy\n",
    "class ComplaintGenerator:\n",
    "\n",
    "    def __init__(self, model_name, departments=DEFAULT_DEPTS):\n",
    "        self.model_name = model_name\n",
    "        self.departments = departments\n",
    "        self._model = None\n",
    "        self._tokenizer = None\n",
    "        self._intro_generator = None\n",
    "        self._complaint_generator = None\n",
    "        self._order_number_generator = None\n",
    "    ####################################\n",
    "    # Structured Generation Section\n",
    "    #\n",
    "    @property\n",
    "    def intro_structure(self):\n",
    "        possible_intros = [\n",
    "            r'(Hi! This is [A-Z][a-z]{3,10} [A-Z][a-z]{3,10})',\n",
    "            r'(Hey, my name is [A-Z][a-z]{3,10} [A-Z][a-z]{3,10})',\n",
    "            r'(Hello, I\\'m [A-Z][a-z]{3,10} [A-Z][a-z]{3,10})'\n",
    "        ]\n",
    "        return rf\"({'|'.join(possible_intros)})\\.\"        \n",
    "\n",
    "    @property\n",
    "    def complaint_structure(self):\n",
    "        return r'I recently ordered [\\w\\s,.!\\n]{120,240}\\.'\n",
    "\n",
    "    @property\n",
    "    def order_number_structure(self):\n",
    "        possible_order_numbers = [\n",
    "             r'(My order was (A|D|Z)[0-9]{6})',\n",
    "             r'(This is order (A|D|Z)[0-9]{2}-[0-9]{4})',\n",
    "             r'(The order number is (A|D|Z)[0-9]{2}-[0-9]{4})'\n",
    "         ]\n",
    "        return rf\"({'|'.join(possible_order_numbers)})\"\n",
    "    #\n",
    "    #\n",
    "    ####################################\n",
    "\n",
    "    \n",
    "    @property\n",
    "    def intro_generator(self):\n",
    "        if self._intro_generator is None:\n",
    "            self._intro_generator = outlines.generate.regex(\n",
    "                self.model, self.intro_structure\n",
    "            )\n",
    "        return self._intro_generator\n",
    "        \n",
    "    @property\n",
    "    def complaint_generator(self):\n",
    "        if self._complaint_generator is None:\n",
    "            self._complaint_generator = outlines.generate.regex(self.model, self.complaint_structure)\n",
    "        return self._complaint_generator\n",
    "\n",
    "    @property\n",
    "    def order_number_generator(self):\n",
    "        if self._order_number_generator is None:\n",
    "            self._order_number_generator = outlines.generate.regex(\n",
    "                self.model, \n",
    "                self.order_number_structure)\n",
    "        return self._order_number_generator\n",
    "    \n",
    "    @property\n",
    "    def model(self):\n",
    "        print(\"getting model\")\n",
    "        if self._model is None:\n",
    "            print(\"loading model\")\n",
    "            self._model = outlines.models.transformers(\n",
    "                    self.model_name,\n",
    "                    device=DEVICE,\n",
    "                    model_kwargs={\n",
    "                        'torch_dtype': torch.bfloat16,\n",
    "                        'trust_remote_code': True\n",
    "                    })\n",
    "        return self._model\n",
    "\n",
    "    @property\n",
    "    def tokenizer(self):\n",
    "        if self._tokenizer is None:\n",
    "            print(\"loading tokenizer\")\n",
    "            self._tokenizer = AutoTokenizer.from_pretrained(self.model_name)\n",
    "        return self._tokenizer\n",
    "        \n",
    "    def generate_complaint(self):\n",
    "        prompt_messages = self._start_messages()\n",
    "        prompt_messages.append(self._intro_prompt())\n",
    "        prompt_intro = self.tokenizer.apply_chat_template(\n",
    "            prompt_messages,\n",
    "            tokenize=False\n",
    "        )\n",
    "        print(\"Generating intro\")\n",
    "        intro_result = self.intro_generator(prompt_intro)\n",
    "        prompt_messages.append({\n",
    "            \"role\": \"assistant\",\n",
    "            \"content\": intro_result\n",
    "        })\n",
    "        print(\"Generating complaint\")\n",
    "        department = random.choice(self.departments)\n",
    "        prompt_messages.append(self._complaint_prompt(department))\n",
    "        prompt_complaint = self.tokenizer.apply_chat_template(\n",
    "            prompt_messages,\n",
    "            tokenize=False\n",
    "        )\n",
    "        complaint_result = self.complaint_generator(prompt_complaint)\n",
    "        prompt_messages.append({\n",
    "            \"role\": \"assistant\",\n",
    "            \"content\": complaint_result\n",
    "        })\n",
    "        prompt_messages.append(self._order_number_prompt())\n",
    "        prompt_order_number = self.tokenizer.apply_chat_template(\n",
    "            prompt_messages,\n",
    "            tokenize=False\n",
    "        )\n",
    "        print(\"Generating order number\")\n",
    "        order_number_result = self.order_number_generator(prompt_order_number)\n",
    "\n",
    "        final_message = intro_result + complaint_result + order_number_result\n",
    "        return {\n",
    "            \"message\": final_message,\n",
    "            \"order_number\": self.parse_order_number(order_number_result),\n",
    "            \"department\": department\n",
    "        }\n",
    "    \n",
    "    def parse_order_number(self, message):\n",
    "        \"\"\"\n",
    "        We want to extract the order number so that we can \n",
    "        send it back with the response to use for validation later.\n",
    "        \"\"\"\n",
    "        number_only = r'((A|D|Z)[0-9]{6})|((A|D|Z)[0-9]{2}-[0-9]{4})'\n",
    "        order_number = re.search(number_only, message)[0]\n",
    "        if not (\"-\" in order_number):\n",
    "            order_number = f\"{order_number[0:3]}-{order_number[3:]}\"\n",
    "        return order_number\n",
    "        \n",
    "    def _start_messages(self):\n",
    "        \"\"\"\n",
    "        These are the starting prompt messages, since we'll be\n",
    "        appending to these messages, we'd like to return a \n",
    "        copy of them.\n",
    "        \"\"\"\n",
    "        prompt_messages = [{\n",
    "            \"role\": \"user\",\n",
    "            \"content\": dedent(\"\"\"\n",
    "            You are an agent designed to create simulated customer complaints. The\n",
    "            complaints are essentially short text messages that describe a customer,\n",
    "            their problem, and provide an order number.\n",
    "        \n",
    "            You will build the complaint in parts based on the user request. The\n",
    "            complaint will be about a product from a specified department, but you\n",
    "            will not mention the department name directly.\n",
    "        \n",
    "            For example, if you are asked about something from the 'kitchen' department \n",
    "            you might mention an 'knife' but you won't mention the department.\n",
    "            \"\"\")\n",
    "        },{ \n",
    "            \"role\": \"agent\",\n",
    "            \"content\": dedent(\"\"\"\n",
    "            I understand the task, and will wait for the you to instruct me on\n",
    "            next steps.\n",
    "            \"\"\")\n",
    "        }]\n",
    "        return(deepcopy(prompt_messages))\n",
    "\n",
    "    def _intro_prompt(self):\n",
    "        intro_prompt = {\n",
    "            \"role\": \"user\",\n",
    "            \"content\": \"Start the message with a short intro stating the customer's name.\"\n",
    "        }\n",
    "        return(deepcopy(intro_prompt))\n",
    "\n",
    "    def _complaint_prompt(self, department):\n",
    "        complaint_message = {\n",
    "            \"role\":\"user\", \n",
    "            \"content\": dedent(f\"\"\"\n",
    "                            Good! Now write a short description of the problem with an item from the {department} department,\n",
    "                            but don't mention the actual name of the department the product comes from!\n",
    "                            \"\"\")\n",
    "        }\n",
    "        return deepcopy(complaint_message)\n",
    "\n",
    "    def _order_number_prompt(self):\n",
    "        order_number_message = {\n",
    "            \"role\": \"user\",\n",
    "            \"content\": dedent(\"\"\"\n",
    "            Finally, add a statement about the order number which starts with letter 'A', 'D' or 'Z' and consists of 6 digits after.\n",
    "            \"\"\")\n",
    "        }\n",
    "        return deepcopy(order_number_message)\n",
    "        \n",
    "    \n",
    "\n",
    "    \n",
    "    "
   ]
  },
  {
   "cell_type": "code",
   "execution_count": 7,
   "id": "4786ce1c-e879-486c-9e0c-2177ea952b66",
   "metadata": {
    "execution": {
     "iopub.execute_input": "2024-08-20T23:00:00.721134Z",
     "iopub.status.busy": "2024-08-20T23:00:00.721045Z",
     "iopub.status.idle": "2024-08-20T23:00:00.722705Z",
     "shell.execute_reply": "2024-08-20T23:00:00.722477Z",
     "shell.execute_reply.started": "2024-08-20T23:00:00.721127Z"
    }
   },
   "outputs": [],
   "source": [
    "complainer = ComplaintGenerator(MODEL_NAME)\n",
    "# complainer.generate_complaint()"
   ]
  },
  {
   "cell_type": "markdown",
   "id": "12319f4b-6bdc-43c8-bfb6-4c759a9f8452",
   "metadata": {},
   "source": [
    "## Step 2 - Verify Structure \n",
    "\n",
    "We can now test that this structure indeed matches the real data we have. To start we're only going to test the `intro_structure` property. To help ensure that our structure is correct, we'll verify that our structure does indeed match *all* of the examples in our dataset."
   ]
  },
  {
   "cell_type": "code",
   "execution_count": 8,
   "id": "7d61728e-e799-452d-aafb-b160f72db207",
   "metadata": {
    "execution": {
     "iopub.execute_input": "2024-08-20T23:00:00.723053Z",
     "iopub.status.busy": "2024-08-20T23:00:00.722977Z",
     "iopub.status.idle": "2024-08-20T23:00:00.725331Z",
     "shell.execute_reply": "2024-08-20T23:00:00.725124Z",
     "shell.execute_reply.started": "2024-08-20T23:00:00.723043Z"
    }
   },
   "outputs": [
    {
     "data": {
      "text/plain": [
       "True"
      ]
     },
     "execution_count": 8,
     "metadata": {},
     "output_type": "execute_result"
    }
   ],
   "source": [
    "all([re.search(complainer.intro_structure, complaint['message'])\n",
    "     for complaint in complaint_data])"
   ]
  },
  {
   "cell_type": "markdown",
   "id": "1bfc44a1-d99c-4b76-b7ad-2e1516f819e6",
   "metadata": {},
   "source": [
    "This is a great place to catch bugs in structured generation. Since we saw that all cases matched, we can at least be sure that our basic structure is correct."
   ]
  },
  {
   "cell_type": "markdown",
   "id": "e9f124e9-333c-4c36-bde4-01d7f3f2a21d",
   "metadata": {},
   "source": [
    "## Step 3 - Generate Structure\n",
    "\n",
    "The next step is to generate examples of our structure to further test whether or not we're really solving the problem we're after. Rather than run the model right now, we'll use an example I generated earlier"
   ]
  },
  {
   "cell_type": "code",
   "execution_count": 9,
   "id": "a7219601-65af-4c11-afa6-9d5065da69b6",
   "metadata": {
    "execution": {
     "iopub.execute_input": "2024-08-20T23:00:00.725644Z",
     "iopub.status.busy": "2024-08-20T23:00:00.725587Z",
     "iopub.status.idle": "2024-08-20T23:00:00.727092Z",
     "shell.execute_reply": "2024-08-20T23:00:00.726903Z",
     "shell.execute_reply.started": "2024-08-20T23:00:00.725638Z"
    }
   },
   "outputs": [],
   "source": [
    "# Normally we would do the following...\n",
    "# example_generation = complainer.generate()\n",
    "example_generation = {\n",
    " 'message': 'Hi! This is Emily andbuyerser.I recently ordered a laptop with an extended warranty, but upon arrival, I noticed a malfunctioning trackpad. Despite numerous attempts at troubleshooting, the issue persists, greatly hindering my everyday use.This is order A12-3456',\n",
    " 'order_number': 'A12-3456',\n",
    " 'department': 'electronics'\n",
    "}"
   ]
  },
  {
   "cell_type": "markdown",
   "id": "c734ff15-b8bd-4538-ab3c-9f5ac827879b",
   "metadata": {},
   "source": [
    "## Step 4 - Inspect Output\n",
    "\n",
    "Uh oh! Look at the name output! `Emily andbuyerser` is not a name that I would expect and doesn't match the expected output!\n",
    "\n",
    "Now it's *your turn* to fix it!\n",
    "\n",
    "When you've found the bug you can continue on to the next sections:\n",
    "\n",
    "- Finish the `complaint_structure`, repeating this process\n",
    "- Finish the `order_number_structure`, repeating this process\n",
    "- If you have time, generate some new complaints!"
   ]
  },
  {
   "cell_type": "markdown",
   "id": "fc671f6f-b3a9-46d4-933d-f3b70a7c3ca0",
   "metadata": {},
   "source": [
    "To help you get started, we can see current structure *does* match unexpected example output. A good sign that you have fixed the problem is that this erroneous response will no longer match the defined structure in `intro_structure`."
   ]
  },
  {
   "cell_type": "code",
   "execution_count": 10,
   "id": "de3fc88a-a955-4d68-bf59-ed73c32d54cc",
   "metadata": {
    "execution": {
     "iopub.execute_input": "2024-08-20T23:00:00.727416Z",
     "iopub.status.busy": "2024-08-20T23:00:00.727322Z",
     "iopub.status.idle": "2024-08-20T23:00:00.728855Z",
     "shell.execute_reply": "2024-08-20T23:00:00.728658Z",
     "shell.execute_reply.started": "2024-08-20T23:00:00.727409Z"
    }
   },
   "outputs": [],
   "source": [
    "re.search(complainer.intro_structure, example_generation['message'])"
   ]
  },
  {
   "cell_type": "markdown",
   "id": "0ba9e63a-24c5-4381-9b0a-5d95a04686fe",
   "metadata": {},
   "source": [
    "If you get the rest figured out, feel free to generate some examples of your own!"
   ]
  },
  {
   "cell_type": "code",
   "execution_count": 11,
   "id": "18acbf60-f990-4bf3-bc9d-1bd2edc832af",
   "metadata": {
    "execution": {
     "iopub.execute_input": "2024-08-20T23:00:00.729225Z",
     "iopub.status.busy": "2024-08-20T23:00:00.729099Z",
     "iopub.status.idle": "2024-08-20T23:05:30.188044Z",
     "shell.execute_reply": "2024-08-20T23:05:30.187733Z",
     "shell.execute_reply.started": "2024-08-20T23:00:00.729215Z"
    }
   },
   "outputs": [
    {
     "name": "stdout",
     "output_type": "stream",
     "text": [
      "loading tokenizer\n",
      "Generating intro\n",
      "getting model\n",
      "loading model\n"
     ]
    },
    {
     "name": "stderr",
     "output_type": "stream",
     "text": [
      "Compiling FSM index for all state transitions: 100%|█| 54/54 [00:01<00:00, 34.84it/s\n",
      "We detected that you are passing `past_key_values` as a tuple and this is deprecated and will be removed in v4.43. Please use an appropriate `Cache` class (https://huggingface.co/docs/transformers/v4.41.3/en/internal/generation_utils#transformers.Cache)\n"
     ]
    },
    {
     "name": "stdout",
     "output_type": "stream",
     "text": [
      "Generating complaint\n",
      "getting model\n",
      "Generating order number\n",
      "getting model\n",
      "Generating intro\n",
      "Generating complaint\n",
      "Generating order number\n",
      "Generating intro\n",
      "Generating complaint\n",
      "Generating order number\n",
      "Generating intro\n",
      "Generating complaint\n",
      "Generating order number\n",
      "Generating intro\n",
      "Generating complaint\n",
      "Generating order number\n",
      "Generating intro\n",
      "Generating complaint\n",
      "Generating order number\n",
      "Generating intro\n",
      "Generating complaint\n",
      "Generating order number\n",
      "Generating intro\n",
      "Generating complaint\n",
      "Generating order number\n",
      "Generating intro\n",
      "Generating complaint\n",
      "Generating order number\n",
      "Generating intro\n",
      "Generating complaint\n",
      "Generating order number\n",
      "Generating intro\n",
      "Generating complaint\n",
      "Generating order number\n",
      "Generating intro\n",
      "Generating complaint\n",
      "Generating order number\n",
      "Generating intro\n",
      "Generating complaint\n",
      "Generating order number\n",
      "Generating intro\n",
      "Generating complaint\n",
      "Generating order number\n",
      "Generating intro\n",
      "Generating complaint\n",
      "Generating order number\n",
      "Generating intro\n",
      "Generating complaint\n",
      "Generating order number\n",
      "Generating intro\n",
      "Generating complaint\n",
      "Generating order number\n",
      "Generating intro\n",
      "Generating complaint\n",
      "Generating order number\n",
      "Generating intro\n",
      "Generating complaint\n",
      "Generating order number\n",
      "Generating intro\n",
      "Generating complaint\n",
      "Generating order number\n",
      "Generating intro\n",
      "Generating complaint\n",
      "Generating order number\n",
      "Generating intro\n",
      "Generating complaint\n",
      "Generating order number\n",
      "Generating intro\n",
      "Generating complaint\n",
      "Generating order number\n",
      "Generating intro\n",
      "Generating complaint\n",
      "Generating order number\n",
      "Generating intro\n",
      "Generating complaint\n",
      "Generating order number\n",
      "Generating intro\n",
      "Generating complaint\n",
      "Generating order number\n",
      "Generating intro\n",
      "Generating complaint\n",
      "Generating order number\n",
      "Generating intro\n",
      "Generating complaint\n",
      "Generating order number\n",
      "Generating intro\n",
      "Generating complaint\n",
      "Generating order number\n",
      "Generating intro\n",
      "Generating complaint\n",
      "Generating order number\n",
      "Generating intro\n",
      "Generating complaint\n",
      "Generating order number\n",
      "Generating intro\n",
      "Generating complaint\n",
      "Generating order number\n",
      "Generating intro\n",
      "Generating complaint\n",
      "Generating order number\n",
      "Generating intro\n",
      "Generating complaint\n",
      "Generating order number\n",
      "Generating intro\n",
      "Generating complaint\n",
      "Generating order number\n",
      "Generating intro\n",
      "Generating complaint\n",
      "Generating order number\n",
      "Generating intro\n",
      "Generating complaint\n",
      "Generating order number\n",
      "Generating intro\n",
      "Generating complaint\n",
      "Generating order number\n",
      "Generating intro\n",
      "Generating complaint\n",
      "Generating order number\n",
      "Generating intro\n",
      "Generating complaint\n",
      "Generating order number\n",
      "Generating intro\n",
      "Generating complaint\n",
      "Generating order number\n",
      "Generating intro\n",
      "Generating complaint\n",
      "Generating order number\n",
      "Generating intro\n",
      "Generating complaint\n",
      "Generating order number\n",
      "Generating intro\n",
      "Generating complaint\n",
      "Generating order number\n",
      "Generating intro\n",
      "Generating complaint\n",
      "Generating order number\n",
      "Generating intro\n",
      "Generating complaint\n",
      "Generating order number\n",
      "Generating intro\n",
      "Generating complaint\n",
      "Generating order number\n",
      "Generating intro\n",
      "Generating complaint\n",
      "Generating order number\n",
      "Generating intro\n",
      "Generating complaint\n",
      "Generating order number\n",
      "Generating intro\n",
      "Generating complaint\n",
      "Generating order number\n"
     ]
    },
    {
     "data": {
      "text/plain": [
       "[{'message': \"Hello, I'm Shipping Fixer.I recently ordered one of your rice boards and while it look fine, it doesn nothing. I order five which seems to be fine but then I reach the one that I need to be measured, there is no such board.This is order A07-0905\",\n",
       "  'order_number': 'A07-0905',\n",
       "  'department': 'kitchen'},\n",
       " {'message': \"Hello, I'm John Smith.I recently ordered a which is a,A,Venzle.college car from Netmen for online\\nBut, they did not ship when I received the item today.\\n\\nCan you please reseed it to a new shipped item number, if shipped.This is order Z00-0000\",\n",
       "  'order_number': 'Z00-0000',\n",
       "  'department': 'automotive'},\n",
       " {'message': \"Hello, I'm Tina Smith.I recently ordered a certain item from the electronics department Yoneda by part number 97341,\\nbut this item does not match any of the listed devices or devices in stock.This is order A05-0217\",\n",
       "  'order_number': 'A05-0217',\n",
       "  'department': 'electronics'},\n",
       " {'message': \"Hello, I'm Jerry Liuprasert.I recently ordered a Samsung MP500 multimedia player. I am getting a faulty audio connector\\nI want to know if there are any possible solutions for me.\\nHow can I resolve this problem.\\nPlease help with the following suggestions, thanks in advance!.\\nPlease note,.The order number is Z02-0659\",\n",
       "  'order_number': 'Z02-0659',\n",
       "  'department': 'electronics'},\n",
       " {'message': \"Hello, I'm Shyam Patel.I recently ordered a product on Amazon in the kitchen department. It does not work and the product is expired!\\nWhat could be the problem with this kitchen product, and how can I get this watered down product back to being in good condition and back on sales, .The order number is Z20-2001\",\n",
       "  'order_number': 'Z20-2001',\n",
       "  'department': 'electronics'},\n",
       " {'message': \"Hello, I'm Suresh Nair.I recently ordered the following from the kitchen department using the member ID of 1234. \\nHere are the details of the kitchen item I received.\\n\\nDescription \\nProduct\\nPrice\\nAvailable stock\\nReviews\\nIs Item available in red color...\\n\\n\\nPayment information\\nAmount\\n.This is order Z12-3456\",\n",
       "  'order_number': 'Z12-3456',\n",
       "  'department': 'kitchen'},\n",
       " {'message': 'Hey, my name is John Smith.I recently ordered a three years old model exceptional x3 2015 from here.\\nMy order number is XXXX. Based on this, could you please assist me with a quote on this model and bearing in mind its availability for this year.This is order Z31-0792',\n",
       "  'order_number': 'Z31-0792',\n",
       "  'department': 'automotive'},\n",
       " {'message': \"Hello, I'm Jaydais Wells.I recently ordered a screen protector for my laptop on 5th Mar and got the product in my inbox today and it was damaged, even though I took good care of it.The order number is Z98-6424\",\n",
       "  'order_number': 'Z98-6424',\n",
       "  'department': 'electronics'},\n",
       " {'message': 'Hey, my name is Sarah Smith.I recently ordered a toyota truck that won a jackpot overseas and ended up with a faulty model.\\nUnfortunately, it caused an accident and I need a replacement.This is order A12-6704',\n",
       "  'order_number': 'A12-6704',\n",
       "  'department': 'automotive'},\n",
       " {'message': \"Hello, I'm Samuel Johnson.I recently ordered a new oven so I need to know what it looks like before I leave the store to get my delivery. Can you tell me more about the oven and what it looks like before I leave the store and what I will need to do to unpack it as fast as possible.This is order Z08-2345\",\n",
       "  'order_number': 'Z08-2345',\n",
       "  'department': 'kitchen'},\n",
       " {'message': \"Hello, I'm Andrew Johnson.I recently ordered a woven genuine fiber blend sweatshirt with a white tee in parties this week. Unfortunately, The shirt became odorless as I touched it and it started to smell strongly after about 30 minutes! I am very disappointed.The order number is Z03-0000\",\n",
       "  'order_number': 'Z03-0000',\n",
       "  'department': 'clothing'},\n",
       " {'message': \"Hello, I'm Mrugas Aditya.I recently ordered a purnekk grindstone which came bad due to moisture\\nIf you guys have girl any alternate products that comes with sturdy handles please feel free to recommend if possible.\\nThank you.\\nJan\\n\\nMessage was not received.This is order A00-2017\",\n",
       "  'order_number': 'A00-2017',\n",
       "  'department': 'kitchen'},\n",
       " {'message': \"Hello, I'm Brian Smith.I recently ordered product for your department. I am currently having problems with this specific item, so I would suggest we can discuss this further if possible.The order number is Z40-2019\",\n",
       "  'order_number': 'Z40-2019',\n",
       "  'department': 'clothing'},\n",
       " {'message': \"Hello, I'm Hilda Loring.I recently ordered a Samsung TV that failed to turn on after 15 minutes!\\n\\nI brought my 15 year old Samsung TV over from my childhood home back in July 2021.The order number is A20-0001\",\n",
       "  'order_number': 'A20-0001',\n",
       "  'department': 'electronics'},\n",
       " {'message': 'Hey, my name is Jane Adams.I recently ordered a new laptop with a disappointment. \\n\\nIt started acting odd before even accepting payment so i sent it back and received the refund but it didn tk work before i even returned it.The order number is Z21-4125',\n",
       "  'order_number': 'Z21-4125',\n",
       "  'department': 'electronics'},\n",
       " {'message': \"Hello, I'm Aaron Singh.I recently ordered a Ford Focus xmle, and it was faulty. The comfortable seats didn\\nbarely work and the radio wouldn\\ntap out a lot. So I sent you guys a quick email to tell you to send it back for\\n repairs.\\nAgain, you will need to condense the issue.\\nThankyou.The order number is Z52-1012\",\n",
       "  'order_number': 'Z52-1012',\n",
       "  'department': 'automotive'},\n",
       " {'message': \"Hello, I'm Boboo Booomboi.I recently ordered a car and it didnunl patch the brakes for 4 weeks. The motorwork cracked once the summer \\nhas ended. Then the motors became noisy when turning bigindy.This is order Z11-0202\",\n",
       "  'order_number': 'Z11-0202',\n",
       "  'department': 'automotive'},\n",
       " {'message': \"Hello, I'm John Doeeeee.I recently ordered an oven semi in orange from the kitchen department. \\n\\nBefore packaging it due to size, however, the oven is getting blurry.This is order Z50-0633\",\n",
       "  'order_number': 'Z50-0633',\n",
       "  'department': 'kitchen'},\n",
       " {'message': \"Hello, I'm Andrea Hopper.I recently ordered a long underwear pair that arrived, but it didn, I have heard many issues, particularly that the large front midcropping sleeves stop on my knotted belt buckle.This is order A10-6312\",\n",
       "  'order_number': 'A10-6312',\n",
       "  'department': 'clothing'},\n",
       " {'message': \"Hello, I'm Andrew Johnson.I recently ordered a televisions set for students who will be attending f d... there was a problem getting the custom. Please see attachment for further details.My order was Z138892\",\n",
       "  'order_number': 'Z13-8892',\n",
       "  'department': 'electronics'},\n",
       " {'message': \"Hello, I'm Brian Smith.I recently ordered two new laptop computers, but I can no longer find my return letter using my security number,\\nI still have the full product remains, but I don know what to do with it.This is order Z00-0003\",\n",
       "  'order_number': 'Z00-0003',\n",
       "  'department': 'electronics'},\n",
       " {'message': 'Hey, my name is Sarah Johnson.I recently ordered some grilled chicken at the restaurant, but it didn\\n\\n even though it came with the necessary seasoning, and it didn\\n I found that the seasoning was a little\\n\\n suspicious for something that usually comes with the product\\n.\\nI am very consider.The order number is Z04-2685',\n",
       "  'order_number': 'Z04-2685',\n",
       "  'department': 'kitchen'},\n",
       " {'message': \"Hello, I'm Numa Kera.I recently ordered the XCV 50 Yamaha Motorcycle launching November 2023 for 150K and had a problem occurred after assembly, everything that was installed on 4th wheel, 3 wheel were loose, problem which happened again after finalizing the package, plus my call.This is order A22-0005\",\n",
       "  'order_number': 'A22-0005',\n",
       "  'department': 'automotive'},\n",
       " {'message': 'Hi! This is Victor Vining.I recently ordered a bamboo chopstick. The packaging was damaged but it was still a good bargain.\\nSo I decided to replace it with a better quality item.This is order A12-2005',\n",
       "  'order_number': 'A12-2005',\n",
       "  'department': 'kitchen'},\n",
       " {'message': \"Hello, I'm Reporting Biographies.I recently ordered a MacBook Pro \\nbut its being slow. I made a backup copy \\nand the error correctly identified the problem, but despite \\nrebooting, bios ignores the error Crafty 3 seems to cause it.\\nCould you please code the error 0x4005811B, locate the\\ncode .The order number is Z12-0798\",\n",
       "  'order_number': 'Z12-0798',\n",
       "  'department': 'electronics'},\n",
       " {'message': \"Hello, I'm Writing Acomplishng.I recently ordered a Tuxedo Jacket for a special event and it seems to be a little torn. Could you please help me fix this for me, please provide me with a replacement jacket that is similar but has a better quality so that I won the look of premium yet not a.The order number is Z02-0337\",\n",
       "  'order_number': 'Z02-0337',\n",
       "  'department': 'clothing'},\n",
       " {'message': \"Hello, I'm John Smith.I recently ordered some of your products that I paused on the shipping tracking. Did not receive any goods. Please find attached shipping receipt copies for comparison.The order number is A42-1234\",\n",
       "  'order_number': 'A42-1234',\n",
       "  'department': 'kitchen'},\n",
       " {'message': \"Hello, I'm Sarah Dukes.I recently ordered a new item\\n for gud Spring CleaningPeriod using code 72085,\\nBut I haven t received any message s about the status of my\\norder since\\nit has been 2 days.\\nCould you please check and respond to my order status in the next 24 hours please.The order number is Z21-9393\",\n",
       "  'order_number': 'Z21-9393',\n",
       "  'department': 'kitchen'},\n",
       " {'message': \"Hello, I'm John Doefromoour.I recently ordered the material adapter for my laptop, however, there was no heed on size listed which I had uploaded, and it is weighing heavily and came in damaged condition, purchasing an expensive laptop with a major concern in one of its keys being lost,.The order number is A15-1200\",\n",
       "  'order_number': 'A15-1200',\n",
       "  'department': 'kitchen'},\n",
       " {'message': \"Hello, I'm Matthew Johnson.I recently ordered a pizza from this brand and it was taken away after its delivery\\nterminated. The manager also said there was an issue with the seasoning.The order number is Z03-4567\",\n",
       "  'order_number': 'Z03-4567',\n",
       "  'department': 'kitchen'},\n",
       " {'message': \"Hello, I'm Mike Skeline.I recently ordered a new pair of high boots from the studio department. I was not satisfied with the overstock and would\\nlike to return them.The order number is Z44-4239\",\n",
       "  'order_number': 'Z44-4239',\n",
       "  'department': 'clothing'},\n",
       " {'message': \"Hello, I'm Matt Alexander.I recently ordered a microwave oven, but it didn kind of stop heating when I turned the circuit breaker on. Now it just won, and I need it fixed! Just send it to the office to be checked! Thank you!  \\nSorry if it seem rude to ask this, I am so busy and did n\\n.The order number is A00-4091\",\n",
       "  'order_number': 'A00-4091',\n",
       "  'department': 'kitchen'},\n",
       " {'message': \"Hello, I'm John Smith.I recently ordered a batch of produce from the store but they sent me\\nan unwanted package. My wife warned me about this before ordering\\nbut I still got the package.The order number is Z10-2017\",\n",
       "  'order_number': 'Z10-2017',\n",
       "  'department': 'kitchen'},\n",
       " {'message': \"Hello, I'm Daniel Benjamin.I recently ordered this module... but it seems not to work. \\nThe manufacture they ordered was maybe WorldMichapplos. The module was supposed to be manufactured from \\nthe tool tooling that is sold preinstalled in the hone kit.The order number is A46-2712\",\n",
       "  'order_number': 'A46-2712',\n",
       "  'department': 'electronics'},\n",
       " {'message': \"Hello, I'm Betsy Wolters.I recently ordered a new microwave oven but I haven t received it yet. Could you help me monitoring if it is essentially Ok with any suggestions on improvements based on past experiences culminating from orders in my account history.The order number is A12-2014\",\n",
       "  'order_number': 'A12-2014',\n",
       "  'department': 'electronics'},\n",
       " {'message': \"Hello, I'm Riley Jacobs.I recently ordered silk dress that arrived sore. Please recieve a replacement for my pillow cushions there was a your and I am so happy... i love this pillow.The order number is A04-1564\",\n",
       "  'order_number': 'A04-1564',\n",
       "  'department': 'clothing'},\n",
       " {'message': \"Hello, I'm Samanthatay Ictsinging.I recently ordered a permacare a5 new purcorn filter in blue for my car. But \\nwhen plugging the filter out, it didn couldnthe middle and left side were missing.The order number is A12-2028\",\n",
       "  'order_number': 'A12-2028',\n",
       "  'department': 'automotive'},\n",
       " {'message': \"Hello, I'm Nisha Patel.I recently ordered a MacBook Air which arrived 29 days later and it seems to have some mechanical issues. When I charged the charger it wasn just short of charging and there seems to be no response from the charging device.\\nThe device started to display slow,.The order number is Z00-1234\",\n",
       "  'order_number': 'Z00-1234',\n",
       "  'department': 'electronics'},\n",
       " {'message': \"Hello, I'm Shawn Momtcheva.I recently ordered a new battery for my car\\n\\nIt didn\\nI have on my car isn\\nThe reason why I dont think is working as it the current battery d\\nNow I am having problems with discharging faster than the manufacturer says \\n\\nI am currently using a 12 volt battery.\\n.The order number is Z22-0960\",\n",
       "  'order_number': 'Z22-0960',\n",
       "  'department': 'automotive'},\n",
       " {'message': \"Hello, I'm Sushant Patel.I recently ordered a car from the Indian brand Maruti Suzuki. Unfortunately, I have encountered\\na problem with my steering wheel. When I press the right hand brake, it\\nstarts pulsating on the left side of the wheel, making it difficult to\\nnavigate the road.The order number is Z12-2019\",\n",
       "  'order_number': 'Z12-2019',\n",
       "  'department': 'automotive'},\n",
       " {'message': \"Hello, I'm John Smith.I recently ordered a pan from this company, but came home to discover it were not the color I was expecting.\\nIt was a good size as usual, but came with some damage.The order number is A01-0123\",\n",
       "  'order_number': 'A01-0123',\n",
       "  'department': 'kitchen'},\n",
       " {'message': \"Hello, I'm Richard Leeworth.I recently ordered a Honda Civic front end O.D. light cylinder head with a wheel hub O.D\\nWhy didnlivy give me such a cheap neck lig or socket O.D.The order number is A21-0222\",\n",
       "  'order_number': 'A21-0222',\n",
       "  'department': 'automotive'},\n",
       " {'message': \"Hello, I'm Sarah Denny.I recently ordered this shoe, but it does not fit my foot as I expected it to. I went online on Amazon and found the same style. I am a MAC customer, so I knew I wanted the Apple Catalyst shoe.\\nHowever, I don t really know if this shoe would fit my foot.The order number is Z12-2008\",\n",
       "  'order_number': 'Z12-2008',\n",
       "  'department': 'clothing'},\n",
       " {'message': \"Hello, I'm Carl Osterfeld.I recently ordered a couple of vehicles from \\ntoyota and encountered incorrect mileage with the transmission in one of my vehicles.\\nI noticed a higher mileage than what was recorded on the odometer, and purchased a new 2020 .The order number is Z06-2026\",\n",
       "  'order_number': 'Z06-2026',\n",
       "  'department': 'automotive'},\n",
       " {'message': \"Hello, I'm Anthony Likkin.I recently ordered an august...\\nThe product arrived it failed to work properly \\nNow I need to return this item.\\nI guess it should be 123abc456 from rlfl.The order number is Z33-0005\",\n",
       "  'order_number': 'Z33-0005',\n",
       "  'department': 'electronics'},\n",
       " {'message': \"Hello, I'm Magnernewa Newguy.I recently ordered a turkey baked potatoes for them. I would like them taken off the stove when they are done to try to prevent them from melting.\\nCurrently it is still hot on the stove so they freeze before being taken off it.\\nBut I don t see where I reccomd.The order number is A18-3251\",\n",
       "  'order_number': 'A18-3251',\n",
       "  'department': 'kitchen'},\n",
       " {'message': \"Hello, I'm Sara Smith.I recently ordered a apple TV but it keeps going into loops and doesn\\nwork.I tried taking it apart to check it and to fix it, too many errors.This is order Z08-0125\",\n",
       "  'order_number': 'Z08-0125',\n",
       "  'department': 'electronics'},\n",
       " {'message': \"Hello, I'm Sina Nash.I recently ordered a new microwave for my kitchen, but since arrival,\\nI found the item is not functioning properly. I have checked with the customer service,\\nand I am assuming it is a manufacturing error.The order number is Z12-3456\",\n",
       "  'order_number': 'Z12-3456',\n",
       "  'department': 'electronics'},\n",
       " {'message': \"Hello, I'm Jamie Yang.I recently ordered iMac from Apple store since 4th of August. Since then i have screenshot from iPhone screenless while charging my iMacs which is not working.The order number is Z12-8747\",\n",
       "  'order_number': 'Z12-8747',\n",
       "  'department': 'electronics'},\n",
       " {'message': \"Hello, I'm Ianorr Nebengandra.I recently ordered a new knife from the division, but it didn t work, please help me fix it. Thank you!  \\n Xinhua Kitchen Division\\nSetter Islands\\n\\nHow can I assist you today, Xinhua Kitchen Division Froser IslandsSetter Island, and send an item it is missing,.The order number is A10-2024\",\n",
       "  'order_number': 'A10-2024',\n",
       "  'department': 'kitchen'}]"
      ]
     },
     "execution_count": 11,
     "metadata": {},
     "output_type": "execute_result"
    }
   ],
   "source": [
    "complaints = [complainer.generate_complaint() for _ in range(50)]\n",
    "complaints"
   ]
  },
  {
   "cell_type": "code",
   "execution_count": 12,
   "id": "47e06bff-bc29-4bca-926e-d7754dd3c2ef",
   "metadata": {
    "execution": {
     "iopub.execute_input": "2024-08-20T23:05:30.188844Z",
     "iopub.status.busy": "2024-08-20T23:05:30.188633Z",
     "iopub.status.idle": "2024-08-20T23:05:30.190470Z",
     "shell.execute_reply": "2024-08-20T23:05:30.190216Z",
     "shell.execute_reply.started": "2024-08-20T23:05:30.188836Z"
    }
   },
   "outputs": [],
   "source": [
    "#with open(\"../examples.json\", 'w') as fout:\n",
    "#    fout.write(json.dumps(complaints))"
   ]
  }
 ],
 "metadata": {
  "kernelspec": {
   "display_name": "Python 3 (ipykernel)",
   "language": "python",
   "name": "python3"
  },
  "language_info": {
   "codemirror_mode": {
    "name": "ipython",
    "version": 3
   },
   "file_extension": ".py",
   "mimetype": "text/x-python",
   "name": "python",
   "nbconvert_exporter": "python",
   "pygments_lexer": "ipython3",
   "version": "3.11.5"
  }
 },
 "nbformat": 4,
 "nbformat_minor": 5
}
