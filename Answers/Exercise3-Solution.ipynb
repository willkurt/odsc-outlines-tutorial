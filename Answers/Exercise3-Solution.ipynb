{
 "cells": [
  {
   "cell_type": "code",
   "execution_count": 1,
   "id": "3a3aa6ec-89e8-4832-a008-823b099ffd0e",
   "metadata": {
    "execution": {
     "iopub.execute_input": "2024-08-16T18:27:17.933795Z",
     "iopub.status.busy": "2024-08-16T18:27:17.933660Z",
     "iopub.status.idle": "2024-08-16T18:27:19.212604Z",
     "shell.execute_reply": "2024-08-16T18:27:19.212340Z",
     "shell.execute_reply.started": "2024-08-16T18:27:17.933783Z"
    }
   },
   "outputs": [],
   "source": [
    "import json\n",
    "import outlines\n",
    "from transformers import AutoTokenizer\n",
    "import torch\n",
    "from textwrap import dedent\n",
    "from enum import Enum\n",
    "import re\n",
    "import random"
   ]
  },
  {
   "cell_type": "code",
   "execution_count": 2,
   "id": "cce7d7b5-e75c-46de-b51a-1cd9d3c23faa",
   "metadata": {
    "execution": {
     "iopub.execute_input": "2024-08-16T18:27:19.213557Z",
     "iopub.status.busy": "2024-08-16T18:27:19.213418Z",
     "iopub.status.idle": "2024-08-16T18:27:19.215201Z",
     "shell.execute_reply": "2024-08-16T18:27:19.214954Z",
     "shell.execute_reply.started": "2024-08-16T18:27:19.213550Z"
    }
   },
   "outputs": [],
   "source": [
    "MODEL_NAME = \"Qwen/Qwen2-0.5B-Instruct\"\n",
    "# Change to 'cuda' or 'cpu' if not using Apple Silicon\n",
    "DEVICE='mps'"
   ]
  },
  {
   "cell_type": "code",
   "execution_count": 3,
   "id": "d5b4b016-4b96-4ba2-8ac2-cd09839df327",
   "metadata": {
    "execution": {
     "iopub.execute_input": "2024-08-16T18:27:19.215536Z",
     "iopub.status.busy": "2024-08-16T18:27:19.215462Z",
     "iopub.status.idle": "2024-08-16T18:27:19.218381Z",
     "shell.execute_reply": "2024-08-16T18:27:19.218178Z",
     "shell.execute_reply.started": "2024-08-16T18:27:19.215530Z"
    }
   },
   "outputs": [
    {
     "data": {
      "text/plain": [
       "['clothing', 'electronics', 'kitchen', 'automotive']"
      ]
     },
     "execution_count": 3,
     "metadata": {},
     "output_type": "execute_result"
    }
   ],
   "source": [
    "class Department(str, Enum):\n",
    "    clothing = \"clothing\"\n",
    "    electronics = \"electronics\"\n",
    "    kitchen = \"kitchen\"\n",
    "    automotive = \"automotive\"\n",
    "\n",
    "DEFAULT_DEPTS = [dept.name for dept in list(Department)]\n",
    "DEFAULT_DEPTS"
   ]
  },
  {
   "cell_type": "markdown",
   "id": "de090770-a552-4507-9ef6-c9a6d0385b2f",
   "metadata": {},
   "source": [
    "## Step 1 - Draft Structure\n",
    "\n",
    "See the `intro_structure` property to get started"
   ]
  },
  {
   "cell_type": "code",
   "execution_count": 4,
   "id": "4e487036-4fdc-418c-86d8-289117179063",
   "metadata": {
    "execution": {
     "iopub.execute_input": "2024-08-16T18:27:19.218889Z",
     "iopub.status.busy": "2024-08-16T18:27:19.218792Z",
     "iopub.status.idle": "2024-08-16T18:27:19.225510Z",
     "shell.execute_reply": "2024-08-16T18:27:19.225267Z",
     "shell.execute_reply.started": "2024-08-16T18:27:19.218883Z"
    }
   },
   "outputs": [],
   "source": [
    "from copy import deepcopy\n",
    "class ComplaintGenerator:\n",
    "\n",
    "    def __init__(self, model_name, departments=DEFAULT_DEPTS):\n",
    "        self.model_name = model_name\n",
    "        self.departments = departments\n",
    "        self._model = None\n",
    "        self._tokenizer = None\n",
    "        self._intro_generator = None\n",
    "        self._complaint_generator = None\n",
    "        self._order_number_generator = None\n",
    "    ####################################\n",
    "    # Structured Generation Section\n",
    "    #\n",
    "    @property\n",
    "    def intro_structure(self):\n",
    "        possible_intros = [\n",
    "            r'(Hi! This is [A-Z][a-z]{3,10} [A-Z][a-z]{3,10})\\.',\n",
    "            r'(Hi, my name is [A-Z][a-z]{3,10} [A-Z][a-z]{3,10})\\.',\n",
    "        ]\n",
    "        return rf\"({'|'.join(possible_intros)})\"        \n",
    "\n",
    "    @property\n",
    "    def complaint_structure(self):\n",
    "        return r'I recently ordered [\\w\\s,.!\\n]{120,240}\\.'\n",
    "\n",
    "    @property\n",
    "    def order_number_structure(self):\n",
    "        possible_order_numbers = [\n",
    "             r'(My order was (A|D|Z)[0-9]{6})',\n",
    "             r'(This is order (A|D|Z)[0-9]{2}-[0-9]{4})',\n",
    "             r'(The order number is (A|D|Z)[0-9]{2}-[0-9]{4})'\n",
    "         ]\n",
    "        return rf\"({'|'.join(possible_order_numbers)})\"\n",
    "    #\n",
    "    #\n",
    "    ####################################\n",
    "\n",
    "    \n",
    "    @property\n",
    "    def intro_generator(self):\n",
    "        if self._intro_generator is None:\n",
    "            self._intro_generator = outlines.generate.regex(\n",
    "                self.model, self.intro_structure\n",
    "            )\n",
    "        return self._intro_generator\n",
    "        \n",
    "    @property\n",
    "    def complaint_generator(self):\n",
    "        if self._complaint_generator is None:\n",
    "            self._complaint_generator = outlines.generate.regex(self.model, self.complaint_structure)\n",
    "        return self._complaint_generator\n",
    "\n",
    "    @property\n",
    "    def order_number_generator(self):\n",
    "        if self._order_number_generator is None:\n",
    "            self._order_number_generator = outlines.generate.regex(\n",
    "                self.model, \n",
    "                self.order_number_structure)\n",
    "        return self._order_number_generator\n",
    "    \n",
    "    @property\n",
    "    def model(self):\n",
    "        print(\"getting model\")\n",
    "        if self._model is None:\n",
    "            print(\"loading model\")\n",
    "            self._model = outlines.models.transformers(\n",
    "                    self.model_name,\n",
    "                    device=DEVICE,\n",
    "                    model_kwargs={\n",
    "                        'torch_dtype': torch.bfloat16,\n",
    "                        'trust_remote_code': True\n",
    "                    })\n",
    "        return self._model\n",
    "\n",
    "    @property\n",
    "    def tokenizer(self):\n",
    "        if self._tokenizer is None:\n",
    "            print(\"loading tokenizer\")\n",
    "            self._tokenizer = AutoTokenizer.from_pretrained(self.model_name)\n",
    "        return self._tokenizer\n",
    "        \n",
    "    def generate_complaint(self):\n",
    "        prompt_messages = self._start_messages()\n",
    "        prompt_messages.append(self._intro_prompt())\n",
    "        prompt_intro = self.tokenizer.apply_chat_template(\n",
    "            prompt_messages,\n",
    "            tokenize=False\n",
    "        )\n",
    "        print(\"Generating intro\")\n",
    "        intro_result = self.intro_generator(prompt_intro)\n",
    "        prompt_messages.append({\n",
    "            \"role\": \"assistant\",\n",
    "            \"content\": intro_result\n",
    "        })\n",
    "        print(\"Generating Complaint\")\n",
    "        department = random.choice(self.departments)\n",
    "        prompt_messages.append(self._complaint_prompt(department))\n",
    "        prompt_complaint = self.tokenizer.apply_chat_template(\n",
    "            prompt_messages,\n",
    "            tokenize=False\n",
    "        )\n",
    "        complaint_result = self.complaint_generator(prompt_complaint)\n",
    "        prompt_messages.append({\n",
    "            \"role\": \"assistant\",\n",
    "            \"content\": complaint_result\n",
    "        })\n",
    "        prompt_messages.append(self._order_number_prompt())\n",
    "        prompt_order_number = self.tokenizer.apply_chat_template(\n",
    "            prompt_messages,\n",
    "            tokenize=False\n",
    "        )\n",
    "        print(\"Generating order number\")\n",
    "        order_number_result = self.order_number_generator(prompt_order_number)\n",
    "\n",
    "        final_message = intro_result + complaint_result + order_number_result\n",
    "        return {\n",
    "            \"message\": final_message,\n",
    "            \"order_number\": self.parse_order_number(order_number_result),\n",
    "            \"department\": department\n",
    "        }\n",
    "    \n",
    "    def parse_order_number(self, message):\n",
    "        \"\"\"\n",
    "        We want to extract the order number so that we can \n",
    "        send it back with the response to use for validation later.\n",
    "        \"\"\"\n",
    "        number_only = r'((A|D|Z)[0-9]{6})|((A|D|Z)[0-9]{2}-[0-9]{4})'\n",
    "        order_number = re.search(number_only, message)[0]\n",
    "        if not (\"-\" in order_number):\n",
    "            order_number = f\"{order_number[0:3]}-{order_number[3:]}\"\n",
    "        return order_number\n",
    "        \n",
    "    def _start_messages(self):\n",
    "        \"\"\"\n",
    "        These are the starting prompt messages, since we'll be\n",
    "        appending to these messages, we'd like to return a \n",
    "        copy of them.\n",
    "        \"\"\"\n",
    "        prompt_messages = [{\n",
    "            \"role\": \"user\",\n",
    "            \"content\": dedent(\"\"\"\n",
    "            You are an agent designed to create simulated customer complaints. The\n",
    "            complaints are essentially short text messages that describe a customer,\n",
    "            their problem, and provide an order number.\n",
    "        \n",
    "            You will build the complaint in parts based on the user request. The\n",
    "            complaint will be about a product from a specified department, but you\n",
    "            will not mention the department name directly.\n",
    "        \n",
    "            For example, if you are asked about something from the 'kitchen' department \n",
    "            you might mention an 'knife' but you won't mention the department.\n",
    "            \"\"\")\n",
    "        },{ \n",
    "            \"role\": \"agent\",\n",
    "            \"content\": dedent(\"\"\"\n",
    "            I understand the task, and will wait for the you to instruct me on\n",
    "            next steps.\n",
    "            \"\"\")\n",
    "        }]\n",
    "        return(deepcopy(prompt_messages))\n",
    "\n",
    "    def _intro_prompt(self):\n",
    "        intro_prompt = {\n",
    "            \"role\": \"user\",\n",
    "            \"content\": \"Start the message with a short intro stating the customer's name.\"\n",
    "        }\n",
    "        return(deepcopy(intro_prompt))\n",
    "\n",
    "    def _complaint_prompt(self, department):\n",
    "        complaint_message = {\n",
    "            \"role\":\"user\", \n",
    "            \"content\": dedent(f\"\"\"\n",
    "                            Good! Now write a short description of the problem with an item from the {department} department,\n",
    "                            but don't mention the actual name of the department the product comes from!\n",
    "                            \"\"\")\n",
    "        }\n",
    "        return deepcopy(complaint_message)\n",
    "\n",
    "    def _order_number_prompt(self):\n",
    "        order_number_message = {\n",
    "            \"role\": \"user\",\n",
    "            \"content\": dedent(\"\"\"\n",
    "            Finally, add a statement about the order number which starts with letter 'A', 'D' or 'Z' and consists of 6 digits after.\n",
    "            \"\"\")\n",
    "        }\n",
    "        return deepcopy(order_number_message)\n",
    "        \n",
    "    \n",
    "\n",
    "    \n",
    "    "
   ]
  },
  {
   "cell_type": "code",
   "execution_count": 5,
   "id": "4786ce1c-e879-486c-9e0c-2177ea952b66",
   "metadata": {
    "execution": {
     "iopub.execute_input": "2024-08-16T18:27:19.226842Z",
     "iopub.status.busy": "2024-08-16T18:27:19.226747Z",
     "iopub.status.idle": "2024-08-16T18:27:19.228601Z",
     "shell.execute_reply": "2024-08-16T18:27:19.228377Z",
     "shell.execute_reply.started": "2024-08-16T18:27:19.226835Z"
    }
   },
   "outputs": [],
   "source": [
    "complainer = ComplaintGenerator(MODEL_NAME)\n",
    "# complainer.generate_complaint()"
   ]
  },
  {
   "cell_type": "markdown",
   "id": "12319f4b-6bdc-43c8-bfb6-4c759a9f8452",
   "metadata": {},
   "source": [
    "## Step 2 - Verify Structure \n",
    "\n",
    "We can now test that this structure indeed matches the real data we have. To start we're only going to test the `intro_structure` property. We always want to start with real data:"
   ]
  },
  {
   "cell_type": "code",
   "execution_count": 6,
   "id": "e35be45c-00fd-477e-b205-2a6ae1c7a8b2",
   "metadata": {
    "execution": {
     "iopub.execute_input": "2024-08-16T18:27:19.229058Z",
     "iopub.status.busy": "2024-08-16T18:27:19.228971Z",
     "iopub.status.idle": "2024-08-16T18:27:19.230826Z",
     "shell.execute_reply": "2024-08-16T18:27:19.230595Z",
     "shell.execute_reply.started": "2024-08-16T18:27:19.229049Z"
    }
   },
   "outputs": [],
   "source": [
    "with open(\"../examples.json\",'r') as fin:\n",
    "    complaint_data = json.loads(fin.read())"
   ]
  },
  {
   "cell_type": "markdown",
   "id": "9e328722-b568-4876-b7e6-23f494cae778",
   "metadata": {},
   "source": [
    "The we make sure that our structure indeed does match all of the messages in our data set:"
   ]
  },
  {
   "cell_type": "code",
   "execution_count": 7,
   "id": "7d61728e-e799-452d-aafb-b160f72db207",
   "metadata": {
    "execution": {
     "iopub.execute_input": "2024-08-16T18:27:19.231149Z",
     "iopub.status.busy": "2024-08-16T18:27:19.231087Z",
     "iopub.status.idle": "2024-08-16T18:27:19.233207Z",
     "shell.execute_reply": "2024-08-16T18:27:19.233023Z",
     "shell.execute_reply.started": "2024-08-16T18:27:19.231143Z"
    }
   },
   "outputs": [
    {
     "data": {
      "text/plain": [
       "True"
      ]
     },
     "execution_count": 7,
     "metadata": {},
     "output_type": "execute_result"
    }
   ],
   "source": [
    "all([re.search(complainer.intro_structure, complaint['message'])\n",
    "     for complaint in complaint_data])"
   ]
  },
  {
   "cell_type": "code",
   "execution_count": 8,
   "id": "84609f30-eed8-484e-aba6-2522a3de38de",
   "metadata": {
    "execution": {
     "iopub.execute_input": "2024-08-16T18:27:19.233785Z",
     "iopub.status.busy": "2024-08-16T18:27:19.233635Z",
     "iopub.status.idle": "2024-08-16T18:27:29.924387Z",
     "shell.execute_reply": "2024-08-16T18:27:29.924098Z",
     "shell.execute_reply.started": "2024-08-16T18:27:19.233774Z"
    }
   },
   "outputs": [
    {
     "name": "stdout",
     "output_type": "stream",
     "text": [
      "loading tokenizer\n",
      "Generating intro\n",
      "getting model\n",
      "loading model\n"
     ]
    },
    {
     "name": "stderr",
     "output_type": "stream",
     "text": [
      "We detected that you are passing `past_key_values` as a tuple and this is deprecated and will be removed in v4.43. Please use an appropriate `Cache` class (https://huggingface.co/docs/transformers/v4.41.3/en/internal/generation_utils#transformers.Cache)\n"
     ]
    },
    {
     "name": "stdout",
     "output_type": "stream",
     "text": [
      "Generating Complaint\n",
      "getting model\n",
      "Generating order number\n",
      "getting model\n"
     ]
    }
   ],
   "source": [
    "example_generation = complainer.generate_complaint()"
   ]
  },
  {
   "cell_type": "code",
   "execution_count": 9,
   "id": "b886cb36-5248-46dc-af0d-2741ffb0007f",
   "metadata": {
    "execution": {
     "iopub.execute_input": "2024-08-16T18:27:29.924935Z",
     "iopub.status.busy": "2024-08-16T18:27:29.924785Z",
     "iopub.status.idle": "2024-08-16T18:27:29.926955Z",
     "shell.execute_reply": "2024-08-16T18:27:29.926724Z",
     "shell.execute_reply.started": "2024-08-16T18:27:29.924928Z"
    }
   },
   "outputs": [
    {
     "data": {
      "text/plain": [
       "{'message': 'Hi, my name is John Doeandihave.I recently ordered a point and shoot camera but I received the camera instead of the additional batteries which isnowa useless camera my package does not contain all the items that were promised to be included with the product.This is order Z13-2930',\n",
       " 'order_number': 'Z13-2930',\n",
       " 'department': 'electronics'}"
      ]
     },
     "execution_count": 9,
     "metadata": {},
     "output_type": "execute_result"
    }
   ],
   "source": [
    "example_generation"
   ]
  },
  {
   "cell_type": "markdown",
   "id": "e9f124e9-333c-4c36-bde4-01d7f3f2a21d",
   "metadata": {},
   "source": [
    "## Step 3 - Generate Structure\n",
    "\n",
    "Rather than run the model right now, we'll use an example generated earlier"
   ]
  },
  {
   "cell_type": "code",
   "execution_count": 10,
   "id": "a7219601-65af-4c11-afa6-9d5065da69b6",
   "metadata": {
    "execution": {
     "iopub.execute_input": "2024-08-16T18:27:29.927298Z",
     "iopub.status.busy": "2024-08-16T18:27:29.927234Z",
     "iopub.status.idle": "2024-08-16T18:27:29.928844Z",
     "shell.execute_reply": "2024-08-16T18:27:29.928602Z",
     "shell.execute_reply.started": "2024-08-16T18:27:29.927291Z"
    }
   },
   "outputs": [],
   "source": [
    "# Normally we would do the following...\n",
    "# example_generation = complainer.generate()\n",
    "example_generation = {\n",
    " 'message': 'Hi, my name is Emily andbuyerser.I recently ordered a laptop with an extended warranty, but upon arrival, I noticed a malfunctioning trackpad. Despite numerous attempts at troubleshooting, the issue persists, greatly hindering my everyday use.This is order A12-3456',\n",
    " 'order_number': 'A12-3456',\n",
    " 'department': 'electronics'\n",
    "}"
   ]
  },
  {
   "cell_type": "markdown",
   "id": "c734ff15-b8bd-4538-ab3c-9f5ac827879b",
   "metadata": {},
   "source": [
    "## Step 4 - Inspect Output\n",
    "\n",
    "Uh oh! Look at the name output! `Emily andbuyerser` is not a name that I would expect and doesn't match the expected output!\n",
    "\n",
    "Now it's *your turn* to fix it!\n",
    "\n",
    "When you've found the bug you can continue on to the next sections:\n",
    "\n",
    "- Finish the `complaint_structure`, repeating this process\n",
    "- Finish the `order_number_structure`, repeating this process\n",
    "- If you have time, generate some new complaints!"
   ]
  },
  {
   "cell_type": "code",
   "execution_count": 11,
   "id": "18acbf60-f990-4bf3-bc9d-1bd2edc832af",
   "metadata": {
    "execution": {
     "iopub.execute_input": "2024-08-16T18:27:29.929196Z",
     "iopub.status.busy": "2024-08-16T18:27:29.929131Z",
     "iopub.status.idle": "2024-08-16T18:28:00.082156Z",
     "shell.execute_reply": "2024-08-16T18:28:00.081911Z",
     "shell.execute_reply.started": "2024-08-16T18:27:29.929190Z"
    }
   },
   "outputs": [
    {
     "name": "stdout",
     "output_type": "stream",
     "text": [
      "Generating intro\n",
      "Generating Complaint\n",
      "Generating order number\n",
      "Generating intro\n",
      "Generating Complaint\n",
      "Generating order number\n",
      "Generating intro\n",
      "Generating Complaint\n",
      "Generating order number\n",
      "Generating intro\n",
      "Generating Complaint\n",
      "Generating order number\n",
      "Generating intro\n",
      "Generating Complaint\n",
      "Generating order number\n"
     ]
    },
    {
     "data": {
      "text/plain": [
       "[{'message': 'Hi, my name is Jane Thompson.I recently ordered a phone.  \\n\\nIt was defective, and I hope to be refunded my money for the replacement\\n\\nIf you solve this issue, I would like to leave a review for your team.This is order Z05-0124',\n",
       "  'order_number': 'Z05-0124',\n",
       "  'department': 'kitchen'},\n",
       " {'message': 'Hi! This is Sarah Rogers.I recently ordered a car seat from the department for my 9 year old daughter. \\n\\nSubject line, no more details expected\\nDescription, Aubrey\\nDescribe product with a little description\\n\\nTook 2 weeks for delivery so far.\\nStill feels bad about it and would like a .The order number is Z20-2082',\n",
       "  'order_number': 'Z20-2082',\n",
       "  'department': 'automotive'},\n",
       " {'message': 'Hi, my name is Sarah Adams.I recently ordered a TV but it refuses to turn on, would it be possible that it needs a certain adhesive cap, can you provide the order number and the photo of the TV it belongs to.This is order A10-8402',\n",
       "  'order_number': 'A10-8402',\n",
       "  'department': 'electronics'},\n",
       " {'message': 'Hi! This is Sarah Quesnel.I recently ordered 3 cups today and after checking, they were stale. I believe they were in the fridge while I was away. I will contact the customer service team and they will take care of my fresh cups.This is order Z12-8305',\n",
       "  'order_number': 'Z12-8305',\n",
       "  'department': 'kitchen'},\n",
       " {'message': 'Hi, my name is John Doeetworks.I recently ordered an electric scooter for livood but it kept breaking once I started pedal. My brakes required replacement. But I emptied the tank day before to ensure all issues were resolved.This is order Z11-2250',\n",
       "  'order_number': 'Z11-2250',\n",
       "  'department': 'automotive'}]"
      ]
     },
     "execution_count": 11,
     "metadata": {},
     "output_type": "execute_result"
    }
   ],
   "source": [
    "complaints = [complainer.generate_complaint() for _ in range(5)]\n",
    "complaints"
   ]
  },
  {
   "cell_type": "code",
   "execution_count": 12,
   "id": "47e06bff-bc29-4bca-926e-d7754dd3c2ef",
   "metadata": {
    "execution": {
     "iopub.execute_input": "2024-08-16T18:28:00.082601Z",
     "iopub.status.busy": "2024-08-16T18:28:00.082521Z",
     "iopub.status.idle": "2024-08-16T18:28:00.084294Z",
     "shell.execute_reply": "2024-08-16T18:28:00.084036Z",
     "shell.execute_reply.started": "2024-08-16T18:28:00.082593Z"
    }
   },
   "outputs": [],
   "source": [
    "#with open(\"examples.json\", 'w') as fout:\n",
    "#    fout.write(json.dumps(complaints))"
   ]
  }
 ],
 "metadata": {
  "kernelspec": {
   "display_name": "Python 3 (ipykernel)",
   "language": "python",
   "name": "python3"
  },
  "language_info": {
   "codemirror_mode": {
    "name": "ipython",
    "version": 3
   },
   "file_extension": ".py",
   "mimetype": "text/x-python",
   "name": "python",
   "nbconvert_exporter": "python",
   "pygments_lexer": "ipython3",
   "version": "3.11.5"
  }
 },
 "nbformat": 4,
 "nbformat_minor": 5
}
