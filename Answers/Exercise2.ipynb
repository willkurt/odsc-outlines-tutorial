{
 "cells": [
  {
   "cell_type": "code",
   "execution_count": 1,
   "id": "ace3862e-33e5-48ef-8d5b-c61087c1eb77",
   "metadata": {
    "execution": {
     "iopub.execute_input": "2024-08-05T18:01:08.040258Z",
     "iopub.status.busy": "2024-08-05T18:01:08.039931Z",
     "iopub.status.idle": "2024-08-05T18:01:09.480629Z",
     "shell.execute_reply": "2024-08-05T18:01:09.480326Z",
     "shell.execute_reply.started": "2024-08-05T18:01:08.040236Z"
    }
   },
   "outputs": [],
   "source": [
    "import json\n",
    "import outlines\n",
    "from transformers import AutoTokenizer\n",
    "import torch\n",
    "from textwrap import dedent"
   ]
  },
  {
   "cell_type": "code",
   "execution_count": 2,
   "id": "bdc9a6c1-22c0-4d6c-9cec-aeae462ebb4e",
   "metadata": {
    "execution": {
     "iopub.execute_input": "2024-08-05T18:01:31.244887Z",
     "iopub.status.busy": "2024-08-05T18:01:31.244260Z",
     "iopub.status.idle": "2024-08-05T18:01:43.437698Z",
     "shell.execute_reply": "2024-08-05T18:01:43.437294Z",
     "shell.execute_reply.started": "2024-08-05T18:01:31.244862Z"
    }
   },
   "outputs": [
    {
     "data": {
      "application/vnd.jupyter.widget-view+json": {
       "model_id": "51543ee1a2954882a7243acce5ebe64d",
       "version_major": 2,
       "version_minor": 0
      },
      "text/plain": [
       "Loading checkpoint shards:   0%|          | 0/6 [00:00<?, ?it/s]"
      ]
     },
     "metadata": {},
     "output_type": "display_data"
    }
   ],
   "source": [
    "model_name = \"microsoft/Phi-3-medium-4k-instruct\"\n",
    "model = outlines.models.transformers(model_name)\n",
    "tokenizer = AutoTokenizer.from_pretrained(model_name)"
   ]
  },
  {
   "cell_type": "code",
   "execution_count": 3,
   "id": "28dca569-7002-48cf-ab71-454a37557b93",
   "metadata": {
    "execution": {
     "iopub.execute_input": "2024-08-05T18:18:41.179223Z",
     "iopub.status.busy": "2024-08-05T18:18:41.177927Z",
     "iopub.status.idle": "2024-08-05T18:18:41.186455Z",
     "shell.execute_reply": "2024-08-05T18:18:41.185707Z",
     "shell.execute_reply.started": "2024-08-05T18:18:41.179168Z"
    }
   },
   "outputs": [],
   "source": [
    "with open(\"examples.json\",'r') as fin:\n",
    "    complaint_data = json.loads(fin.read())"
   ]
  },
  {
   "cell_type": "code",
   "execution_count": 4,
   "id": "c26cd0b4-5008-4fb6-be85-387c2d1f120a",
   "metadata": {
    "execution": {
     "iopub.execute_input": "2024-08-05T18:41:07.824935Z",
     "iopub.status.busy": "2024-08-05T18:41:07.824190Z",
     "iopub.status.idle": "2024-08-05T18:41:07.870301Z",
     "shell.execute_reply": "2024-08-05T18:41:07.870019Z",
     "shell.execute_reply.started": "2024-08-05T18:41:07.824883Z"
    }
   },
   "outputs": [],
   "source": [
    "from pydantic import BaseModel, Field, constr\n",
    "from enum import Enum\n",
    "\n",
    "\n",
    "class Department(str, Enum):\n",
    "    clothing = \"clothing\"\n",
    "    electronics = \"electronics\"\n",
    "    kitchen = \"kitchen\"\n",
    "    automotive = \"automotive\"\n",
    "\n",
    "class ComplaintData(BaseModel):\n",
    "    first_name: str\n",
    "    last_name: str\n",
    "    order_number: str = Field(pattern=r'[ADZ][0-9]{2}-[0-9]{4}')\n",
    "    department: Department"
   ]
  },
  {
   "cell_type": "code",
   "execution_count": 22,
   "id": "eae089fd-1389-4f37-9d6a-1be1cf69867a",
   "metadata": {
    "execution": {
     "iopub.execute_input": "2024-08-05T20:59:21.313585Z",
     "iopub.status.busy": "2024-08-05T20:59:21.313243Z",
     "iopub.status.idle": "2024-08-05T20:59:21.318166Z",
     "shell.execute_reply": "2024-08-05T20:59:21.317250Z",
     "shell.execute_reply.started": "2024-08-05T20:59:21.313550Z"
    }
   },
   "outputs": [],
   "source": [
    "def create_prompt(complaint):\n",
    "    complaint_messages = [\n",
    "        {\n",
    "        'role': 'user',\n",
    "        'content': f\"\"\"\n",
    "        You are a complaint processing assistent, you aim is to process complaints and return the following intformation in this JSON format:\n",
    "        {{\n",
    "            'first_name': <first name>,\n",
    "            'last_name': <last name>,\n",
    "            'order number': <order number has the following format (ADZ)XX-XXXXX>,\n",
    "            'department': <{\"|\".join([e.value for e in Department])}>,\n",
    "        }}\n",
    "        \"\"\"},\n",
    "        {'role': 'assistant',\n",
    "         'content': \"I undersand and will process the complaints in the JSON format you described\"\n",
    "        },\n",
    "        {'role': 'user',\n",
    "        'content': complaint['message']\n",
    "        }\n",
    "    ]\n",
    "    complaint_prompt = tokenizer.apply_chat_template(complaint_messages, tokenize=False)\n",
    "    return complaint_prompt"
   ]
  },
  {
   "cell_type": "code",
   "execution_count": 23,
   "id": "e244b48e-8aed-44fb-b331-51959e78a2be",
   "metadata": {
    "execution": {
     "iopub.execute_input": "2024-08-05T20:59:23.784235Z",
     "iopub.status.busy": "2024-08-05T20:59:23.783942Z",
     "iopub.status.idle": "2024-08-05T20:59:23.829089Z",
     "shell.execute_reply": "2024-08-05T20:59:23.828639Z",
     "shell.execute_reply.started": "2024-08-05T20:59:23.784209Z"
    }
   },
   "outputs": [],
   "source": [
    "complaint_processor = outlines.generate.json(model, ComplaintData)"
   ]
  },
  {
   "cell_type": "code",
   "execution_count": 24,
   "id": "fb7f23cd-b36c-41d3-b58b-02a9151b572e",
   "metadata": {
    "execution": {
     "iopub.execute_input": "2024-08-05T20:59:24.633971Z",
     "iopub.status.busy": "2024-08-05T20:59:24.633561Z",
     "iopub.status.idle": "2024-08-05T21:09:38.737177Z",
     "shell.execute_reply": "2024-08-05T21:09:38.736597Z",
     "shell.execute_reply.started": "2024-08-05T20:59:24.633949Z"
    }
   },
   "outputs": [
    {
     "name": "stderr",
     "output_type": "stream",
     "text": [
      "We detected that you are passing `past_key_values` as a tuple and this is deprecated and will be removed in v4.43. Please use an appropriate `Cache` class (https://huggingface.co/docs/transformers/v4.41.3/en/internal/generation_utils#transformers.Cache)\n",
      "You are not running the flash-attention implementation, expect numerical differences.\n"
     ]
    }
   ],
   "source": [
    "results = []\n",
    "for complaint in complaint_data:\n",
    "    prompt = create_prompt(complaint)\n",
    "    result = complaint_processor(prompt)\n",
    "    results.append(result)"
   ]
  },
  {
   "cell_type": "code",
   "execution_count": 38,
   "id": "7ce908dc-8adf-4001-bcbd-9266a740fbbe",
   "metadata": {
    "execution": {
     "iopub.execute_input": "2024-08-05T21:15:00.072362Z",
     "iopub.status.busy": "2024-08-05T21:15:00.071974Z",
     "iopub.status.idle": "2024-08-05T21:15:00.076414Z",
     "shell.execute_reply": "2024-08-05T21:15:00.075905Z",
     "shell.execute_reply.started": "2024-08-05T21:15:00.072328Z"
    }
   },
   "outputs": [
    {
     "name": "stdout",
     "output_type": "stream",
     "text": [
      "A34-8956 vs My order was A348956\n"
     ]
    }
   ],
   "source": [
    "idx = 3\n",
    "print(f\"{results[idx].order_number} vs {complaint_data[idx]['order_number']}\")"
   ]
  }
 ],
 "metadata": {
  "kernelspec": {
   "display_name": "Python 3 (ipykernel)",
   "language": "python",
   "name": "python3"
  },
  "language_info": {
   "codemirror_mode": {
    "name": "ipython",
    "version": 3
   },
   "file_extension": ".py",
   "mimetype": "text/x-python",
   "name": "python",
   "nbconvert_exporter": "python",
   "pygments_lexer": "ipython3",
   "version": "3.11.9"
  }
 },
 "nbformat": 4,
 "nbformat_minor": 5
}
