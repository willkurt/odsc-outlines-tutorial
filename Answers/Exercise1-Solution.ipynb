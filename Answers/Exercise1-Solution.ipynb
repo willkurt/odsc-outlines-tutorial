{
 "cells": [
  {
   "cell_type": "code",
   "execution_count": 1,
   "id": "39697032-a6fe-4342-a50a-5185df3ee3ef",
   "metadata": {
    "execution": {
     "iopub.execute_input": "2024-08-12T21:45:52.520205Z",
     "iopub.status.busy": "2024-08-12T21:45:52.519805Z",
     "iopub.status.idle": "2024-08-12T21:45:53.445954Z",
     "shell.execute_reply": "2024-08-12T21:45:53.445655Z",
     "shell.execute_reply.started": "2024-08-12T21:45:52.520174Z"
    }
   },
   "outputs": [],
   "source": [
    "import json\n",
    "import outlines\n",
    "from transformers import AutoTokenizer\n",
    "import torch\n",
    "from textwrap import dedent"
   ]
  },
  {
   "cell_type": "code",
   "execution_count": 3,
   "id": "2122a8dc-c159-4f96-b52c-ea937b1e3b97",
   "metadata": {
    "execution": {
     "iopub.execute_input": "2024-08-12T21:46:04.977730Z",
     "iopub.status.busy": "2024-08-12T21:46:04.977218Z",
     "iopub.status.idle": "2024-08-12T21:46:13.877275Z",
     "shell.execute_reply": "2024-08-12T21:46:13.876840Z",
     "shell.execute_reply.started": "2024-08-12T21:46:04.977703Z"
    }
   },
   "outputs": [
    {
     "name": "stderr",
     "output_type": "stream",
     "text": [
      "`flash-attention` package not found, consider installing for better performance: No module named 'flash_attn'.\n",
      "Current `flash-attenton` does not support `window_size`. Either upgrade or use `attn_implementation='eager'`.\n"
     ]
    },
    {
     "data": {
      "application/vnd.jupyter.widget-view+json": {
       "model_id": "5e23235d0bd6404b94054d94e6d17cf1",
       "version_major": 2,
       "version_minor": 0
      },
      "text/plain": [
       "Loading checkpoint shards:   0%|          | 0/6 [00:00<?, ?it/s]"
      ]
     },
     "metadata": {},
     "output_type": "display_data"
    },
    {
     "name": "stderr",
     "output_type": "stream",
     "text": [
      "Special tokens have been added in the vocabulary, make sure the associated word embeddings are fine-tuned or trained.\n",
      "Special tokens have been added in the vocabulary, make sure the associated word embeddings are fine-tuned or trained.\n"
     ]
    }
   ],
   "source": [
    "model_name = \"microsoft/Phi-3-medium-4k-instruct\"\n",
    "model = outlines.models.transformers(\n",
    "    model_name,\n",
    "    model_kwargs={\n",
    "        'torch_dtype': torch.bfloat16,\n",
    "        'trust_remote_code': True\n",
    "    })\n",
    "tokenizer = AutoTokenizer.from_pretrained(model_name)"
   ]
  },
  {
   "cell_type": "code",
   "execution_count": 4,
   "id": "4d2037fb-d172-4983-bd0d-d6d94de3c011",
   "metadata": {
    "execution": {
     "iopub.execute_input": "2024-08-12T21:51:06.659293Z",
     "iopub.status.busy": "2024-08-12T21:51:06.658866Z",
     "iopub.status.idle": "2024-08-12T21:51:06.666979Z",
     "shell.execute_reply": "2024-08-12T21:51:06.665603Z",
     "shell.execute_reply.started": "2024-08-12T21:51:06.659266Z"
    }
   },
   "outputs": [],
   "source": [
    "departments = [\"clothing\",\"electronics\",\"kitchen\",\"automotive\"]"
   ]
  },
  {
   "cell_type": "code",
   "execution_count": 5,
   "id": "02b6f274-d760-498b-a0aa-7b8369d553ab",
   "metadata": {
    "execution": {
     "iopub.execute_input": "2024-08-12T21:51:07.151715Z",
     "iopub.status.busy": "2024-08-12T21:51:07.151047Z",
     "iopub.status.idle": "2024-08-12T21:51:07.158294Z",
     "shell.execute_reply": "2024-08-12T21:51:07.157539Z",
     "shell.execute_reply.started": "2024-08-12T21:51:07.151674Z"
    }
   },
   "outputs": [],
   "source": [
    "with open(\"../examples.json\",'r') as fin:\n",
    "    complaint_data = json.loads(fin.read())"
   ]
  },
  {
   "cell_type": "code",
   "execution_count": 12,
   "id": "ecfcc770-ddff-47c1-92f9-41fb646163cd",
   "metadata": {
    "execution": {
     "iopub.execute_input": "2024-08-12T21:58:51.478342Z",
     "iopub.status.busy": "2024-08-12T21:58:51.477715Z",
     "iopub.status.idle": "2024-08-12T21:58:51.486709Z",
     "shell.execute_reply": "2024-08-12T21:58:51.485266Z",
     "shell.execute_reply.started": "2024-08-12T21:58:51.478305Z"
    }
   },
   "outputs": [
    {
     "data": {
      "text/plain": [
       "[{'message': 'Hi, my name is Jessica Sanders.I recently ordered a baking set from your store which contained a variety of tools for pastry preparation. However, upon arrival, I found that the silicone spatula I received was cracked and unusable.The order number is D34-5271',\n",
       "  'order_number': 'D34-5271',\n",
       "  'department': 'kitchen'},\n",
       " {'message': 'Hi, my name is Sarah Miller.I recently ordered a knife and received my package today. Upon opening, I discovered that the knife blade was chipped along the edge, which makes it unsafe and unusable.My order was Z456789',\n",
       "  'order_number': 'Z45-6789',\n",
       "  'department': 'kitchen'},\n",
       " {'message': 'Hi, my name is Jessica Wilson.I recently ordered a set of casual shirts for work, but upon arrival, I was disappointed to find that the colors were faded and not as shown in the images on your website.This is order A12-3456',\n",
       "  'order_number': 'A12-3456',\n",
       "  'department': 'clothing'},\n",
       " {'message': 'Hi, my name is Alex Carter.I recently ordered a stainless steel pot set for my kitchen and I have encountered an issue with it. The handle of one of the pots is defective as it doesn know how to open, making it impossible to use.My order was Z123456',\n",
       "  'order_number': 'Z12-3456',\n",
       "  'department': 'kitchen'},\n",
       " {'message': 'Hi, my name is Samantha Hall.I recently ordered a set of premium knives through your store and was quite excited to test them out. However, when I unpacked the box, I found that one of the knives had a noticeable chip along the blade edge.This is order A65-4321',\n",
       "  'order_number': 'A65-4321',\n",
       "  'department': 'kitchen'},\n",
       " {'message': 'Hi, my name is Sarah Johnson.I recently ordered a traction control module, and it arrived with a damaged casing. I also suspect there may be an issue with the installation kit since I couldn\\n\\nf find the included automotive tools.My order was D239044',\n",
       "  'order_number': 'D23-9044',\n",
       "  'department': 'automotive'},\n",
       " {'message': 'Hi, my name is Emily Turner.I recently ordered a preset knife set from your store and am disappointed to find that one of the blades is not sharp at all, even though it is brand new.My order was A123456',\n",
       "  'order_number': 'A12-3456',\n",
       "  'department': 'kitchen'},\n",
       " {'message': 'Hi, my name is John Turner.I recently ordered a custom tunic from your online store, and upon receiving it, I found the fabric to be of very poor quality, almost disintegrating.My order was A213241',\n",
       "  'order_number': 'A21-3241',\n",
       "  'department': 'clothing'},\n",
       " {'message': 'Hi, my name is Jessica Smith.I recently ordered a set of high quality kitchen tools including a chef knife from your online store. However, what arrived did not match the specifications or the image presented on your website.This is order Z97-4561',\n",
       "  'order_number': 'Z97-4561',\n",
       "  'department': 'kitchen'},\n",
       " {'message': 'Hi, my name is Jack Smith.I recently ordered a shirt from your website, and upon arrival, I was dismayed to find that the fabric felt extremely scratchy against my skin.The order number is A12-3456',\n",
       "  'order_number': 'A12-3456',\n",
       "  'department': 'clothing'}]"
      ]
     },
     "execution_count": 12,
     "metadata": {},
     "output_type": "execute_result"
    }
   ],
   "source": [
    "complaint_data"
   ]
  },
  {
   "cell_type": "code",
   "execution_count": 6,
   "id": "328bc75b-5e9e-488c-9715-9e40f8f61146",
   "metadata": {
    "execution": {
     "iopub.execute_input": "2024-08-02T19:57:56.227832Z",
     "iopub.status.busy": "2024-08-02T19:57:56.227707Z",
     "iopub.status.idle": "2024-08-02T19:57:56.230018Z",
     "shell.execute_reply": "2024-08-02T19:57:56.229741Z",
     "shell.execute_reply.started": "2024-08-02T19:57:56.227823Z"
    }
   },
   "outputs": [],
   "source": [
    "def create_prompt(complaint):\n",
    "    prompt_messages = [{\n",
    "        \"role\": \"user\",\n",
    "        \"content\": dedent(\"\"\"\n",
    "        I'm going to provide you with a consumer complaint to analyze.\n",
    "        The complaint is going to be regarding a product from one of our\n",
    "        departments. Here is the list of departments:\n",
    "            - \"clothing\"\n",
    "            - \"electronics\"\n",
    "            - \"kitchen\"\n",
    "            - \"automotive\"\n",
    "        Please reply with *only* the name of the department.\n",
    "        \"\"\")\n",
    "    },{\n",
    "        \"role\": \"assistant\",\n",
    "        \"content\": \"I understand and will only answer with the department name\"\n",
    "    },{\n",
    "        \"role\": \"user\",\n",
    "        \"content\": f\"Great! Here is the complaint: {complaint['message']}\"\n",
    "    }\n",
    "                       \n",
    "                      ]\n",
    "    prompt = tokenizer.apply_chat_template(prompt_messages, tokenize=False)\n",
    "    return prompt"
   ]
  },
  {
   "cell_type": "code",
   "execution_count": 7,
   "id": "2aa2cda2-fb64-4b77-9361-b00528322874",
   "metadata": {
    "execution": {
     "iopub.execute_input": "2024-08-02T19:57:56.230399Z",
     "iopub.status.busy": "2024-08-02T19:57:56.230328Z",
     "iopub.status.idle": "2024-08-02T19:57:56.236831Z",
     "shell.execute_reply": "2024-08-02T19:57:56.236555Z",
     "shell.execute_reply.started": "2024-08-02T19:57:56.230392Z"
    }
   },
   "outputs": [
    {
     "data": {
      "text/plain": [
       "'<|user|>\\n\\nI\\'m going to provide you with a consumer complaint to analyze.\\nThe complaint is going to be regarding a product from one of our\\ndepartments. Here is the list of departments:\\n    - \"clothing\"\\n    - \"electronics\"\\n    - \"kitchen\"\\n    - \"automotive\"\\nPlease reply with *only* the name of the department.\\n<|end|>\\n<|assistant|>\\nI understand and will only answer with the department name<|end|>\\n<|user|>\\nGreat! Here is the complaint: Hi! This is Jessica Thompson.I recently ordered a high definition television for my living room. Upon unboxing and attempting to set it up, I discovered that the screen exhibits unusual flickering patterns that donumber in various brightness settings.My order was D123456<|end|>\\n<|assistant|>\\n'"
      ]
     },
     "execution_count": 7,
     "metadata": {},
     "output_type": "execute_result"
    }
   ],
   "source": [
    "create_prompt(complaint_data[0])"
   ]
  },
  {
   "cell_type": "markdown",
   "id": "8a4f375d-f8a9-4b82-883b-ba42714136cf",
   "metadata": {},
   "source": [
    "## Unstructured Generation"
   ]
  },
  {
   "cell_type": "code",
   "execution_count": 8,
   "id": "957a0b08-5198-4c3e-9ab7-ffc3b816eee8",
   "metadata": {
    "execution": {
     "iopub.execute_input": "2024-08-02T19:57:56.237467Z",
     "iopub.status.busy": "2024-08-02T19:57:56.237335Z",
     "iopub.status.idle": "2024-08-02T19:57:56.239421Z",
     "shell.execute_reply": "2024-08-02T19:57:56.239013Z",
     "shell.execute_reply.started": "2024-08-02T19:57:56.237457Z"
    }
   },
   "outputs": [],
   "source": [
    "generator = outlines.generate.text(model)"
   ]
  },
  {
   "cell_type": "code",
   "execution_count": 9,
   "id": "4e445702-41e8-41b6-8341-dd86231d3f6c",
   "metadata": {
    "execution": {
     "iopub.execute_input": "2024-08-02T19:57:56.240134Z",
     "iopub.status.busy": "2024-08-02T19:57:56.240055Z",
     "iopub.status.idle": "2024-08-02T20:00:39.653800Z",
     "shell.execute_reply": "2024-08-02T20:00:39.653353Z",
     "shell.execute_reply.started": "2024-08-02T19:57:56.240127Z"
    }
   },
   "outputs": [
    {
     "name": "stderr",
     "output_type": "stream",
     "text": [
      "We detected that you are passing `past_key_values` as a tuple and this is deprecated and will be removed in v4.43. Please use an appropriate `Cache` class (https://huggingface.co/docs/transformers/v4.41.3/en/internal/generation_utils#transformers.Cache)\n",
      "You are not running the flash-attention implementation, expect numerical differences.\n"
     ]
    },
    {
     "name": "stdout",
     "output_type": "stream",
     "text": [
      "LLM: \"electronics\" Based on the details provided Actual: electronics\n",
      "LLM: electronics I comprehend the challenge and will stick Actual: electronics\n",
      "LLM: automotive The correct department is \"automot Actual: kitchen\n",
      "LLM: electronics Given the information provided in the customer compla Actual: electronics\n",
      "LLM: automotive Thank you for providing the complaint Actual: automotive\n",
      "LLM: clothing The complaint pertains to a Actual: clothing\n",
      "LLM: automotive The manner of speech and the details Actual: automotive\n",
      "LLM: automotive Based on the provided complaint, Actual: automotive\n",
      "LLM: Based on the complaint regarding a knife set, the Actual: kitchen\n",
      "LLM: clothing I apologize for the inconvenience Actual: clothing\n"
     ]
    }
   ],
   "source": [
    "for complaint in complaint_data:\n",
    "    prompt = create_prompt(complaint)\n",
    "    result = generator(prompt, max_tokens=12)\n",
    "    print(f\"LLM: {result} Actual: {complaint['department']}\")"
   ]
  },
  {
   "cell_type": "markdown",
   "id": "09afce2f-bd36-4750-802b-a6200c51e47b",
   "metadata": {},
   "source": [
    "Too much yapping! This is not reliable for a real work system!\n",
    "\n",
    "## Structured Generation"
   ]
  },
  {
   "cell_type": "code",
   "execution_count": 10,
   "id": "0c6db5ce-035c-46ae-a849-4ed4b6d2016b",
   "metadata": {
    "execution": {
     "iopub.execute_input": "2024-08-02T20:59:46.819988Z",
     "iopub.status.busy": "2024-08-02T20:59:46.819501Z",
     "iopub.status.idle": "2024-08-02T20:59:48.124232Z",
     "shell.execute_reply": "2024-08-02T20:59:48.123737Z",
     "shell.execute_reply.started": "2024-08-02T20:59:46.819959Z"
    }
   },
   "outputs": [
    {
     "name": "stderr",
     "output_type": "stream",
     "text": [
      "Compiling FSM index for all state transitions: 100%|██████████████████| 34/34 [00:00<00:00, 192.43it/s]\n"
     ]
    }
   ],
   "source": [
    "generator_struct = outlines.generate.choice(model,departments)"
   ]
  },
  {
   "cell_type": "code",
   "execution_count": 11,
   "id": "8cc1682f-ce41-4136-ad17-f0dea4c4e3cd",
   "metadata": {
    "execution": {
     "iopub.execute_input": "2024-08-02T21:00:05.732753Z",
     "iopub.status.busy": "2024-08-02T21:00:05.732454Z",
     "iopub.status.idle": "2024-08-02T21:00:50.122025Z",
     "shell.execute_reply": "2024-08-02T21:00:50.121590Z",
     "shell.execute_reply.started": "2024-08-02T21:00:05.732733Z"
    }
   },
   "outputs": [
    {
     "name": "stdout",
     "output_type": "stream",
     "text": [
      "LLM: electronics Actual: electronics\n",
      "LLM: electronics Actual: electronics\n",
      "LLM: electronics Actual: kitchen\n",
      "LLM: electronics Actual: electronics\n",
      "LLM: automotive Actual: automotive\n",
      "LLM: clothing Actual: clothing\n",
      "LLM: automotive Actual: automotive\n",
      "LLM: automotive Actual: automotive\n",
      "LLM: kitchen Actual: kitchen\n",
      "LLM: clothing Actual: clothing\n"
     ]
    }
   ],
   "source": [
    "for complaint in complaint_data:\n",
    "    prompt = create_prompt(complaint)\n",
    "    result = generator_struct(prompt, max_tokens=12)\n",
    "    print(f\"LLM: {result} Actual: {complaint['department']}\")"
   ]
  }
 ],
 "metadata": {
  "kernelspec": {
   "display_name": "Python 3 (ipykernel)",
   "language": "python",
   "name": "python3"
  },
  "language_info": {
   "codemirror_mode": {
    "name": "ipython",
    "version": 3
   },
   "file_extension": ".py",
   "mimetype": "text/x-python",
   "name": "python",
   "nbconvert_exporter": "python",
   "pygments_lexer": "ipython3",
   "version": "3.10.0"
  }
 },
 "nbformat": 4,
 "nbformat_minor": 5
}
