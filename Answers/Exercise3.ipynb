{
 "cells": [
  {
   "cell_type": "code",
   "execution_count": 1,
   "id": "bce11d18-6a79-4e21-8c51-3a9941c8d953",
   "metadata": {
    "execution": {
     "iopub.execute_input": "2024-07-31T19:06:49.047250Z",
     "iopub.status.busy": "2024-07-31T19:06:49.046870Z",
     "iopub.status.idle": "2024-07-31T19:06:50.692345Z",
     "shell.execute_reply": "2024-07-31T19:06:50.692019Z",
     "shell.execute_reply.started": "2024-07-31T19:06:49.047214Z"
    }
   },
   "outputs": [],
   "source": [
    "import json\n",
    "import outlines\n",
    "from transformers import AutoTokenizer\n",
    "import torch\n",
    "from textwrap import dedent"
   ]
  },
  {
   "cell_type": "code",
   "execution_count": 2,
   "id": "a6df5c6c-0431-4032-838d-aa51239d8935",
   "metadata": {
    "execution": {
     "iopub.execute_input": "2024-07-31T19:06:50.693240Z",
     "iopub.status.busy": "2024-07-31T19:06:50.693032Z",
     "iopub.status.idle": "2024-07-31T19:06:50.695207Z",
     "shell.execute_reply": "2024-07-31T19:06:50.694910Z",
     "shell.execute_reply.started": "2024-07-31T19:06:50.693229Z"
    }
   },
   "outputs": [],
   "source": [
    "model_name = \"microsoft/Phi-3-medium-4k-instruct\""
   ]
  },
  {
   "cell_type": "code",
   "execution_count": 3,
   "id": "25404925-cb77-4e11-b3eb-fdbfffb80a0b",
   "metadata": {
    "execution": {
     "iopub.execute_input": "2024-07-31T19:06:50.721668Z",
     "iopub.status.busy": "2024-07-31T19:06:50.721501Z",
     "iopub.status.idle": "2024-07-31T19:07:02.038233Z",
     "shell.execute_reply": "2024-07-31T19:07:02.037892Z",
     "shell.execute_reply.started": "2024-07-31T19:06:50.721657Z"
    }
   },
   "outputs": [
    {
     "data": {
      "application/vnd.jupyter.widget-view+json": {
       "model_id": "676966aa5bc54569b642123a4f395fa8",
       "version_major": 2,
       "version_minor": 0
      },
      "text/plain": [
       "Loading checkpoint shards:   0%|          | 0/6 [00:00<?, ?it/s]"
      ]
     },
     "metadata": {},
     "output_type": "display_data"
    }
   ],
   "source": [
    "model = outlines.models.transformers(model_name)\n",
    "tokenizer = AutoTokenizer.from_pretrained(model_name)"
   ]
  },
  {
   "cell_type": "code",
   "execution_count": 4,
   "id": "5b45b6cd-adfb-47ef-9a6f-541379d7c40e",
   "metadata": {
    "execution": {
     "iopub.execute_input": "2024-07-31T19:07:02.039202Z",
     "iopub.status.busy": "2024-07-31T19:07:02.039054Z",
     "iopub.status.idle": "2024-07-31T19:07:02.041136Z",
     "shell.execute_reply": "2024-07-31T19:07:02.040828Z",
     "shell.execute_reply.started": "2024-07-31T19:07:02.039192Z"
    }
   },
   "outputs": [],
   "source": [
    "generator = outlines.generate.text(model)"
   ]
  },
  {
   "cell_type": "code",
   "execution_count": 5,
   "id": "5c0db12f-8872-4a2b-8dc7-97abb45d602c",
   "metadata": {
    "execution": {
     "iopub.execute_input": "2024-07-31T19:07:02.041583Z",
     "iopub.status.busy": "2024-07-31T19:07:02.041503Z",
     "iopub.status.idle": "2024-07-31T19:07:02.043215Z",
     "shell.execute_reply": "2024-07-31T19:07:02.042959Z",
     "shell.execute_reply.started": "2024-07-31T19:07:02.041576Z"
    }
   },
   "outputs": [],
   "source": [
    "example_text = dedent(\"\"\"\n",
    "    John Smith here, I recently purchased a pair of socks but unfortunately they do not match! \n",
    "    My order was D123454\n",
    "\"\"\").strip()"
   ]
  },
  {
   "cell_type": "code",
   "execution_count": 6,
   "id": "431da9f7-2523-4c84-af37-61f32eee9d63",
   "metadata": {
    "execution": {
     "iopub.execute_input": "2024-07-31T19:07:02.044280Z",
     "iopub.status.busy": "2024-07-31T19:07:02.044185Z",
     "iopub.status.idle": "2024-07-31T19:07:02.046387Z",
     "shell.execute_reply": "2024-07-31T19:07:02.046145Z",
     "shell.execute_reply.started": "2024-07-31T19:07:02.044272Z"
    }
   },
   "outputs": [
    {
     "data": {
      "text/plain": [
       "'John Smith here, I recently purchased a pair of socks but unfortunately they do not match! \\nMy order was D123454'"
      ]
     },
     "execution_count": 6,
     "metadata": {},
     "output_type": "execute_result"
    }
   ],
   "source": [
    "example_text"
   ]
  },
  {
   "cell_type": "markdown",
   "id": "565edb8f-d761-49a8-a082-4bf4ff0052f2",
   "metadata": {},
   "source": [
    "## Generating data\n",
    "\n"
   ]
  },
  {
   "cell_type": "code",
   "execution_count": 40,
   "id": "316ee435-baa0-4773-84fd-e0c770a7c22b",
   "metadata": {
    "execution": {
     "iopub.execute_input": "2024-07-31T22:01:36.285565Z",
     "iopub.status.busy": "2024-07-31T22:01:36.285080Z",
     "iopub.status.idle": "2024-07-31T22:01:36.723751Z",
     "shell.execute_reply": "2024-07-31T22:01:36.723533Z",
     "shell.execute_reply.started": "2024-07-31T22:01:36.285537Z"
    }
   },
   "outputs": [
    {
     "name": "stderr",
     "output_type": "stream",
     "text": [
      "Compiling FSM index for all state transitions: 100%|██████████████████| 47/47 [00:00<00:00, 139.47it/s]\n"
     ]
    },
    {
     "data": {
      "text/plain": [
       "\"<|user|>\\n\\nYou are an agent designed to create simulated customer complaints. The\\ncomplaints are essentially short text messages that describe a customer,\\ntheir problem, and provide an order number.\\n\\nYou will build the complaint in parts based on the user request. The\\ncomplaint will be about a product from a specified department, but you\\nwill not mention the department name directly.\\n\\nFor example, if you are asked about something from the 'kitchen' department \\nyou might mention an 'knife' but you won't mention the department.\\n<|end|>\\n<|assistant|>\\n<|user|>\\nStart the message with a short intro stating the customer's name.<|end|>\\n<|assistant|>\\n\""
      ]
     },
     "execution_count": 40,
     "metadata": {},
     "output_type": "execute_result"
    }
   ],
   "source": [
    "import re\n",
    "\n",
    "prompt_messages = [{\n",
    "    \"role\": \"user\",\n",
    "    \"content\": dedent(\"\"\"\n",
    "    You are an agent designed to create simulated customer complaints. The\n",
    "    complaints are essentially short text messages that describe a customer,\n",
    "    their problem, and provide an order number.\n",
    "\n",
    "    You will build the complaint in parts based on the user request. The\n",
    "    complaint will be about a product from a specified department, but you\n",
    "    will not mention the department name directly.\n",
    "\n",
    "    For example, if you are asked about something from the 'kitchen' department \n",
    "    you might mention an 'knife' but you won't mention the department.\n",
    "    \"\"\")\n",
    "},{ \n",
    "    \"role\": \"agent\",\n",
    "    \"content\": dedent(\"\"\"\n",
    "    I understand the task, and will wait for the you to instruct me on\n",
    "    next steps.\n",
    "    \"\"\")\n",
    "}]\n",
    "\n",
    "intro_prompt = {\n",
    "    \"role\": \"user\",\n",
    "    \"content\": \"Start the message with a short intro stating the customer's name.\"\n",
    "}\n",
    "possible_intros = [\n",
    "    r'(Hi! This is [A-z][a-z]{3,10} [A-z][a-z]{3,10})\\.',\n",
    "    r'(Hey, my name is [A-z][a-z]{3,10} [A-z][a-z]{3,10})\\.',\n",
    "]\n",
    "name_section = rf\"({'|'.join(possible_intros)})\"\n",
    "\n",
    "generator_name_section = outlines.generate.regex(model, name_section)\n",
    "\n",
    "prompt_messages.append(intro_prompt)\n",
    "prompt_1 = tokenizer.apply_chat_template(prompt_messages, tokenize=False)\n",
    "prompt_1"
   ]
  },
  {
   "cell_type": "code",
   "execution_count": 42,
   "id": "c742f726-643c-4812-915a-59f5f88210dc",
   "metadata": {
    "execution": {
     "iopub.execute_input": "2024-07-31T22:11:28.058658Z",
     "iopub.status.busy": "2024-07-31T22:11:28.057943Z",
     "iopub.status.idle": "2024-07-31T22:11:38.559808Z",
     "shell.execute_reply": "2024-07-31T22:11:38.559400Z",
     "shell.execute_reply.started": "2024-07-31T22:11:28.058595Z"
    }
   },
   "outputs": [
    {
     "data": {
      "text/plain": [
       "'Hi! This is Emily Thompson.'"
      ]
     },
     "execution_count": 42,
     "metadata": {},
     "output_type": "execute_result"
    }
   ],
   "source": [
    "intro_result = generator_name_section(prompt_1)\n",
    "intro_result"
   ]
  },
  {
   "cell_type": "code",
   "execution_count": 43,
   "id": "1af68dc6-bc12-4b47-93e2-a5b4b474adc3",
   "metadata": {
    "execution": {
     "iopub.execute_input": "2024-07-31T22:14:32.959497Z",
     "iopub.status.busy": "2024-07-31T22:14:32.958881Z",
     "iopub.status.idle": "2024-07-31T22:14:32.965124Z",
     "shell.execute_reply": "2024-07-31T22:14:32.964282Z",
     "shell.execute_reply.started": "2024-07-31T22:14:32.959450Z"
    }
   },
   "outputs": [],
   "source": [
    "prompt_messages.append({\n",
    "    \"role\": \"agent\",\n",
    "    \"content\": intro_result,\n",
    "})"
   ]
  },
  {
   "cell_type": "code",
   "execution_count": 49,
   "id": "32b7a768-0bc5-4e33-8a37-b8e285d9baa8",
   "metadata": {
    "execution": {
     "iopub.execute_input": "2024-07-31T22:42:46.086723Z",
     "iopub.status.busy": "2024-07-31T22:42:46.086163Z",
     "iopub.status.idle": "2024-07-31T22:42:51.207871Z",
     "shell.execute_reply": "2024-07-31T22:42:51.207465Z",
     "shell.execute_reply.started": "2024-07-31T22:42:46.086694Z"
    }
   },
   "outputs": [
    {
     "name": "stderr",
     "output_type": "stream",
     "text": [
      "Compiling FSM index for all state transitions: 100%|█████████████████| 260/260 [00:03<00:00, 67.92it/s]\n"
     ]
    }
   ],
   "source": [
    "department=\"electronics\"\n",
    "complaint_prompt = {\n",
    "    \"role\":\"user\", \n",
    "    \"content\": dedent(f\"\"\"\n",
    "                    Good! Now write a short description of the problem with an item from the {department} department,\n",
    "                    but don't mention the actual name of the department the product comes from!\n",
    "                    \"\"\")\n",
    "}\n",
    "prompt_messages.append(complaint_prompt)\n",
    "\n",
    "prompt_2 = tokenizer.apply_chat_template(prompt_messages, tokenize=False)\n",
    "\n",
    "complaint_section = r'I recently ordered [\\w\\s,.!\\n]{120,240}'\n",
    "generator_complaint = outlines.generate.regex(model, complaint_section)\n",
    "\n"
   ]
  },
  {
   "cell_type": "code",
   "execution_count": 51,
   "id": "a22e717d-97ca-4c6c-9c46-4bbab3c0eb21",
   "metadata": {
    "execution": {
     "iopub.execute_input": "2024-07-31T22:45:19.000381Z",
     "iopub.status.busy": "2024-07-31T22:45:18.999471Z",
     "iopub.status.idle": "2024-07-31T22:46:00.986008Z",
     "shell.execute_reply": "2024-07-31T22:46:00.985551Z",
     "shell.execute_reply.started": "2024-07-31T22:45:19.000292Z"
    }
   },
   "outputs": [],
   "source": [
    "complaint_result = generator_complaint(prompt_2)\n",
    "prompt_messages.append({\n",
    "    \"role\": \"agent\",\n",
    "    \"content\": complaint_result\n",
    "})"
   ]
  },
  {
   "cell_type": "code",
   "execution_count": 55,
   "id": "260a7e74-ff51-42b9-ab44-8bf82ffbf429",
   "metadata": {
    "execution": {
     "iopub.execute_input": "2024-07-31T22:56:18.862052Z",
     "iopub.status.busy": "2024-07-31T22:56:18.861733Z",
     "iopub.status.idle": "2024-07-31T22:56:19.190928Z",
     "shell.execute_reply": "2024-07-31T22:56:19.190681Z",
     "shell.execute_reply.started": "2024-07-31T22:56:18.862030Z"
    }
   },
   "outputs": [
    {
     "name": "stderr",
     "output_type": "stream",
     "text": [
      "Compiling FSM index for all state transitions: 100%|██████████████████| 54/54 [00:00<00:00, 212.10it/s]\n"
     ]
    }
   ],
   "source": [
    "possible_order_numbers = [\n",
    "     r'(My order was (A|D|Z)[0-9]{6})',\n",
    "     r'(This is order (A|D|Z)[0-9]{2}-[0-9]{4})',\n",
    "     r'(The order number is (A|D|Z)[0-9]{2}-[0-9]{4})'\n",
    " ]\n",
    "\n",
    "order_number_section = rf\"({'|'.join(possible_order_numbers)})\"\n",
    "\n",
    "order_number_message = {\n",
    "    \"role\": \"user\",\n",
    "    \"content\": dedent(\"\"\"\n",
    "    Finally, add a statement about the order number which starts with letter 'A', 'D' or 'Z' and consists of 6 digits after.\n",
    "    \"\"\")\n",
    "}\n",
    "prompt_messages.append(order_number_message)\n",
    "\n",
    "prompt_3 = tokenizer.apply_chat_template(prompt_messages, tokenize=False)\n",
    "generator_order_number = outlines.generate.regex(model, order_number_section);"
   ]
  },
  {
   "cell_type": "code",
   "execution_count": 57,
   "id": "de62a500-a18d-40f9-a569-e2d75729d595",
   "metadata": {
    "execution": {
     "iopub.execute_input": "2024-07-31T22:57:24.070877Z",
     "iopub.status.busy": "2024-07-31T22:57:24.070342Z",
     "iopub.status.idle": "2024-07-31T22:57:43.371621Z",
     "shell.execute_reply": "2024-07-31T22:57:43.371263Z",
     "shell.execute_reply.started": "2024-07-31T22:57:24.070848Z"
    }
   },
   "outputs": [
    {
     "data": {
      "text/plain": [
       "'My order was Z432101'"
      ]
     },
     "execution_count": 57,
     "metadata": {},
     "output_type": "execute_result"
    }
   ],
   "source": [
    "order_number = generator_order_number(prompt_3)\n",
    "order_number"
   ]
  },
  {
   "cell_type": "code",
   "execution_count": 8,
   "id": "50dde057-0616-4929-b31a-cc41bbc2faaa",
   "metadata": {
    "execution": {
     "iopub.execute_input": "2024-07-31T19:07:02.050358Z",
     "iopub.status.busy": "2024-07-31T19:07:02.050122Z",
     "iopub.status.idle": "2024-07-31T19:07:02.052907Z",
     "shell.execute_reply": "2024-07-31T19:07:02.052371Z",
     "shell.execute_reply.started": "2024-07-31T19:07:02.050347Z"
    }
   },
   "outputs": [
    {
     "data": {
      "text/plain": [
       "'[((Hi! This is [A-z][a-z]{3,10} [A-z][a-z]{3,10})|([A-z][a-z]{3,10} [A-z][a-z]{3,10} here)|(Hey, my name is [A-z][a-z]{3,10} [A-z][a-z]{3,10}))][\\\\w\\\\s,.!\\\\n]{1,240}'"
      ]
     },
     "execution_count": 8,
     "metadata": {},
     "output_type": "execute_result"
    }
   ],
   "source": [
    "r'['+name_section+r']'+complaint_section"
   ]
  },
  {
   "cell_type": "code",
   "execution_count": 9,
   "id": "1e469370-5f2d-413a-9eaa-5329b3a86cd7",
   "metadata": {
    "execution": {
     "iopub.execute_input": "2024-07-31T19:07:02.053672Z",
     "iopub.status.busy": "2024-07-31T19:07:02.053525Z",
     "iopub.status.idle": "2024-07-31T19:07:02.056219Z",
     "shell.execute_reply": "2024-07-31T19:07:02.055985Z",
     "shell.execute_reply.started": "2024-07-31T19:07:02.053659Z"
    }
   },
   "outputs": [
    {
     "data": {
      "text/plain": [
       "'John Smith here, I recently purchased a pair of socks but unfortunately they do not match! \\nMy order was D123454'"
      ]
     },
     "execution_count": 9,
     "metadata": {},
     "output_type": "execute_result"
    }
   ],
   "source": [
    "re.match(name_section + complaint_section + order_number_section, example_text)[0]"
   ]
  },
  {
   "cell_type": "code",
   "execution_count": 10,
   "id": "2565819f-cb5c-4351-a28f-5522b4116101",
   "metadata": {
    "execution": {
     "iopub.execute_input": "2024-07-31T19:07:02.056791Z",
     "iopub.status.busy": "2024-07-31T19:07:02.056701Z",
     "iopub.status.idle": "2024-07-31T19:07:51.719347Z",
     "shell.execute_reply": "2024-07-31T19:07:51.719042Z",
     "shell.execute_reply.started": "2024-07-31T19:07:02.056784Z"
    }
   },
   "outputs": [
    {
     "name": "stderr",
     "output_type": "stream",
     "text": [
      "We detected that you are passing `past_key_values` as a tuple and this is deprecated and will be removed in v4.43. Please use an appropriate `Cache` class (https://huggingface.co/docs/transformers/v4.41.3/en/internal/generation_utils#transformers.Cache)\n",
      "You are not running the flash-attention implementation, expect numerical differences.\n"
     ]
    },
    {
     "data": {
      "text/plain": [
       "'Subject: Urgent Issue with My Recent Electronics Order - #12345\\n\\nDear Electronics Department Team,\\n\\nI hope this message finds you well. I'"
      ]
     },
     "execution_count": 10,
     "metadata": {},
     "output_type": "execute_result"
    }
   ],
   "source": [
    "messages = [\n",
    "    {\"role\": \"user\",\n",
    "     \"content\": \"\"\"\n",
    "     Generate a text message complaint from a user about an item you would find in the electronics department,\n",
    "     the user provides their name and order number\n",
    "     \"\"\"}\n",
    "]\n",
    "\n",
    "prompt = tokenizer.apply_chat_template(messages, tokenize=False)\n",
    "generator(prompt, max_tokens=40)"
   ]
  },
  {
   "cell_type": "code",
   "execution_count": 11,
   "id": "12db2171-8b3b-4af8-8ec0-93331e8d9c87",
   "metadata": {
    "execution": {
     "iopub.execute_input": "2024-07-31T19:33:44.536381Z",
     "iopub.status.busy": "2024-07-31T19:33:44.536059Z",
     "iopub.status.idle": "2024-07-31T19:33:49.700607Z",
     "shell.execute_reply": "2024-07-31T19:33:49.700361Z",
     "shell.execute_reply.started": "2024-07-31T19:33:44.536355Z"
    }
   },
   "outputs": [
    {
     "name": "stderr",
     "output_type": "stream",
     "text": [
      "Compiling FSM index for all state transitions: 100%|█████████████████| 241/241 [00:03<00:00, 67.21it/s]\n"
     ]
    }
   ],
   "source": [
    "generator_struct = outlines.generate.regex(model, complaint_section)"
   ]
  },
  {
   "cell_type": "code",
   "execution_count": 15,
   "id": "06b05c1f-a2dd-4076-9032-5a37e36230f7",
   "metadata": {
    "execution": {
     "iopub.execute_input": "2024-07-31T19:34:22.947272Z",
     "iopub.status.busy": "2024-07-31T19:34:22.946873Z",
     "iopub.status.idle": "2024-07-31T19:34:24.196225Z",
     "shell.execute_reply": "2024-07-31T19:34:24.195833Z",
     "shell.execute_reply.started": "2024-07-31T19:34:22.947247Z"
    }
   },
   "outputs": [
    {
     "data": {
      "text/plain": [
       "'Hi'"
      ]
     },
     "execution_count": 15,
     "metadata": {},
     "output_type": "execute_result"
    }
   ],
   "source": [
    "generator_struct(prompt)"
   ]
  },
  {
   "cell_type": "code",
   "execution_count": 3,
   "id": "b868212d-5716-4632-9cf7-3ac4feef7ffd",
   "metadata": {
    "execution": {
     "iopub.execute_input": "2024-08-05T18:54:28.633372Z",
     "iopub.status.busy": "2024-08-05T18:54:28.632675Z",
     "iopub.status.idle": "2024-08-05T18:54:28.703070Z",
     "shell.execute_reply": "2024-08-05T18:54:28.702744Z",
     "shell.execute_reply.started": "2024-08-05T18:54:28.633328Z"
    }
   },
   "outputs": [],
   "source": [
    "from pydantic import BaseModel, Field, constr\n",
    "from enum import Enum\n",
    "\n",
    "\n",
    "class Department(str, Enum):\n",
    "    clothing = \"clothing\"\n",
    "    electronics = \"electronics\"\n",
    "    kitchen = \"kitchen\"\n",
    "    automotive = \"automotive\"\n",
    "\n",
    "class ComplaintData(BaseModel):\n",
    "    first_name: str\n",
    "    last_name: str\n",
    "    order_number: str = Field(pattern=r'[ADZ][0-9]{2}-[0-9]{4}')\n",
    "    department: Department\n",
    "\n"
   ]
  },
  {
   "cell_type": "code",
   "execution_count": 5,
   "id": "9ca304ff-4f68-472d-af60-a8807f3f6500",
   "metadata": {
    "execution": {
     "iopub.execute_input": "2024-08-05T18:54:45.513408Z",
     "iopub.status.busy": "2024-08-05T18:54:45.513105Z",
     "iopub.status.idle": "2024-08-05T18:54:45.519135Z",
     "shell.execute_reply": "2024-08-05T18:54:45.518559Z",
     "shell.execute_reply.started": "2024-08-05T18:54:45.513387Z"
    }
   },
   "outputs": [
    {
     "data": {
      "text/plain": [
       "'clothing|electronics|kitchen|automotive'"
      ]
     },
     "execution_count": 5,
     "metadata": {},
     "output_type": "execute_result"
    }
   ],
   "source": [
    "\"|\".join([e.value for e in Department])"
   ]
  },
  {
   "cell_type": "code",
   "execution_count": null,
   "id": "3f854a81-e881-44be-9f08-7fba36e5dc6c",
   "metadata": {},
   "outputs": [],
   "source": [
    "complaint_processor = outlines.generate.json(model, ComplaintData)"
   ]
  },
  {
   "cell_type": "code",
   "execution_count": 7,
   "id": "9454c6e2-6ba2-4d37-bb09-e17f926d0f0d",
   "metadata": {
    "execution": {
     "iopub.execute_input": "2024-08-05T18:55:18.697844Z",
     "iopub.status.busy": "2024-08-05T18:55:18.697305Z",
     "iopub.status.idle": "2024-08-05T18:55:18.737941Z",
     "shell.execute_reply": "2024-08-05T18:55:18.737457Z",
     "shell.execute_reply.started": "2024-08-05T18:55:18.697799Z"
    }
   },
   "outputs": [
    {
     "ename": "NameError",
     "evalue": "name 'tokenizer' is not defined",
     "output_type": "error",
     "traceback": [
      "\u001b[0;31m---------------------------------------------------------------------------\u001b[0m",
      "\u001b[0;31mNameError\u001b[0m                                 Traceback (most recent call last)",
      "Cell \u001b[0;32mIn[7], line 19\u001b[0m\n\u001b[1;32m      1\u001b[0m complaint_messages \u001b[38;5;241m=\u001b[39m [\n\u001b[1;32m      2\u001b[0m     {\n\u001b[1;32m      3\u001b[0m     \u001b[38;5;124m'\u001b[39m\u001b[38;5;124mrole\u001b[39m\u001b[38;5;124m'\u001b[39m: \u001b[38;5;124m'\u001b[39m\u001b[38;5;124msystems\u001b[39m\u001b[38;5;124m'\u001b[39m,\n\u001b[0;32m   (...)\u001b[0m\n\u001b[1;32m     16\u001b[0m     }\n\u001b[1;32m     17\u001b[0m ]\n\u001b[0;32m---> 19\u001b[0m complaint_prompt \u001b[38;5;241m=\u001b[39m \u001b[43mtokenizer\u001b[49m\u001b[38;5;241m.\u001b[39mapply_chat_template(complaint_messages, tokenize\u001b[38;5;241m=\u001b[39m\u001b[38;5;28;01mFalse\u001b[39;00m)\n",
      "\u001b[0;31mNameError\u001b[0m: name 'tokenizer' is not defined"
     ]
    }
   ],
   "source": [
    "complaint_messages = [\n",
    "    {\n",
    "    'role': 'systems',\n",
    "    'content': \"\"\"\n",
    "    You are a complaint processing assistent, you aim is to process complaints and return the following intformation in this JSON format:\n",
    "    {\n",
    "        'first_name': <first name>,\n",
    "        'last_name': <last name>,\n",
    "        'order number': <order number has the following format (ADZ)XX-XXXXX>,\n",
    "        'department': <{\"|\".join([e.value for e in Department])}>,\n",
    "        'summary': <short summary of the complaint,\n",
    "    }\n",
    "    \"\"\",\n",
    "    'role': 'user',\n",
    "    'content': \"test\"\n",
    "    }\n",
    "]\n",
    "\n",
    "complaint_prompt = tokenizer.apply_chat_template(complaint_messages, tokenize=False)"
   ]
  },
  {
   "cell_type": "code",
   "execution_count": null,
   "id": "d1d98b8b-e497-48a5-832c-04bddbf11e5b",
   "metadata": {},
   "outputs": [],
   "source": [
    "complaint_processor(complaint_prompt)"
   ]
  },
  {
   "cell_type": "code",
   "execution_count": null,
   "id": "f13a9fc0-fdef-4feb-8865-2f514370633b",
   "metadata": {},
   "outputs": [],
   "source": []
  }
 ],
 "metadata": {
  "kernelspec": {
   "display_name": "Python 3 (ipykernel)",
   "language": "python",
   "name": "python3"
  },
  "language_info": {
   "codemirror_mode": {
    "name": "ipython",
    "version": 3
   },
   "file_extension": ".py",
   "mimetype": "text/x-python",
   "name": "python",
   "nbconvert_exporter": "python",
   "pygments_lexer": "ipython3",
   "version": "3.11.9"
  }
 },
 "nbformat": 4,
 "nbformat_minor": 5
}
