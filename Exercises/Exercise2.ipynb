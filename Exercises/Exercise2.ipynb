{
 "cells": [
  {
   "cell_type": "markdown",
   "id": "7aa740b3-44c0-4679-9d3e-14c463b3502a",
   "metadata": {},
   "source": [
    "# Exercise 2 - Generating JSON Structured Output\n",
    "\n",
    "In this exercise we'll extend our zero-shot classifer into something a bit more useful for everyday software. We'll be using our LLM to process the complaint text into JSON with the order information. Specifically our JSON contain the following information:\n",
    "\n",
    "- User's First Name.\n",
    "- User's Last Name.\n",
    "- The Department of the complaint is about.\n",
    "- A propertly formatted order number.\n",
    "\n",
    "It's not hard to imagine such a tool being used in a real world application were we want to automatically parse out complaint information and dispatch it to the correct department. As you'll see, even a relatively weak LLM such as Qwen2-0.5B does a surprsingly good job and extracting information for us.\n",
    "\n",
    "This exercise is a bit more involved that the last one. You'll see that most of the work required involved defining Pydantic classes to describe the desired JSON output. We can the trivially uses `outlines.generate.json` to ensure we get structured outputs exactly as we want them."
   ]
  },
  {
   "cell_type": "markdown",
   "id": "b92c3cbc-bae8-4154-9357-0eac59188a1c",
   "metadata": {},
   "source": [
    "## Loading the model\n",
    "\n",
    "As before we need to import the necessary libraries and initialize our model and tokenizer.\n",
    "\n",
    "**Reminder:** If you are not running on an Apple Silicon device, chaing the `device` value."
   ]
  },
  {
   "cell_type": "code",
   "execution_count": null,
   "id": "ace3862e-33e5-48ef-8d5b-c61087c1eb77",
   "metadata": {},
   "outputs": [],
   "source": [
    "import json\n",
    "import outlines\n",
    "import torch\n",
    "from transformers import AutoTokenizer\n",
    "from textwrap import dedent"
   ]
  },
  {
   "cell_type": "code",
   "execution_count": null,
   "id": "bdc9a6c1-22c0-4d6c-9cec-aeae462ebb4e",
   "metadata": {},
   "outputs": [],
   "source": [
    "model_name = \"Qwen/Qwen2-0.5B-Instruct\"\n",
    "model = outlines.models.transformers(\n",
    "    model_name,\n",
    "    device='mps',\n",
    "    model_kwargs={\n",
    "        'torch_dtype': torch.bfloat16,\n",
    "        'trust_remote_code': True\n",
    "    })\n",
    "tokenizer = AutoTokenizer.from_pretrained(model_name)"
   ]
  },
  {
   "cell_type": "markdown",
   "id": "6dcd6d23-accb-48b5-8adb-ecd8ee4777ff",
   "metadata": {},
   "source": [
    "And of course load the example data as well."
   ]
  },
  {
   "cell_type": "code",
   "execution_count": null,
   "id": "28dca569-7002-48cf-ab71-454a37557b93",
   "metadata": {},
   "outputs": [],
   "source": [
    "with open(\"../examples.json\",'r') as fin:\n",
    "    complaint_data = json.loads(fin.read())"
   ]
  },
  {
   "cell_type": "markdown",
   "id": "05937075-75f0-4064-b691-11f164dfbae7",
   "metadata": {},
   "source": [
    "## Main Exercise: Defining our Pydantic Models\n",
    "\n",
    "If you aren't familiar with [Pydantic](https://docs.pydantic.dev/latest/), it is library that uses Python classes to define what are essentially complex types in Python that can then be easily converted into JSON or a standard Python dictionary. Pydantic classes are a great way to easily describe complex structure to use with Outlines.\n",
    "\n",
    "The bulk of the work in this exercise involves filling out these classes. Where necessary as few notes have been added to help you get started.\n",
    "\n",
    "Here is some useful information to help you:\n",
    "\n",
    "The `ComplaintData` should consist of:\n",
    "\n",
    "- `first_name`: a string representing the first name.\n",
    "\n",
    "- `last_name`: a string representing the last name.\n",
    "\n",
    "- `order_number`: is an ID formated that can start with 'A', 'D', or 'Z' followed by 2 digits, a '-' and then 4 more digits.\n",
    "\n",
    "- `department`: can be any of the following: \"clothing\", \"electronics\", \"kitchen\" or \"automotive\".\n",
    "\n"
   ]
  },
  {
   "cell_type": "code",
   "execution_count": null,
   "id": "c26cd0b4-5008-4fb6-be85-387c2d1f120a",
   "metadata": {},
   "outputs": [],
   "source": [
    "from pydantic import BaseModel, Field, constr\n",
    "from enum import Enum\n",
    "\n",
    "\n",
    "class Department(str, Enum):\n",
    "    # TODO Add departments\n",
    "    pass\n",
    "\n",
    "class ComplaintData(BaseModel):\n",
    "    # TODO: add support for first name and last time.\n",
    "    # Define your regex using Pydantic's Field\n",
    "    order_number: str = Field(pattern=r'')\n",
    "    department: Department"
   ]
  },
  {
   "cell_type": "markdown",
   "id": "43c0eec7-e577-44ce-9d03-e160f1c61566",
   "metadata": {},
   "source": [
    "## Prompt\n",
    "\n",
    "Similar to the last exercise the prompt is a series of messages. Note that we do specify how the output should look."
   ]
  },
  {
   "cell_type": "code",
   "execution_count": null,
   "id": "eae089fd-1389-4f37-9d6a-1be1cf69867a",
   "metadata": {},
   "outputs": [],
   "source": [
    "def create_prompt(complaint):\n",
    "    complaint_messages = [\n",
    "        {\n",
    "        'role': 'user',\n",
    "        'content': f\"\"\"\n",
    "        You are a complaint processing assistent, you aim is to process complaints and return the following intformation in this JSON format:\n",
    "        {{\n",
    "            'first_name': <first name>,\n",
    "            'last_name': <last name>,\n",
    "            'order number': <order number has the following format (ADZ)XX-XXXXX>,\n",
    "            'department': <{\"|\".join([e.value for e in Department])}>,\n",
    "        }}\n",
    "        \"\"\"},\n",
    "        {'role': 'assistant',\n",
    "         'content': \"I undersand and will process the complaints in the JSON format you described\"\n",
    "        },\n",
    "        {'role': 'user',\n",
    "        'content': complaint['message']\n",
    "        }\n",
    "    ]\n",
    "    complaint_prompt = tokenizer.apply_chat_template(complaint_messages, tokenize=False)\n",
    "    return complaint_prompt"
   ]
  },
  {
   "cell_type": "markdown",
   "id": "195bceb3-db99-4673-9db4-9388c2597c75",
   "metadata": {},
   "source": [
    "## Exercise - Create the complaint processer\n",
    "\n",
    "The final bit of this exercise is the use our Pydantic model in order to create a `complaint_processor` that automatically. This can be done using `outlines.generate.json`"
   ]
  },
  {
   "cell_type": "code",
   "execution_count": null,
   "id": "e244b48e-8aed-44fb-b331-51959e78a2be",
   "metadata": {},
   "outputs": [],
   "source": [
    "# Now just create the complaint_process using Outlines.\n",
    "complaint_processor = None"
   ]
  },
  {
   "cell_type": "markdown",
   "id": "db5f0063-de98-4fed-87dc-b48c47cfcdd1",
   "metadata": {},
   "source": [
    "Finally we can test our an see how our processor does!"
   ]
  },
  {
   "cell_type": "code",
   "execution_count": null,
   "id": "fb7f23cd-b36c-41d3-b58b-02a9151b572e",
   "metadata": {},
   "outputs": [],
   "source": [
    "results = []\n",
    "for complaint in complaint_data[0:10]:\n",
    "    prompt = create_prompt(complaint)\n",
    "    result = complaint_processor(prompt)\n",
    "    results.append(result)"
   ]
  },
  {
   "cell_type": "code",
   "execution_count": null,
   "id": "7ce908dc-8adf-4001-bcbd-9266a740fbbe",
   "metadata": {},
   "outputs": [],
   "source": [
    "idx = 3\n",
    "complaint_data[idx]['message']"
   ]
  },
  {
   "cell_type": "code",
   "execution_count": null,
   "id": "c36eb76b-657c-4b2e-9ccb-6f51fe91aa15",
   "metadata": {
    "scrolled": true
   },
   "outputs": [],
   "source": [
    "results[idx].json()"
   ]
  },
  {
   "cell_type": "code",
   "execution_count": null,
   "id": "970f629e-f738-4336-9bfa-e5b4458be1be",
   "metadata": {},
   "outputs": [],
   "source": []
  }
 ],
 "metadata": {
  "kernelspec": {
   "display_name": "Python 3 (ipykernel)",
   "language": "python",
   "name": "python3"
  },
  "language_info": {
   "codemirror_mode": {
    "name": "ipython",
    "version": 3
   },
   "file_extension": ".py",
   "mimetype": "text/x-python",
   "name": "python",
   "nbconvert_exporter": "python",
   "pygments_lexer": "ipython3",
   "version": "3.11.5"
  }
 },
 "nbformat": 4,
 "nbformat_minor": 5
}
