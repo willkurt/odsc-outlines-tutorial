{
 "cells": [
  {
   "cell_type": "markdown",
   "id": "5ab7cafe-b712-4794-b4a6-69186eaf411c",
   "metadata": {},
   "source": [
    "# Exercise 3: Generating Complaints and the Structured Generation Workflow\n",
    "\n",
    "For this exercise we're going to work on a much more involved example. When creating this workshop I didn't want to have to hand write 50 complaints, so I decided to let an LLM do that for me! Typically we would think of a complain as *unstructured* but, as you can see in this exercise, there's almost always an advantage to using structured generation. \n",
    "\n",
    "The code for this exercise is a fair be more involved than the last two, but don't worry, you only need to work on a small part of this project.\n",
    "\n",
    "We're also going to learn about the [Structured Generation Workflow](https://blog.dottxt.co/coding-for-structured-generation.html) which make it easier to iteratively develop structured applications using LLMs."
   ]
  },
  {
   "cell_type": "code",
   "execution_count": 1,
   "id": "3a3aa6ec-89e8-4832-a008-823b099ffd0e",
   "metadata": {
    "execution": {
     "iopub.execute_input": "2024-08-20T22:49:41.044322Z",
     "iopub.status.busy": "2024-08-20T22:49:41.044181Z",
     "iopub.status.idle": "2024-08-20T22:49:42.378808Z",
     "shell.execute_reply": "2024-08-20T22:49:42.378544Z",
     "shell.execute_reply.started": "2024-08-20T22:49:41.044304Z"
    }
   },
   "outputs": [],
   "source": [
    "import json\n",
    "import outlines\n",
    "from transformers import AutoTokenizer\n",
    "import torch\n",
    "from textwrap import dedent\n",
    "from enum import Enum\n",
    "import re\n",
    "import random"
   ]
  },
  {
   "cell_type": "markdown",
   "id": "d3e5116b-4bb8-4108-931e-2e8a4e0c0273",
   "metadata": {},
   "source": [
    "**Note:** change the `DEVICE` if you are using a non-Apple Silicon device."
   ]
  },
  {
   "cell_type": "code",
   "execution_count": 2,
   "id": "cce7d7b5-e75c-46de-b51a-1cd9d3c23faa",
   "metadata": {
    "execution": {
     "iopub.execute_input": "2024-08-20T22:49:42.379833Z",
     "iopub.status.busy": "2024-08-20T22:49:42.379696Z",
     "iopub.status.idle": "2024-08-20T22:49:42.381222Z",
     "shell.execute_reply": "2024-08-20T22:49:42.381020Z",
     "shell.execute_reply.started": "2024-08-20T22:49:42.379826Z"
    }
   },
   "outputs": [],
   "source": [
    "MODEL_NAME = \"Qwen/Qwen2-0.5B-Instruct\"\n",
    "# Change to 'cuda' or 'cpu' if not using Apple Silicon\n",
    "DEVICE='mps'"
   ]
  },
  {
   "cell_type": "markdown",
   "id": "8cb98ffb-f6a6-4d83-8463-219785926f61",
   "metadata": {},
   "source": [
    "For consistency, we'll be using the Enum from the last exercise."
   ]
  },
  {
   "cell_type": "code",
   "execution_count": 3,
   "id": "d5b4b016-4b96-4ba2-8ac2-cd09839df327",
   "metadata": {
    "execution": {
     "iopub.execute_input": "2024-08-20T22:49:42.381644Z",
     "iopub.status.busy": "2024-08-20T22:49:42.381571Z",
     "iopub.status.idle": "2024-08-20T22:49:42.384422Z",
     "shell.execute_reply": "2024-08-20T22:49:42.384212Z",
     "shell.execute_reply.started": "2024-08-20T22:49:42.381637Z"
    }
   },
   "outputs": [
    {
     "data": {
      "text/plain": [
       "['clothing', 'electronics', 'kitchen', 'automotive']"
      ]
     },
     "execution_count": 3,
     "metadata": {},
     "output_type": "execute_result"
    }
   ],
   "source": [
    "class Department(str, Enum):\n",
    "    clothing = \"clothing\"\n",
    "    electronics = \"electronics\"\n",
    "    kitchen = \"kitchen\"\n",
    "    automotive = \"automotive\"\n",
    "\n",
    "DEFAULT_DEPTS = [dept.name for dept in list(Department)]\n",
    "DEFAULT_DEPTS"
   ]
  },
  {
   "cell_type": "markdown",
   "id": "de090770-a552-4507-9ef6-c9a6d0385b2f",
   "metadata": {},
   "source": [
    "## Step 1 - Draft Structure\n",
    "\n",
    "Our `ComplaintGenerator` builds complaints by breaking the complaint down into 3 steps with accompanying methods.\n",
    "\n",
    "- `intro_structure` contains the name of the person\n",
    "- `complaint_structure` contains the body of the complaint\n",
    "- `order_number_structure` gives the order number in several different ways.\n",
    "\n",
    "For this exercise we'll focus on the **intro_structure** and fill out the rest as time permits.\n",
    "\n",
    "\n",
    "All structured generation tasks, just like normal machine learnings tasks, should start with some *examples of real data*. Let's take a look at a few complaints (pretending for this exercise that these aren't generated and are real):"
   ]
  },
  {
   "cell_type": "code",
   "execution_count": 4,
   "id": "e35be45c-00fd-477e-b205-2a6ae1c7a8b2",
   "metadata": {
    "execution": {
     "iopub.execute_input": "2024-08-20T22:49:42.384780Z",
     "iopub.status.busy": "2024-08-20T22:49:42.384718Z",
     "iopub.status.idle": "2024-08-20T22:49:42.386457Z",
     "shell.execute_reply": "2024-08-20T22:49:42.386266Z",
     "shell.execute_reply.started": "2024-08-20T22:49:42.384774Z"
    }
   },
   "outputs": [],
   "source": [
    "with open(\"../examples.json\",'r') as fin:\n",
    "    complaint_data = json.loads(fin.read())"
   ]
  },
  {
   "cell_type": "markdown",
   "id": "275e5e1e-3ce7-4771-a407-22868b081197",
   "metadata": {},
   "source": [
    "Let's look at some example intros:"
   ]
  },
  {
   "cell_type": "code",
   "execution_count": 5,
   "id": "f69c36e1-3f5b-47bd-a3d6-8b8abba4dfe1",
   "metadata": {
    "execution": {
     "iopub.execute_input": "2024-08-20T22:49:42.386773Z",
     "iopub.status.busy": "2024-08-20T22:49:42.386705Z",
     "iopub.status.idle": "2024-08-20T22:49:42.388924Z",
     "shell.execute_reply": "2024-08-20T22:49:42.388603Z",
     "shell.execute_reply.started": "2024-08-20T22:49:42.386766Z"
    }
   },
   "outputs": [
    {
     "data": {
      "text/plain": [
       "{\"Hello, I'm\", 'Hi! This i'}"
      ]
     },
     "execution_count": 5,
     "metadata": {},
     "output_type": "execute_result"
    }
   ],
   "source": [
    "example_intros = [complaint['message'][0:10] for complaint in complaint_data]\n",
    "set(example_intros)"
   ]
  },
  {
   "cell_type": "markdown",
   "id": "ff1f1a12-2a9a-4d8a-bab0-758d9465d09d",
   "metadata": {},
   "source": [
    "As we can see there are only two intros (in real life we would of course expect many more), but this helps us start to imagine the patterns we would like to generate.\n",
    "\n",
    "We'll use this to draft a version of the `intro_structure` method as our first step for structured generation."
   ]
  },
  {
   "cell_type": "code",
   "execution_count": 6,
   "id": "4e487036-4fdc-418c-86d8-289117179063",
   "metadata": {
    "execution": {
     "iopub.execute_input": "2024-08-20T22:49:42.389544Z",
     "iopub.status.busy": "2024-08-20T22:49:42.389357Z",
     "iopub.status.idle": "2024-08-20T22:49:42.395979Z",
     "shell.execute_reply": "2024-08-20T22:49:42.395771Z",
     "shell.execute_reply.started": "2024-08-20T22:49:42.389536Z"
    }
   },
   "outputs": [],
   "source": [
    "from copy import deepcopy\n",
    "class ComplaintGenerator:\n",
    "\n",
    "    def __init__(self, model_name, departments=DEFAULT_DEPTS):\n",
    "        self.model_name = model_name\n",
    "        self.departments = departments\n",
    "        self._model = None\n",
    "        self._tokenizer = None\n",
    "        self._intro_generator = None\n",
    "        self._complaint_generator = None\n",
    "        self._order_number_generator = None\n",
    "    ####################################\n",
    "    # Structured Generation Section\n",
    "    #\n",
    "    @property\n",
    "    def intro_structure(self):\n",
    "        # TODO - find and fix the bug\n",
    "        possible_intros = [\n",
    "            r'(Hi! This is [A-Z][a-z]{3,10} [A-z][a-z]{3,10})',\n",
    "            r'(Hey, my name is [A-z][a-z]{3,10} [A-Z][a-z]{3,10})',\n",
    "            r'(Hello, I\\'m [A-Z][a-z]{3,10} [A-z][a-z]{3,10})'\n",
    "        ]\n",
    "        return rf\"({'|'.join(possible_intros)})\\.\"        \n",
    "\n",
    "    @property\n",
    "    def complaint_structure(self):\n",
    "        # TODO - implement the complaint structure\n",
    "        return r''\n",
    "\n",
    "    @property\n",
    "    def order_number_structure(self):\n",
    "        # TODO - implement a few variations on order number\n",
    "        possible_order_numbers = [\n",
    "             r'',\n",
    "             r'',\n",
    "             r''\n",
    "         ]\n",
    "        return rf\"({'|'.join(possible_order_numbers)})\"\n",
    "    #\n",
    "    #\n",
    "    ####################################\n",
    "\n",
    "    \n",
    "    @property\n",
    "    def intro_generator(self):\n",
    "        if self._intro_generator is None:\n",
    "            self._intro_generator = outlines.generate.regex(\n",
    "                self.model, self.intro_structure\n",
    "            )\n",
    "        return self._intro_generator\n",
    "        \n",
    "    @property\n",
    "    def complaint_generator(self):\n",
    "        if self._complaint_generator is None:\n",
    "            self._complaint_generator = outlines.generate.regex(self.model, self.complaint_structure)\n",
    "        return self._complaint_generator\n",
    "\n",
    "    @property\n",
    "    def order_number_generator(self):\n",
    "        if self._order_number_generator is None:\n",
    "            self._order_number_generator = outlines.generate.regex(\n",
    "                self.model, \n",
    "                self.order_number_structure)\n",
    "        return self._order_number_generator\n",
    "    \n",
    "    @property\n",
    "    def model(self):\n",
    "        print(\"getting model\")\n",
    "        if self._model is None:\n",
    "            print(\"loading model\")\n",
    "            self._model = outlines.models.transformers(\n",
    "                    self.model_name,\n",
    "                    device=DEVICE,\n",
    "                    model_kwargs={\n",
    "                        'torch_dtype': torch.bfloat16,\n",
    "                        'trust_remote_code': True\n",
    "                    })\n",
    "        return self._model\n",
    "\n",
    "    @property\n",
    "    def tokenizer(self):\n",
    "        if self._tokenizer is None:\n",
    "            print(\"loading tokenizer\")\n",
    "            self._tokenizer = AutoTokenizer.from_pretrained(self.model_name)\n",
    "        return self._tokenizer\n",
    "        \n",
    "    def generate_complaint(self):\n",
    "        prompt_messages = self._start_messages()\n",
    "        prompt_messages.append(self._intro_prompt())\n",
    "        prompt_intro = self.tokenizer.apply_chat_template(\n",
    "            prompt_messages,\n",
    "            tokenize=False\n",
    "        )\n",
    "        print(\"Generating intro\")\n",
    "        intro_result = self.intro_generator(prompt_intro)\n",
    "        prompt_messages.append({\n",
    "            \"role\": \"assistant\",\n",
    "            \"content\": intro_result\n",
    "        })\n",
    "        print(\"Generating complaint\")\n",
    "        department = random.choice(self.departments)\n",
    "        prompt_messages.append(self._complaint_prompt(department))\n",
    "        prompt_complaint = self.tokenizer.apply_chat_template(\n",
    "            prompt_messages,\n",
    "            tokenize=False\n",
    "        )\n",
    "        complaint_result = self.complaint_generator(prompt_complaint)\n",
    "        prompt_messages.append({\n",
    "            \"role\": \"assistant\",\n",
    "            \"content\": complaint_result\n",
    "        })\n",
    "        prompt_messages.append(self._order_number_prompt())\n",
    "        prompt_order_number = self.tokenizer.apply_chat_template(\n",
    "            prompt_messages,\n",
    "            tokenize=False\n",
    "        )\n",
    "        print(\"Generating order number\")\n",
    "        order_number_result = self.order_number_generator(prompt_order_number)\n",
    "\n",
    "        final_message = intro_result + complaint_result + order_number_result\n",
    "        return {\n",
    "            \"message\": final_message,\n",
    "            \"order_number\": self.parse_order_number(order_number_result),\n",
    "            \"department\": department\n",
    "        }\n",
    "    \n",
    "    def parse_order_number(self, message):\n",
    "        \"\"\"\n",
    "        We want to extract the order number so that we can \n",
    "        send it back with the response to use for validation later.\n",
    "        \"\"\"\n",
    "        number_only = r'((A|D|Z)[0-9]{6})|((A|D|Z)[0-9]{2}-[0-9]{4})'\n",
    "        order_number = re.search(number_only, message)[0]\n",
    "        if not (\"-\" in order_number):\n",
    "            order_number = f\"{order_number[0:3]}-{order_number[3:]}\"\n",
    "        return order_number\n",
    "        \n",
    "    def _start_messages(self):\n",
    "        \"\"\"\n",
    "        These are the starting prompt messages, since we'll be\n",
    "        appending to these messages, we'd like to return a \n",
    "        copy of them.\n",
    "        \"\"\"\n",
    "        prompt_messages = [{\n",
    "            \"role\": \"user\",\n",
    "            \"content\": dedent(\"\"\"\n",
    "            You are an agent designed to create simulated customer complaints. The\n",
    "            complaints are essentially short text messages that describe a customer,\n",
    "            their problem, and provide an order number.\n",
    "        \n",
    "            You will build the complaint in parts based on the user request. The\n",
    "            complaint will be about a product from a specified department, but you\n",
    "            will not mention the department name directly.\n",
    "        \n",
    "            For example, if you are asked about something from the 'kitchen' department \n",
    "            you might mention an 'knife' but you won't mention the department.\n",
    "            \"\"\")\n",
    "        },{ \n",
    "            \"role\": \"agent\",\n",
    "            \"content\": dedent(\"\"\"\n",
    "            I understand the task, and will wait for the you to instruct me on\n",
    "            next steps.\n",
    "            \"\"\")\n",
    "        }]\n",
    "        return(deepcopy(prompt_messages))\n",
    "\n",
    "    def _intro_prompt(self):\n",
    "        intro_prompt = {\n",
    "            \"role\": \"user\",\n",
    "            \"content\": \"Start the message with a short intro stating the customer's name.\"\n",
    "        }\n",
    "        return(deepcopy(intro_prompt))\n",
    "\n",
    "    def _complaint_prompt(self, department):\n",
    "        complaint_message = {\n",
    "            \"role\":\"user\", \n",
    "            \"content\": dedent(f\"\"\"\n",
    "                            Good! Now write a short description of the problem with an item from the {department} department,\n",
    "                            but don't mention the actual name of the department the product comes from!\n",
    "                            \"\"\")\n",
    "        }\n",
    "        return deepcopy(complaint_message)\n",
    "\n",
    "    def _order_number_prompt(self):\n",
    "        order_number_message = {\n",
    "            \"role\": \"user\",\n",
    "            \"content\": dedent(\"\"\"\n",
    "            Finally, add a statement about the order number which starts with letter 'A', 'D' or 'Z' and consists of 6 digits after.\n",
    "            \"\"\")\n",
    "        }\n",
    "        return deepcopy(order_number_message)\n",
    "        \n",
    "    \n",
    "\n",
    "    \n",
    "    "
   ]
  },
  {
   "cell_type": "code",
   "execution_count": 7,
   "id": "4786ce1c-e879-486c-9e0c-2177ea952b66",
   "metadata": {
    "execution": {
     "iopub.execute_input": "2024-08-20T22:49:42.397323Z",
     "iopub.status.busy": "2024-08-20T22:49:42.397257Z",
     "iopub.status.idle": "2024-08-20T22:49:42.398925Z",
     "shell.execute_reply": "2024-08-20T22:49:42.398723Z",
     "shell.execute_reply.started": "2024-08-20T22:49:42.397316Z"
    }
   },
   "outputs": [],
   "source": [
    "complainer = ComplaintGenerator(MODEL_NAME)\n",
    "# complainer.generate_complaint()"
   ]
  },
  {
   "cell_type": "markdown",
   "id": "12319f4b-6bdc-43c8-bfb6-4c759a9f8452",
   "metadata": {},
   "source": [
    "## Step 2 - Verify Structure \n",
    "\n",
    "We can now test that this structure indeed matches the real data we have. To start we're only going to test the `intro_structure` property. To help ensure that our structure is correct, we'll verify that our structure does indeed match *all* of the examples in our dataset."
   ]
  },
  {
   "cell_type": "code",
   "execution_count": 8,
   "id": "7d61728e-e799-452d-aafb-b160f72db207",
   "metadata": {
    "execution": {
     "iopub.execute_input": "2024-08-20T22:49:42.399210Z",
     "iopub.status.busy": "2024-08-20T22:49:42.399147Z",
     "iopub.status.idle": "2024-08-20T22:49:42.401251Z",
     "shell.execute_reply": "2024-08-20T22:49:42.401045Z",
     "shell.execute_reply.started": "2024-08-20T22:49:42.399202Z"
    }
   },
   "outputs": [
    {
     "data": {
      "text/plain": [
       "True"
      ]
     },
     "execution_count": 8,
     "metadata": {},
     "output_type": "execute_result"
    }
   ],
   "source": [
    "all([re.search(complainer.intro_structure, complaint['message'])\n",
    "     for complaint in complaint_data])"
   ]
  },
  {
   "cell_type": "markdown",
   "id": "1bfc44a1-d99c-4b76-b7ad-2e1516f819e6",
   "metadata": {},
   "source": [
    "This is a great place to catch bugs in structured generation. Since we saw that all cases matched, we can at least be sure that our basic structure is correct."
   ]
  },
  {
   "cell_type": "markdown",
   "id": "e9f124e9-333c-4c36-bde4-01d7f3f2a21d",
   "metadata": {},
   "source": [
    "## Step 3 - Generate Structure\n",
    "\n",
    "The next step is to generate examples of our structure to further test whether or not we're really solving the problem we're after. Rather than run the model right now, we'll use an example I generated earlier"
   ]
  },
  {
   "cell_type": "code",
   "execution_count": 9,
   "id": "a7219601-65af-4c11-afa6-9d5065da69b6",
   "metadata": {
    "execution": {
     "iopub.execute_input": "2024-08-20T22:49:42.401713Z",
     "iopub.status.busy": "2024-08-20T22:49:42.401613Z",
     "iopub.status.idle": "2024-08-20T22:49:42.403214Z",
     "shell.execute_reply": "2024-08-20T22:49:42.403016Z",
     "shell.execute_reply.started": "2024-08-20T22:49:42.401707Z"
    }
   },
   "outputs": [],
   "source": [
    "# Normally we would do the following...\n",
    "# example_generation = complainer.generate()\n",
    "example_generation = {\n",
    " 'message': 'Hi! This is Emily andbuyerser.I recently ordered a laptop with an extended warranty, but upon arrival, I noticed a malfunctioning trackpad. Despite numerous attempts at troubleshooting, the issue persists, greatly hindering my everyday use.This is order A12-3456',\n",
    " 'order_number': 'A12-3456',\n",
    " 'department': 'electronics'\n",
    "}"
   ]
  },
  {
   "cell_type": "markdown",
   "id": "c734ff15-b8bd-4538-ab3c-9f5ac827879b",
   "metadata": {},
   "source": [
    "## Step 4 - Inspect Output\n",
    "\n",
    "Uh oh! Look at the name output! `Emily andbuyerser` is not a name that I would expect and doesn't match the expected output!\n",
    "\n",
    "Now it's *your turn* to fix it!\n",
    "\n",
    "When you've found the bug you can continue on to the next sections:\n",
    "\n",
    "- Finish the `complaint_structure`, repeating this process\n",
    "- Finish the `order_number_structure`, repeating this process\n",
    "- If you have time, generate some new complaints!"
   ]
  },
  {
   "cell_type": "markdown",
   "id": "fc671f6f-b3a9-46d4-933d-f3b70a7c3ca0",
   "metadata": {},
   "source": [
    "To help you get started, we can see current structure *does* match unexpected example output. A good sign that you have fixed the problem is that this erroneous response will no longer match the defined structure in `intro_structure`."
   ]
  },
  {
   "cell_type": "code",
   "execution_count": 10,
   "id": "de3fc88a-a955-4d68-bf59-ed73c32d54cc",
   "metadata": {
    "execution": {
     "iopub.execute_input": "2024-08-20T22:49:42.403552Z",
     "iopub.status.busy": "2024-08-20T22:49:42.403481Z",
     "iopub.status.idle": "2024-08-20T22:49:42.405419Z",
     "shell.execute_reply": "2024-08-20T22:49:42.405215Z",
     "shell.execute_reply.started": "2024-08-20T22:49:42.403545Z"
    }
   },
   "outputs": [
    {
     "data": {
      "text/plain": [
       "<re.Match object; span=(0, 30), match='Hi! This is Emily andbuyerser.'>"
      ]
     },
     "execution_count": 10,
     "metadata": {},
     "output_type": "execute_result"
    }
   ],
   "source": [
    "re.search(complainer.intro_structure, example_generation['message'])"
   ]
  },
  {
   "cell_type": "markdown",
   "id": "0ba9e63a-24c5-4381-9b0a-5d95a04686fe",
   "metadata": {},
   "source": [
    "If you get the rest figured out, feel free to generate some examples of your own!"
   ]
  },
  {
   "cell_type": "code",
   "execution_count": 11,
   "id": "18acbf60-f990-4bf3-bc9d-1bd2edc832af",
   "metadata": {
    "execution": {
     "iopub.execute_input": "2024-08-20T22:49:42.405821Z",
     "iopub.status.busy": "2024-08-20T22:49:42.405751Z",
     "iopub.status.idle": "2024-08-20T22:55:22.366288Z",
     "shell.execute_reply": "2024-08-20T22:55:22.365963Z",
     "shell.execute_reply.started": "2024-08-20T22:49:42.405815Z"
    }
   },
   "outputs": [
    {
     "name": "stdout",
     "output_type": "stream",
     "text": [
      "loading tokenizer\n",
      "Generating intro\n",
      "getting model\n",
      "loading model\n"
     ]
    },
    {
     "name": "stderr",
     "output_type": "stream",
     "text": [
      "Compiling FSM index for all state transitions: 100%|█| 71/71 [00:02<00:00, 32.38it/s\n",
      "We detected that you are passing `past_key_values` as a tuple and this is deprecated and will be removed in v4.43. Please use an appropriate `Cache` class (https://huggingface.co/docs/transformers/v4.41.3/en/internal/generation_utils#transformers.Cache)\n"
     ]
    },
    {
     "name": "stdout",
     "output_type": "stream",
     "text": [
      "Generating complaint\n",
      "getting model\n",
      "Generating order number\n",
      "getting model\n",
      "Generating intro\n",
      "Generating complaint\n",
      "Generating order number\n",
      "Generating intro\n",
      "Generating complaint\n",
      "Generating order number\n",
      "Generating intro\n",
      "Generating complaint\n",
      "Generating order number\n",
      "Generating intro\n",
      "Generating complaint\n",
      "Generating order number\n",
      "Generating intro\n",
      "Generating complaint\n",
      "Generating order number\n",
      "Generating intro\n",
      "Generating complaint\n",
      "Generating order number\n",
      "Generating intro\n",
      "Generating complaint\n",
      "Generating order number\n",
      "Generating intro\n",
      "Generating complaint\n",
      "Generating order number\n",
      "Generating intro\n",
      "Generating complaint\n",
      "Generating order number\n",
      "Generating intro\n",
      "Generating complaint\n",
      "Generating order number\n",
      "Generating intro\n",
      "Generating complaint\n",
      "Generating order number\n",
      "Generating intro\n",
      "Generating complaint\n",
      "Generating order number\n",
      "Generating intro\n",
      "Generating complaint\n",
      "Generating order number\n",
      "Generating intro\n",
      "Generating complaint\n",
      "Generating order number\n",
      "Generating intro\n",
      "Generating complaint\n",
      "Generating order number\n",
      "Generating intro\n",
      "Generating complaint\n",
      "Generating order number\n",
      "Generating intro\n",
      "Generating complaint\n",
      "Generating order number\n",
      "Generating intro\n",
      "Generating complaint\n",
      "Generating order number\n",
      "Generating intro\n",
      "Generating complaint\n",
      "Generating order number\n",
      "Generating intro\n",
      "Generating complaint\n",
      "Generating order number\n",
      "Generating intro\n",
      "Generating complaint\n",
      "Generating order number\n",
      "Generating intro\n",
      "Generating complaint\n",
      "Generating order number\n",
      "Generating intro\n",
      "Generating complaint\n",
      "Generating order number\n",
      "Generating intro\n",
      "Generating complaint\n",
      "Generating order number\n",
      "Generating intro\n",
      "Generating complaint\n",
      "Generating order number\n",
      "Generating intro\n",
      "Generating complaint\n",
      "Generating order number\n",
      "Generating intro\n",
      "Generating complaint\n",
      "Generating order number\n",
      "Generating intro\n",
      "Generating complaint\n",
      "Generating order number\n",
      "Generating intro\n",
      "Generating complaint\n",
      "Generating order number\n",
      "Generating intro\n",
      "Generating complaint\n",
      "Generating order number\n",
      "Generating intro\n",
      "Generating complaint\n",
      "Generating order number\n",
      "Generating intro\n",
      "Generating complaint\n",
      "Generating order number\n",
      "Generating intro\n",
      "Generating complaint\n",
      "Generating order number\n",
      "Generating intro\n",
      "Generating complaint\n",
      "Generating order number\n",
      "Generating intro\n",
      "Generating complaint\n",
      "Generating order number\n",
      "Generating intro\n",
      "Generating complaint\n",
      "Generating order number\n",
      "Generating intro\n",
      "Generating complaint\n",
      "Generating order number\n",
      "Generating intro\n",
      "Generating complaint\n",
      "Generating order number\n",
      "Generating intro\n",
      "Generating complaint\n",
      "Generating order number\n",
      "Generating intro\n",
      "Generating complaint\n",
      "Generating order number\n",
      "Generating intro\n",
      "Generating complaint\n",
      "Generating order number\n",
      "Generating intro\n",
      "Generating complaint\n",
      "Generating order number\n",
      "Generating intro\n",
      "Generating complaint\n",
      "Generating order number\n",
      "Generating intro\n",
      "Generating complaint\n",
      "Generating order number\n",
      "Generating intro\n",
      "Generating complaint\n",
      "Generating order number\n",
      "Generating intro\n",
      "Generating complaint\n",
      "Generating order number\n",
      "Generating intro\n",
      "Generating complaint\n",
      "Generating order number\n",
      "Generating intro\n",
      "Generating complaint\n",
      "Generating order number\n",
      "Generating intro\n",
      "Generating complaint\n",
      "Generating order number\n"
     ]
    },
    {
     "data": {
      "text/plain": [
       "[{'message': \"Hello, I'm Timothy Smith.I recently ordered the XYZ Cookware set, and it broke on me on the first day. The pieces were only just beginning to come apart when I went to fix it, and added to that, the handle was way too stiff and could not be put back together.The order number is A20-0134\",\n",
       "  'order_number': 'A20-0134',\n",
       "  'department': 'kitchen'},\n",
       " {'message': \"Hello, I'm Frank Swift.I recently ordered a lot of the made in the kitchen items from this supplier, but\\nI did not received most items. I would love your help, if you could provide me a list of all the made in the kitchen items and how many I ordered.\\nThe product I ordered can be a.This is order A46-2562\",\n",
       "  'order_number': 'A46-2562',\n",
       "  'department': 'kitchen'},\n",
       " {'message': 'Hey, my name is Sarah Jones.I recently ordered the Sizzle Bolognese Steak\\nwith pickled onions, garlic mashed potatoes, sour cream, and jalapenos.\\nI always love the flavor of this special sauce,\\nbut for some weird reason, I can barley taste the jalapenos.\\nWhen I open it up to add another.This is order Z00-0001',\n",
       "  'order_number': 'Z00-0001',\n",
       "  'department': 'kitchen'},\n",
       " {'message': \"Hello, I'm Bria andiabloo.I recently ordered BBQ Strip Grill and it didn t work. The items should have been curved, but the round ones are the same thickness as regular grill metal.This is order Z01-0568\",\n",
       "  'order_number': 'Z01-0568',\n",
       "  'department': 'kitchen'},\n",
       " {'message': \"Hello, I'm Mohammad Khan.I recently ordered a steering wheel for my new car. The family approved it and requested an extra . I received the delivery envelope, opened it and took out the few holes in the packaging.The order number is Z00-1234\",\n",
       "  'order_number': 'Z00-1234',\n",
       "  'department': 'automotive'},\n",
       " {'message': \"Hello, I'm Sarah fromiot.I recently ordered a TV console but the model did not work, it was flashing\\nand the sound was not great. I live in a dtor with a 5 year old child, I \\nwas advised to purchase this product, hoping it could solve our issue.The order number is Z20-2141\",\n",
       "  'order_number': 'Z20-2141',\n",
       "  'department': 'electronics'},\n",
       " {'message': \"Hello, I'm John Smith.I recently ordered a ceramic plate, but it always takes a long time to cook. \\n\\nThe problem is that the plate is very slippery, and it often skids.The order number is A12-0345\",\n",
       "  'order_number': 'A12-0345',\n",
       "  'department': 'kitchen'},\n",
       " {'message': \"Hello, I'm Post Office.I recently ordered an item for my office desk. However, it doesn t work with my printer. The printer started malfunctioning and no longer could print text and pictures on my desk.This is order A53-0423\",\n",
       "  'order_number': 'A53-0423',\n",
       "  'department': 'kitchen'},\n",
       " {'message': \"Hello, I'm John Doeamate.I recently ordered a Setonport 2019 Ford Mustang GT car, but the windscreen moved.\\nAssuming I needed it rather urgently, I posted an order because I understand that tampering or repair isn\\nt reasonable, so I instructed the customer carrier that should the set.The order number is Z61-2234\",\n",
       "  'order_number': 'Z61-2234',\n",
       "  'department': 'automotive'},\n",
       " {'message': \"Hello, I'm Justin andamnounts.I recently ordered a new laptop case for my new computer. Unfortunately, the size may be too small for our previous purchase.\\nI was hoping to purchase stock next week, but my credit limit has been changed.The order number is Z01-0134\",\n",
       "  'order_number': 'Z01-0134',\n",
       "  'department': 'electronics'},\n",
       " {'message': \"Hello, I'm Eric anductingr.I recently ordered a bright yellow crock of Curry by the dish. I thought it was good cus we had the right amount of curry, but when I tried to remove it from my plate the curry was splattered wildly all along the front.This is order Z12-1337\",\n",
       "  'order_number': 'Z12-1337',\n",
       "  'department': 'kitchen'},\n",
       " {'message': \"Hello, I'm Banning andzinhu.I recently ordered red pasta and it was a bit dense in texture. After attempting to adjust the pasta, it didn\\na little while realized the pasta did not fit in the dish.The order number is Z43-5615\",\n",
       "  'order_number': 'Z43-5615',\n",
       "  'department': 'kitchen'},\n",
       " {'message': \"Hello, I'm Bobigail andpleasezc.I recently ordered this product from the electronics department,\\nbut alas, it doesnnot seem to fit well and the customer service isnmeasure my rice\\nand they are unable to find another item that matches\\n\\nGiven this feedback, here are several suggestions I have.The order number is A32-4032\",\n",
       "  'order_number': 'A32-4032',\n",
       "  'department': 'electronics'},\n",
       " {'message': \"Hello, I'm Steve fromagraip.I recently ordered a sweater in green, However, a cut was seen as an aspect next to a small indent.\\n Should I return it given my only concern is the cut and then am aware that it will\\nis not suitable for me due a preference for dark green.This is order A12-4123\",\n",
       "  'order_number': 'A12-4123',\n",
       "  'department': 'clothing'},\n",
       " {'message': \"Hello, I'm Jhoel Simmons.I recently ordered counts 3 mil US Dollars, they haven only shipped 2. correctly. Now worth 1mil US Dollars!\\nit is already converted into US dollars.The order number is A33-2028\",\n",
       "  'order_number': 'A33-2028',\n",
       "  'department': 'clothing'},\n",
       " {'message': \"Hello, I'm Seasoning andlatlong.I recently ordered a torn without any signs of damage, but the product is marked as defective. I noticed the packaging on the exterior of the item is also torn.The order number is A22-0501\",\n",
       "  'order_number': 'A22-0501',\n",
       "  'department': 'clothing'},\n",
       " {'message': \"Hello, I'm Sarah anddescribe.I recently ordered a variety of bread from the existing bakery dozen breads were left in the fridge after being opened.\\nThe dry bread seems to have spoiled.This is order Z12-0089\",\n",
       "  'order_number': 'Z12-0089',\n",
       "  'department': 'kitchen'},\n",
       " {'message': 'Hey, my name is Sarah Anderson.I recently ordered a 2017 Toyota Camry for my wife along with an 8.3 inch touchscreen device. It had been lamentably old, with the screen constantly freezing or turning off and after too many difficult aisles.The order number is Z93-0300',\n",
       "  'order_number': 'Z93-0300',\n",
       "  'department': 'automotive'},\n",
       " {'message': \"Hello, I'm Dwayne fromventory.I recently ordered keyboard from a certain department so  that I can\\ntest my laptop out.\\nSorry for any inconvenience this may cause. I sent my order online yesterday.\\n\\nI received the keyboard yesterday and it needs replacing please\\nseal it and despatch it.This is order Z12-3567\",\n",
       "  'order_number': 'Z12-3567',\n",
       "  'department': 'clothing'},\n",
       " {'message': 'Hey, my name is Jane Doeannesue.I recently ordered a new hoverboard from Target. Price is AAA for AAA.\\n\\nNote the description is gender neutral, no mention of any physical product.The order number is A70-2011',\n",
       "  'order_number': 'A70-2011',\n",
       "  'department': 'electronics'},\n",
       " {'message': \"Hello, I'm Mackenzie Wood.I recently ordered the RS204A GoTable fork with high lateral rigidity, lightweight performance, and high ease\\npacking to transport it in just one piece.The order number is Z40-1234\",\n",
       "  'order_number': 'Z40-1234',\n",
       "  'department': 'kitchen'},\n",
       " {'message': \"Hello, I'm Anne andhijuanap.I recently ordered a new dress and it shipped yesterday but it doesn nothing was there on delivery!\\nPhilip is a student and he asked if there is an extra fashion piece.\\nThanks for my hassle and please bring it.This is order A20-3103\",\n",
       "  'order_number': 'A20-3103',\n",
       "  'department': 'clothing'},\n",
       " {'message': \"Hello, I'm Klayton Williams.I recently ordered your new fridge in the store after trying it out in the lab setup. The worst part is, it must have been completely installed and let you touch its fridge door for the first time today.The order number is A00-0100\",\n",
       "  'order_number': 'A00-0100',\n",
       "  'department': 'kitchen'},\n",
       " {'message': \"Hello, I'm Xanadu andxxxx.I recently ordered an item from the clothing department, and while it arrived,\\nI have experienced some issues with its functionality.\\nAfter trying to use it for some time, I noticed some strange behavior and eventually\\neven the remote control stopped working.This is order A12-4234\",\n",
       "  'order_number': 'A12-4234',\n",
       "  'department': 'clothing'},\n",
       " {'message': \"Hello, I'm David fromoods.I recently ordered a package that has a brake fluid that does not work properly!\\nAfter checking online I found that people are sharing a lot of reviews about this product! \\nThe package ship was on time too, not a problem! But I am curious about the brand and\\n.The order number is Z82-2016\",\n",
       "  'order_number': 'Z82-2016',\n",
       "  'department': 'automotive'},\n",
       " {'message': 'Hey, my name is Maria Smith.I recently ordered some fish from the kitchen. One of the items was bad. I believe it may be a frozen fish! I also wanted to purchase taco wheels, but they have been discontinued! But I am so damn hungry, so I had to buy some! AHH HARRIETS!  \\n  Let me know if.This is order A32-1753',\n",
       "  'order_number': 'A32-1753',\n",
       "  'department': 'kitchen'},\n",
       " {'message': \"Hello, I'm Customer Name.I recently ordered a vehicle from the automotive department, but shortly before delivery, noticed an issue with the battery in the vehicle. As my battery had a warranty beyond the manufacturer, I returned the battery and then I received a refund of the amount.This is order Z12-3456\",\n",
       "  'order_number': 'Z12-3456',\n",
       "  'department': 'automotive'},\n",
       " {'message': \"Hello, I'm Tracy Santa.I recently ordered a new Toyota Highlander, but noticed two problems when the long circuit of the built in lights stopped working.\\nAs the driver, my goal is to have a comfortable ride, and the long circuit has been forcing me to constantly stop and seek a fix.This is order Z10-2008\",\n",
       "  'order_number': 'Z10-2008',\n",
       "  'department': 'automotive'},\n",
       " {'message': \"Hello, I'm Neil fromamps.I recently ordered an item by looking for it online before I got a call\\nto cancel it. As a result, the item was discontinued, which was disappointing.This is order A00-0132\",\n",
       "  'order_number': 'A00-0132',\n",
       "  'department': 'clothing'},\n",
       " {'message': \"Hello, I'm Shahbaz andaaaaaaaa.I recently ordered a Toyota Prius 2020 with 98,597 miles. It arrived successfully and moved in, but the dashboard lights keep flickering and not working as expect.\\nAlso, it doesn t run smoothly in climates with high temperatures, something that a motorhome is.The order number is Z02-2442\",\n",
       "  'order_number': 'Z02-2442',\n",
       "  'department': 'automotive'},\n",
       " {'message': \"Hello, I'm Jerry andamemoi.I recently ordered a 600 km tank in black alloy in insurance,a long time ago.\\nTo a new owner.He said that the tank broke and he didnts neecit\\nBut now a year ago.He told me the tank is \\nNo one know s the year.The order number is Z58-1010\",\n",
       "  'order_number': 'Z58-1010',\n",
       "  'department': 'automotive'},\n",
       " {'message': \"Hello, I'm John andamericat.I recently ordered a new AC outlet unit from XYZ Electrics for the kitchen.\\nI have tried to run her and nothing worked right away. The manufacturer says my wiring is fine, but the appliance won t hook up and it needs a new cord or outlet adding more costs.This is order Z12-3456\",\n",
       "  'order_number': 'Z12-3456',\n",
       "  'department': 'electronics'},\n",
       " {'message': \"Hello, I'm Jerry fromzemsgen.I recently ordered a TP112CDM Tactical shortwave radio. Any ideas on what i can do to fix the issue and get it back to me asap! Could you please assist me with a new type of radio that I can mount on my senior model 6500 loudspeaker or any suggestions on how .The order number is A22-0225\",\n",
       "  'order_number': 'A22-0225',\n",
       "  'department': 'automotive'},\n",
       " {'message': \"Hello, I'm Sure Nwache.I recently ordered an AC component from a major electronics manufacturer but the price was too high. However, the technician recommended that the price would decrease by a certain percentage if the customer purchased an additional adapter.The order number is A22-3196\",\n",
       "  'order_number': 'A22-3196',\n",
       "  'department': 'automotive'},\n",
       " {'message': \"Hello, I'm Kelly andwood.I recently ordered a Bluetooth speaker and want to return it. It has miswound the cords and the case is badly damaged.\\nI ordered it originally but it is no longer in stock online.The order number is Z91-2132\",\n",
       "  'order_number': 'Z91-2132',\n",
       "  'department': 'electronics'},\n",
       " {'message': \"Hello, I'm Reporting thatmyorder.I recently ordered a sweater, but the size I decided on was too small. It was supposed to stay on for 5 months but it is too small to wear for longer.\\nAdditionally, the sweater is black.The order number is Z08-5067\",\n",
       "  'order_number': 'Z08-5067',\n",
       "  'department': 'clothing'},\n",
       " {'message': \"Hello, I'm Jonathan andquesting.I recently ordered a cooker rice, but unfortunately it never arrived. \\n\\nMy response should mimic the customer reaction and supply an ordered number to receive the cooker rice.The order number is A00-2023\",\n",
       "  'order_number': 'A00-2023',\n",
       "  'department': 'kitchen'},\n",
       " {'message': \"Hello, I'm John andanuestry.I recently ordered a red meatball kit from the kitchen department and my grill kept getting\\nstuck after the first use. I tried troubleshooting solutions and although they worked, they didn...\\n\\n...The order number is Z12-0768\",\n",
       "  'order_number': 'Z12-0768',\n",
       "  'department': 'kitchen'},\n",
       " {'message': \"Hello, I'm Luca anditisasty.I recently ordered two pairs of leggings. The Buy 2, Get 1 for 25\\npercentage off, but the items have not arrived yesterday. It is estimated that it takes 7\\ndays to ship.The order number is A00-0123\",\n",
       "  'order_number': 'A00-0123',\n",
       "  'department': 'clothing'},\n",
       " {'message': \"Hello, I'm Andrew andaborogue.I recently ordered the Router 2021 WSCE275ACrbrace Wireless router by Eskom and unfortunately it requires reissuing. This router is made by Tokium Ltd and I believe it comes from South Africa.This is order Z18-2021\",\n",
       "  'order_number': 'Z18-2021',\n",
       "  'department': 'electronics'},\n",
       " {'message': \"Hello, I'm Aspire Krufko.I recently ordered a 3.5L COUGAR spark plug for my moto Interceptor model. However, it barely worked on my engine when I took it for a test run and when I changed into the other gasoline engine it started to spark more often.The order number is Z42-1234\",\n",
       "  'order_number': 'Z42-1234',\n",
       "  'department': 'automotive'},\n",
       " {'message': \"Hello, I'm John Smith.I recently ordered an Epson Printer 120 Self Win USB 3 CF7612W Printer online from Amazon, but now after receiving it, it consistently wouldn t play at all.The order number is Z12-0321\",\n",
       "  'order_number': 'Z12-0321',\n",
       "  'department': 'electronics'},\n",
       " {'message': \"Hello, I'm Xoxo andjustlyso.I recently ordered a new HP Instruments 7500R Quilting Pen but I was\\nvery disappointed in the product itself.\\nI already used it to add a bit of personality and quality to my quilting for\\nthe first time.\\nUnfortunately, it did not work as I expected and once it.The order number is Z12-1981\",\n",
       "  'order_number': 'Z12-1981',\n",
       "  'department': 'electronics'},\n",
       " {'message': \"Hello, I'm Justin andicopn.I recently ordered a shirt from the department store. The shirt was not right for me. It wasn t very big and didn t fit right.\\nCan you help me to return it and get a new one that fits better in size and shape.This is order Z90-3123\",\n",
       "  'order_number': 'Z90-3123',\n",
       "  'department': 'clothing'},\n",
       " {'message': \"Hello, I'm Shahin withaanferv.I recently ordered a pasta dish from the kitchen with onions and garlic, but the pasta is damp.\\nCould you please perform the repairs and send a new one today according to my intake, should it be damaged! Thank you for your efforts.The order number is A01-3201\",\n",
       "  'order_number': 'A01-3201',\n",
       "  'department': 'kitchen'},\n",
       " {'message': \"Hello, I'm Connie andtoni.I recently ordered a automotive item that came with two faulty fenders. The item was supposed to have zero defect however, one major problem occurs, cause is the fenders if.The order number is A12-5678\",\n",
       "  'order_number': 'A12-5678',\n",
       "  'department': 'automotive'},\n",
       " {'message': \"Hello, I'm Subha andric.I recently ordered a knife in the kitchen department.\\n\\nI went online and found a cheaper knife,\\nBut within two weeks I realized it broke\\n\\nI called customer service and even sent them a claim, but they said it was just a knife,\\nI tested it and it works flawly\\n.The order number is A11-0201\",\n",
       "  'order_number': 'A11-0201',\n",
       "  'department': 'kitchen'},\n",
       " {'message': \"Hello, I'm Justin begging.I recently ordered a kitchen scale but it has stopped working. price is around 100 but I had hoped it would be this brand new.\\nI was also expecting CEO to use this tool to train new employees.The order number is Z07-4873\",\n",
       "  'order_number': 'Z07-4873',\n",
       "  'department': 'kitchen'},\n",
       " {'message': \"Hello, I'm Whiskers andseller.I recently ordered an 800 litres of winter fuel for my pickup truck.\\nMaximizer is the manufacturer of that gear.\\n\\nHowever, I donin expect to get this exact amount of fuel, it only is 750 litres.The order number is Z59-3224\",\n",
       "  'order_number': 'Z59-3224',\n",
       "  'department': 'automotive'},\n",
       " {'message': \"Hello, I'm Jennifer andmycompla.I recently ordered a Motorola DTX 330GT Av40 Hybrid User Device \\nIt comes in black with silver on its black screen, Which seems to work well but when I dock it I can only use \\nthe features in 1st and 2nd modes but not the thirdmode.The order number is A09-2019\",\n",
       "  'order_number': 'A09-2019',\n",
       "  'department': 'electronics'}]"
      ]
     },
     "execution_count": 11,
     "metadata": {},
     "output_type": "execute_result"
    }
   ],
   "source": [
    "complaints = [complainer.generate_complaint() for _ in range(50)]\n",
    "complaints"
   ]
  },
  {
   "cell_type": "code",
   "execution_count": 12,
   "id": "47e06bff-bc29-4bca-926e-d7754dd3c2ef",
   "metadata": {
    "execution": {
     "iopub.execute_input": "2024-08-20T22:55:22.367101Z",
     "iopub.status.busy": "2024-08-20T22:55:22.366873Z",
     "iopub.status.idle": "2024-08-20T22:55:22.369468Z",
     "shell.execute_reply": "2024-08-20T22:55:22.369067Z",
     "shell.execute_reply.started": "2024-08-20T22:55:22.367090Z"
    }
   },
   "outputs": [],
   "source": [
    "#with open(\"../examples.json\", 'w') as fout:\n",
    "#    fout.write(json.dumps(complaints))"
   ]
  }
 ],
 "metadata": {
  "kernelspec": {
   "display_name": "Python 3 (ipykernel)",
   "language": "python",
   "name": "python3"
  },
  "language_info": {
   "codemirror_mode": {
    "name": "ipython",
    "version": 3
   },
   "file_extension": ".py",
   "mimetype": "text/x-python",
   "name": "python",
   "nbconvert_exporter": "python",
   "pygments_lexer": "ipython3",
   "version": "3.11.5"
  }
 },
 "nbformat": 4,
 "nbformat_minor": 5
}
