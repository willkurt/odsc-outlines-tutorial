{
 "cells": [
  {
   "cell_type": "code",
   "execution_count": 1,
   "id": "3a3aa6ec-89e8-4832-a008-823b099ffd0e",
   "metadata": {
    "execution": {
     "iopub.execute_input": "2024-08-13T22:34:09.378149Z",
     "iopub.status.busy": "2024-08-13T22:34:09.377140Z",
     "iopub.status.idle": "2024-08-13T22:34:10.304063Z",
     "shell.execute_reply": "2024-08-13T22:34:10.303758Z",
     "shell.execute_reply.started": "2024-08-13T22:34:09.378057Z"
    }
   },
   "outputs": [],
   "source": [
    "import json\n",
    "import outlines\n",
    "from transformers import AutoTokenizer\n",
    "import torch\n",
    "from textwrap import dedent\n",
    "from enum import Enum\n",
    "import re\n",
    "import random"
   ]
  },
  {
   "cell_type": "code",
   "execution_count": 2,
   "id": "cce7d7b5-e75c-46de-b51a-1cd9d3c23faa",
   "metadata": {
    "execution": {
     "iopub.execute_input": "2024-08-13T22:34:10.304954Z",
     "iopub.status.busy": "2024-08-13T22:34:10.304827Z",
     "iopub.status.idle": "2024-08-13T22:34:10.306798Z",
     "shell.execute_reply": "2024-08-13T22:34:10.306512Z",
     "shell.execute_reply.started": "2024-08-13T22:34:10.304945Z"
    }
   },
   "outputs": [],
   "source": [
    "MODEL_NAME = \"microsoft/Phi-3-medium-4k-instruct\""
   ]
  },
  {
   "cell_type": "code",
   "execution_count": 3,
   "id": "d5b4b016-4b96-4ba2-8ac2-cd09839df327",
   "metadata": {
    "execution": {
     "iopub.execute_input": "2024-08-13T22:34:12.924201Z",
     "iopub.status.busy": "2024-08-13T22:34:12.923696Z",
     "iopub.status.idle": "2024-08-13T22:34:12.936013Z",
     "shell.execute_reply": "2024-08-13T22:34:12.934919Z",
     "shell.execute_reply.started": "2024-08-13T22:34:12.924160Z"
    }
   },
   "outputs": [
    {
     "data": {
      "text/plain": [
       "['clothing', 'electronics', 'kitchen', 'automotive']"
      ]
     },
     "execution_count": 3,
     "metadata": {},
     "output_type": "execute_result"
    }
   ],
   "source": [
    "class Department(str, Enum):\n",
    "    clothing = \"clothing\"\n",
    "    electronics = \"electronics\"\n",
    "    kitchen = \"kitchen\"\n",
    "    automotive = \"automotive\"\n",
    "\n",
    "DEFAULT_DEPTS = [dept.name for dept in list(Department)]\n",
    "DEFAULT_DEPTS"
   ]
  },
  {
   "cell_type": "markdown",
   "id": "de090770-a552-4507-9ef6-c9a6d0385b2f",
   "metadata": {},
   "source": [
    "## Step 1 - Draft Structure\n",
    "\n",
    "See the `intro_structure` property to get started"
   ]
  },
  {
   "cell_type": "code",
   "execution_count": 11,
   "id": "4e487036-4fdc-418c-86d8-289117179063",
   "metadata": {
    "execution": {
     "iopub.execute_input": "2024-08-13T22:46:45.200748Z",
     "iopub.status.busy": "2024-08-13T22:46:45.200098Z",
     "iopub.status.idle": "2024-08-13T22:46:45.223931Z",
     "shell.execute_reply": "2024-08-13T22:46:45.223487Z",
     "shell.execute_reply.started": "2024-08-13T22:46:45.200710Z"
    }
   },
   "outputs": [],
   "source": [
    "from copy import deepcopy\n",
    "class ComplaintGenerator:\n",
    "\n",
    "    def __init__(self, model_name, departments=DEFAULT_DEPTS):\n",
    "        self.model_name = model_name\n",
    "        self.departments = departments\n",
    "        self._model = None\n",
    "        self._tokenizer = None\n",
    "        self._intro_generator = None\n",
    "        self._complaint_generator = None\n",
    "        self._order_number_generator = None\n",
    "    ####################################\n",
    "    # Structured Generation Section\n",
    "    #\n",
    "    @property\n",
    "    def intro_structure(self):\n",
    "        possible_intros = [\n",
    "            r'(Hi! This is [A-Z][a-z]{3,10} [A-z][a-z]{3,10})\\.',\n",
    "            r'(Hi, my name is [A-Z][a-z]{3,10} [A-z][a-z]{3,10})\\.',\n",
    "        ]\n",
    "        return rf\"({'|'.join(possible_intros)})\"        \n",
    "\n",
    "    @property\n",
    "    def complaint_structure(self):\n",
    "        return r'I recently ordered [\\w\\s,.!\\n]{120,240}\\.'\n",
    "\n",
    "    @property\n",
    "    def order_number_structure(self):\n",
    "        possible_order_numbers = [\n",
    "             r'(My order was (A|D|Z)[0-9]{6})',\n",
    "             r'(This is order (A|D|Z)[0-9]{2}-[0-9]{4})',\n",
    "             r'(The order number is (A|D|Z)[0-9]{2}-[0-9]{4})'\n",
    "         ]\n",
    "        return rf\"({'|'.join(possible_order_numbers)})\"\n",
    "    #\n",
    "    #\n",
    "    ####################################\n",
    "\n",
    "    \n",
    "    @property\n",
    "    def intro_generator(self):\n",
    "        if self._intro_generator is None:\n",
    "            self._intro_generator = outlines.generate.regex(\n",
    "                self.model, self.intro_structure\n",
    "            )\n",
    "        return self._intro_generator\n",
    "        \n",
    "    @property\n",
    "    def complaint_generator(self):\n",
    "        if self._complaint_generator is None:\n",
    "            self._complaint_generator = outlines.generate.regex(self.model, self.complaint_structure)\n",
    "        return self._complaint_generator\n",
    "\n",
    "    @property\n",
    "    def order_number_generator(self):\n",
    "        if self._order_number_generator is None:\n",
    "            self._order_number_generator = outlines.generate.regex(\n",
    "                self.model, \n",
    "                self.order_number_structure)\n",
    "        return self._order_number_generator\n",
    "    \n",
    "    @property\n",
    "    def model(self):\n",
    "        print(\"getting model\")\n",
    "        if self._model is None:\n",
    "            print(\"loading model\")\n",
    "            self._model = outlines.models.transformers(\n",
    "                self.model_name,\n",
    "                model_kwargs={\n",
    "                    #'torch_dtype': torch.bfloat16,\n",
    "                    'trust_remote_code': True\n",
    "                },)\n",
    "        return self._model\n",
    "\n",
    "    @property\n",
    "    def tokenizer(self):\n",
    "        if self._tokenizer is None:\n",
    "            print(\"loading tokenizer\")\n",
    "            self._tokenizer = AutoTokenizer.from_pretrained(self.model_name)\n",
    "        return self._tokenizer\n",
    "        \n",
    "    def generate_complaint(self):\n",
    "        prompt_messages = self._start_messages()\n",
    "        prompt_messages.append(self._intro_prompt())\n",
    "        prompt_intro = self.tokenizer.apply_chat_template(\n",
    "            prompt_messages,\n",
    "            tokenize=False\n",
    "        )\n",
    "        print(\"Generating intro\")\n",
    "        intro_result = self.intro_generator(prompt_intro)\n",
    "        prompt_messages.append({\n",
    "            \"role\": \"agent\",\n",
    "            \"content\": intro_result\n",
    "        })\n",
    "        print(\"Generating Complaint\")\n",
    "        department = random.choice(self.departments)\n",
    "        prompt_messages.append(self._complaint_prompt(department))\n",
    "        prompt_complaint = self.tokenizer.apply_chat_template(\n",
    "            prompt_messages,\n",
    "            tokenize=False\n",
    "        )\n",
    "        complaint_result = self.complaint_generator(prompt_complaint)\n",
    "        prompt_messages.append({\n",
    "            \"role\": \"agent\",\n",
    "            \"content\": complaint_result\n",
    "        })\n",
    "        prompt_messages.append(self._order_number_prompt())\n",
    "        prompt_order_number = self.tokenizer.apply_chat_template(\n",
    "            prompt_messages,\n",
    "            tokenize=False\n",
    "        )\n",
    "        print(\"Generating order number\")\n",
    "        order_number_result = self.order_number_generator(prompt_order_number)\n",
    "\n",
    "        final_message = intro_result + complaint_result + order_number_result\n",
    "        return {\n",
    "            \"message\": final_message,\n",
    "            \"order_number\": self.parse_order_number(order_number_result),\n",
    "            \"department\": department\n",
    "        }\n",
    "    \n",
    "    def parse_order_number(self, message):\n",
    "        \"\"\"\n",
    "        We want to extract the order number so that we can \n",
    "        send it back with the response to use for validation later.\n",
    "        \"\"\"\n",
    "        number_only = r'((A|D|Z)[0-9]{6})|((A|D|Z)[0-9]{2}-[0-9]{4})'\n",
    "        order_number = re.search(number_only, message)[0]\n",
    "        if not (\"-\" in order_number):\n",
    "            order_number = f\"{order_number[0:3]}-{order_number[3:]}\"\n",
    "        return order_number\n",
    "        \n",
    "    def _start_messages(self):\n",
    "        \"\"\"\n",
    "        These are the starting prompt messages, since we'll be\n",
    "        appending to these messages, we'd like to return a \n",
    "        copy of them.\n",
    "        \"\"\"\n",
    "        prompt_messages = [{\n",
    "            \"role\": \"user\",\n",
    "            \"content\": dedent(\"\"\"\n",
    "            You are an agent designed to create simulated customer complaints. The\n",
    "            complaints are essentially short text messages that describe a customer,\n",
    "            their problem, and provide an order number.\n",
    "        \n",
    "            You will build the complaint in parts based on the user request. The\n",
    "            complaint will be about a product from a specified department, but you\n",
    "            will not mention the department name directly.\n",
    "        \n",
    "            For example, if you are asked about something from the 'kitchen' department \n",
    "            you might mention an 'knife' but you won't mention the department.\n",
    "            \"\"\")\n",
    "        },{ \n",
    "            \"role\": \"agent\",\n",
    "            \"content\": dedent(\"\"\"\n",
    "            I understand the task, and will wait for the you to instruct me on\n",
    "            next steps.\n",
    "            \"\"\")\n",
    "        }]\n",
    "        return(deepcopy(prompt_messages))\n",
    "\n",
    "    def _intro_prompt(self):\n",
    "        intro_prompt = {\n",
    "            \"role\": \"user\",\n",
    "            \"content\": \"Start the message with a short intro stating the customer's name.\"\n",
    "        }\n",
    "        return(deepcopy(intro_prompt))\n",
    "\n",
    "    def _complaint_prompt(self, department):\n",
    "        complaint_message = {\n",
    "            \"role\":\"user\", \n",
    "            \"content\": dedent(f\"\"\"\n",
    "                            Good! Now write a short description of the problem with an item from the {department} department,\n",
    "                            but don't mention the actual name of the department the product comes from!\n",
    "                            \"\"\")\n",
    "        }\n",
    "        return deepcopy(complaint_message)\n",
    "\n",
    "    def _order_number_prompt(self):\n",
    "        order_number_message = {\n",
    "            \"role\": \"user\",\n",
    "            \"content\": dedent(\"\"\"\n",
    "            Finally, add a statement about the order number which starts with letter 'A', 'D' or 'Z' and consists of 6 digits after.\n",
    "            \"\"\")\n",
    "        }\n",
    "        return deepcopy(order_number_message)\n",
    "        \n",
    "    \n",
    "\n",
    "    \n",
    "    "
   ]
  },
  {
   "cell_type": "code",
   "execution_count": 6,
   "id": "4786ce1c-e879-486c-9e0c-2177ea952b66",
   "metadata": {
    "execution": {
     "iopub.execute_input": "2024-08-13T22:45:36.532941Z",
     "iopub.status.busy": "2024-08-13T22:45:36.531900Z",
     "iopub.status.idle": "2024-08-13T22:45:36.540574Z",
     "shell.execute_reply": "2024-08-13T22:45:36.539512Z",
     "shell.execute_reply.started": "2024-08-13T22:45:36.532867Z"
    }
   },
   "outputs": [],
   "source": [
    "complainer = ComplaintGenerator(MODEL_NAME)\n",
    "# complainer.generate_complaint()"
   ]
  },
  {
   "cell_type": "markdown",
   "id": "12319f4b-6bdc-43c8-bfb6-4c759a9f8452",
   "metadata": {},
   "source": [
    "## Step 2 - Verify Structure \n",
    "\n",
    "We can now test that this structure indeed matches the real data we have. To start we're only going to test the `intro_structure` property. We always want to start with real data:"
   ]
  },
  {
   "cell_type": "code",
   "execution_count": 4,
   "id": "e35be45c-00fd-477e-b205-2a6ae1c7a8b2",
   "metadata": {
    "execution": {
     "iopub.execute_input": "2024-08-13T22:45:28.364499Z",
     "iopub.status.busy": "2024-08-13T22:45:28.363465Z",
     "iopub.status.idle": "2024-08-13T22:45:28.373686Z",
     "shell.execute_reply": "2024-08-13T22:45:28.372584Z",
     "shell.execute_reply.started": "2024-08-13T22:45:28.364427Z"
    }
   },
   "outputs": [],
   "source": [
    "with open(\"../examples.json\",'r') as fin:\n",
    "    complaint_data = json.loads(fin.read())"
   ]
  },
  {
   "cell_type": "markdown",
   "id": "9e328722-b568-4876-b7e6-23f494cae778",
   "metadata": {},
   "source": [
    "The we make sure that our structure indeed does match all of the messages in our data set:"
   ]
  },
  {
   "cell_type": "code",
   "execution_count": 23,
   "id": "7d61728e-e799-452d-aafb-b160f72db207",
   "metadata": {
    "execution": {
     "iopub.execute_input": "2024-08-13T23:08:39.422958Z",
     "iopub.status.busy": "2024-08-13T23:08:39.421905Z",
     "iopub.status.idle": "2024-08-13T23:08:39.433117Z",
     "shell.execute_reply": "2024-08-13T23:08:39.432239Z",
     "shell.execute_reply.started": "2024-08-13T23:08:39.422881Z"
    }
   },
   "outputs": [
    {
     "data": {
      "text/plain": [
       "True"
      ]
     },
     "execution_count": 23,
     "metadata": {},
     "output_type": "execute_result"
    }
   ],
   "source": [
    "all([re.search(complainer.intro_structure, complaint['message'])\n",
    "     for complaint in complaint_data])"
   ]
  },
  {
   "cell_type": "code",
   "execution_count": null,
   "id": "84609f30-eed8-484e-aba6-2522a3de38de",
   "metadata": {},
   "outputs": [],
   "source": [
    "example_generation = complainer.generate()"
   ]
  },
  {
   "cell_type": "markdown",
   "id": "e9f124e9-333c-4c36-bde4-01d7f3f2a21d",
   "metadata": {},
   "source": [
    "## Step 3 - Generate Structure\n",
    "\n",
    "Rather than run the model right now, we'll use an example generated earlier"
   ]
  },
  {
   "cell_type": "code",
   "execution_count": 18,
   "id": "a7219601-65af-4c11-afa6-9d5065da69b6",
   "metadata": {
    "execution": {
     "iopub.execute_input": "2024-08-13T22:50:10.381594Z",
     "iopub.status.busy": "2024-08-13T22:50:10.380604Z",
     "iopub.status.idle": "2024-08-13T22:50:10.387781Z",
     "shell.execute_reply": "2024-08-13T22:50:10.386674Z",
     "shell.execute_reply.started": "2024-08-13T22:50:10.381523Z"
    }
   },
   "outputs": [],
   "source": [
    "# Normally we would do the following...\n",
    "# example_generation = complainer.generate()\n",
    "example_generation = {\n",
    " 'message': 'Hi, my name is Emily andbuyerser.I recently ordered a laptop with an extended warranty, but upon arrival, I noticed a malfunctioning trackpad. Despite numerous attempts at troubleshooting, the issue persists, greatly hindering my everyday use.This is order A12-3456',\n",
    " 'order_number': 'A12-3456',\n",
    " 'department': 'electronics'\n",
    "}"
   ]
  },
  {
   "cell_type": "markdown",
   "id": "c734ff15-b8bd-4538-ab3c-9f5ac827879b",
   "metadata": {},
   "source": [
    "## Step 4 - Inspect Output\n",
    "\n",
    "Uh oh! Look at the name output! `Emily andbuyerser` is not a name that I would expect and doesn't match the expected output!\n",
    "\n",
    "Now it's *your turn* to fix it!\n",
    "\n",
    "When you've found the bug you can continue on to the next sections:\n",
    "\n",
    "- Finish the `complaint_structure`, repeating this process\n",
    "- Finish the `order_number_structure`, repeating this process\n",
    "- If you have time, generate some new complaints!"
   ]
  },
  {
   "cell_type": "code",
   "execution_count": 7,
   "id": "18acbf60-f990-4bf3-bc9d-1bd2edc832af",
   "metadata": {
    "execution": {
     "iopub.execute_input": "2024-08-13T00:25:33.677060Z",
     "iopub.status.busy": "2024-08-13T00:25:33.676954Z",
     "iopub.status.idle": "2024-08-13T01:36:32.141251Z",
     "shell.execute_reply": "2024-08-13T01:36:32.140904Z",
     "shell.execute_reply.started": "2024-08-13T00:25:33.677051Z"
    }
   },
   "outputs": [
    {
     "name": "stdout",
     "output_type": "stream",
     "text": [
      "loading tokenizer\n"
     ]
    },
    {
     "name": "stderr",
     "output_type": "stream",
     "text": [
      "Special tokens have been added in the vocabulary, make sure the associated word embeddings are fine-tuned or trained.\n"
     ]
    },
    {
     "name": "stdout",
     "output_type": "stream",
     "text": [
      "Generating intro\n",
      "getting model\n",
      "loading model\n"
     ]
    },
    {
     "name": "stderr",
     "output_type": "stream",
     "text": [
      "`flash-attention` package not found, consider installing for better performance: No module named 'flash_attn'.\n",
      "Current `flash-attenton` does not support `window_size`. Either upgrade or use `attn_implementation='eager'`.\n"
     ]
    },
    {
     "data": {
      "application/vnd.jupyter.widget-view+json": {
       "model_id": "9fed1ec3d3234e68a599449063867756",
       "version_major": 2,
       "version_minor": 0
      },
      "text/plain": [
       "Loading checkpoint shards:   0%|          | 0/6 [00:00<?, ?it/s]"
      ]
     },
     "metadata": {},
     "output_type": "display_data"
    },
    {
     "name": "stderr",
     "output_type": "stream",
     "text": [
      "Special tokens have been added in the vocabulary, make sure the associated word embeddings are fine-tuned or trained.\n",
      "You are not running the flash-attention implementation, expect numerical differences.\n"
     ]
    },
    {
     "name": "stdout",
     "output_type": "stream",
     "text": [
      "Generating Complaint\n",
      "getting model\n",
      "Generating order number\n",
      "getting model\n",
      "Generating intro\n",
      "Generating Complaint\n",
      "Generating order number\n",
      "Generating intro\n",
      "Generating Complaint\n",
      "Generating order number\n",
      "Generating intro\n",
      "Generating Complaint\n",
      "Generating order number\n",
      "Generating intro\n",
      "Generating Complaint\n",
      "Generating order number\n",
      "Generating intro\n",
      "Generating Complaint\n",
      "Generating order number\n",
      "Generating intro\n",
      "Generating Complaint\n",
      "Generating order number\n",
      "Generating intro\n",
      "Generating Complaint\n",
      "Generating order number\n",
      "Generating intro\n",
      "Generating Complaint\n",
      "Generating order number\n",
      "Generating intro\n",
      "Generating Complaint\n",
      "Generating order number\n",
      "Generating intro\n",
      "Generating Complaint\n",
      "Generating order number\n",
      "Generating intro\n",
      "Generating Complaint\n",
      "Generating order number\n",
      "Generating intro\n",
      "Generating Complaint\n",
      "Generating order number\n",
      "Generating intro\n",
      "Generating Complaint\n",
      "Generating order number\n",
      "Generating intro\n",
      "Generating Complaint\n",
      "Generating order number\n",
      "Generating intro\n",
      "Generating Complaint\n",
      "Generating order number\n",
      "Generating intro\n",
      "Generating Complaint\n",
      "Generating order number\n",
      "Generating intro\n",
      "Generating Complaint\n",
      "Generating order number\n",
      "Generating intro\n",
      "Generating Complaint\n",
      "Generating order number\n",
      "Generating intro\n",
      "Generating Complaint\n",
      "Generating order number\n",
      "Generating intro\n",
      "Generating Complaint\n",
      "Generating order number\n",
      "Generating intro\n",
      "Generating Complaint\n",
      "Generating order number\n",
      "Generating intro\n",
      "Generating Complaint\n",
      "Generating order number\n",
      "Generating intro\n",
      "Generating Complaint\n",
      "Generating order number\n",
      "Generating intro\n",
      "Generating Complaint\n",
      "Generating order number\n",
      "Generating intro\n",
      "Generating Complaint\n",
      "Generating order number\n",
      "Generating intro\n",
      "Generating Complaint\n",
      "Generating order number\n",
      "Generating intro\n",
      "Generating Complaint\n",
      "Generating order number\n",
      "Generating intro\n",
      "Generating Complaint\n",
      "Generating order number\n",
      "Generating intro\n",
      "Generating Complaint\n",
      "Generating order number\n",
      "Generating intro\n",
      "Generating Complaint\n",
      "Generating order number\n",
      "Generating intro\n",
      "Generating Complaint\n",
      "Generating order number\n",
      "Generating intro\n",
      "Generating Complaint\n",
      "Generating order number\n",
      "Generating intro\n",
      "Generating Complaint\n",
      "Generating order number\n",
      "Generating intro\n",
      "Generating Complaint\n",
      "Generating order number\n",
      "Generating intro\n",
      "Generating Complaint\n",
      "Generating order number\n",
      "Generating intro\n",
      "Generating Complaint\n",
      "Generating order number\n",
      "Generating intro\n",
      "Generating Complaint\n",
      "Generating order number\n",
      "Generating intro\n",
      "Generating Complaint\n",
      "Generating order number\n",
      "Generating intro\n",
      "Generating Complaint\n",
      "Generating order number\n",
      "Generating intro\n",
      "Generating Complaint\n",
      "Generating order number\n",
      "Generating intro\n",
      "Generating Complaint\n",
      "Generating order number\n",
      "Generating intro\n",
      "Generating Complaint\n",
      "Generating order number\n",
      "Generating intro\n",
      "Generating Complaint\n",
      "Generating order number\n",
      "Generating intro\n",
      "Generating Complaint\n",
      "Generating order number\n",
      "Generating intro\n",
      "Generating Complaint\n",
      "Generating order number\n",
      "Generating intro\n",
      "Generating Complaint\n",
      "Generating order number\n",
      "Generating intro\n",
      "Generating Complaint\n",
      "Generating order number\n",
      "Generating intro\n",
      "Generating Complaint\n",
      "Generating order number\n",
      "Generating intro\n",
      "Generating Complaint\n",
      "Generating order number\n"
     ]
    },
    {
     "data": {
      "text/plain": [
       "[{'message': 'Hi, my name is Olivia Brown.I recently ordered a knife set from your wellness range, and it arrived earlier this week. Unfortunately, my satisfaction with the product has been less than ideal.My order was A123456',\n",
       "  'order_number': 'A12-3456',\n",
       "  'department': 'kitchen'},\n",
       " {'message': 'Hi, my name is John Smith.I recently ordered a dress for an upcoming event, which was alleged to meet my expectations both in fit and style. However, upon arrival, it became apparent that the fabric was of subpar quality, leading to a less than satisfactory appearance.The order number is A12-3456',\n",
       "  'order_number': 'A12-3456',\n",
       "  'department': 'clothing'},\n",
       " {'message': 'Hi, my name is Sarah Johnson.I recently ordered the ultimate ChefMaster 8 Drawer Cooktop. However, upon delivery, I discovered that one of the burners is malfunctioning.My order was A458739',\n",
       "  'order_number': 'A45-8739',\n",
       "  'department': 'kitchen'},\n",
       " {'message': 'Hi, my name is Jane Doeandcommn.I recently ordered a stylish black pair of headphones from your store, and unfortunately, they failed to work on the first try. Despite troubleshooting instructions in the manual, there seems to be no response from the device.The order number is D12-3456',\n",
       "  'order_number': 'D12-3456',\n",
       "  'department': 'electronics'},\n",
       " {'message': 'Hi, my name is Sarah Collins.I recently ordered your SmartWidget, but it hasn stopped working entirely! I just purchased the RapidCharge battery pack that does not charge at all.My order was Z123456',\n",
       "  'order_number': 'Z12-3456',\n",
       "  'department': 'electronics'},\n",
       " {'message': 'Hi, my name is Sarah Johnson.I recently ordered a set of knives online, but to my disappointment, when I received them today, they had multiple issues. The hardwood handles are missing screws, making them difficult to attach securely, and there was visible damage to some of the blades, r.This is order A12-3456',\n",
       "  'order_number': 'A12-3456',\n",
       "  'department': 'kitchen'},\n",
       " {'message': 'Hi, my name is Jennifer Stevens.I recently ordered a new gaming console online, and it arrived yesterday. To my dismay, the console wonnnot power on, despite multiple attempts, and thorough reading of manual instructions.My order was A678901',\n",
       "  'order_number': 'A67-8901',\n",
       "  'department': 'electronics'},\n",
       " {'message': 'Hi, my name is Susan Rodriguez.I recently ordered a car battery from your store and encountered some issues with it.\\n\\n\\nHere are the details of my complaint, Jane Doe, with the order number 1234567890.The order number is D45-7891',\n",
       "  'order_number': 'D45-7891',\n",
       "  'department': 'automotive'},\n",
       " {'message': 'Hi, my name is Emily Taylor.I recently ordered the latest UltraWave soundbar and I am really disappointed. Upon arrival, I noticed the sound is incredibly distorted and there are frequent crackling noises.The order number is A12-3456',\n",
       "  'order_number': 'A12-3456',\n",
       "  'department': 'electronics'},\n",
       " {'message': 'Hi, my name is Alex Johnson.I recently ordered a set of knives which has sadly arrived in a much less than satisfactory condition. The handle of the chef knife cracked noticeably, and the blade has an inconsistent sharpness across its length.The order number is D21-0987',\n",
       "  'order_number': 'D21-0987',\n",
       "  'department': 'kitchen'},\n",
       " {'message': 'Hi, my name is Sarah Johnson.I recently ordered a car tire replacement kit but received a set of headlight bulbs instead. The tires I was looking forward to using for my weekend trip are still not here, and it is causing a lot of inconvenience.My order was Z482951',\n",
       "  'order_number': 'Z48-2951',\n",
       "  'department': 'automotive'},\n",
       " {'message': 'Hi, my name is Emily Scott.I recently ordered an oil change for my car and unfortunately, the quality of service was not up to par. The mechanic seemed to rush the job, leaving behind a messy garage with some tools left out, and I noticed oil dripped on my car after picking it up.This is order A12-3457',\n",
       "  'order_number': 'A12-3457',\n",
       "  'department': 'automotive'},\n",
       " {'message': 'Hi, my name is Emily Johnson.I recently ordered a high performance chef grade knife for my kitchen, and upon receiving it, I found a noticeable flaw. The handle was cracked and the blade appears dull, hardly the premium product that was promised.This is order Z81-4567',\n",
       "  'order_number': 'Z81-4567',\n",
       "  'department': 'kitchen'},\n",
       " {'message': 'Hi, my name is Sarah Thompson.I recently ordered a set of knives from your store and have encountered a serious issue upon its use. Upon the first few attempts, the blades began to show signs of corrosion, which is quite unexpected and disappointing for a new purchase.My order was D123456',\n",
       "  'order_number': 'D12-3456',\n",
       "  'department': 'kitchen'},\n",
       " {'message': 'Hi, my name is John Smith.I recently ordered a hatchback for my child at sunset\\n\\nProblem is, some accessory isn still wrapped in plastic,\\n\\nOrder No 893274. Please advise.My order was Z678901',\n",
       "  'order_number': 'Z67-8901',\n",
       "  'department': 'automotive'},\n",
       " {'message': 'Hi, my name is Jane Smith.I recently ordered a set of knives for my kitchen, but upon arrival, I noticed that one of the knives has a significant chip on the blade. This is quite troubling since it compromises the product both in terms of performance and safety.The order number is D12-3456',\n",
       "  'order_number': 'D12-3456',\n",
       "  'department': 'kitchen'},\n",
       " {'message': 'Hi, my name is Emily Richards.I recently ordered a part from your automotive collection. Upon receiving the shipment, I realized the high beam bulb I ordered is not functioning as it should.My order was A123456',\n",
       "  'order_number': 'A12-3456',\n",
       "  'department': 'automotive'},\n",
       " {'message': 'Hi, my name is Sarah Johnson.I recently ordered a cheese slicer set, and although the knife was sharp when it arrived,\\nI found that the grip is uncomfortably small, causing difficulty and pain in holding it for\\nany length of time.The order number is A12-3456',\n",
       "  'order_number': 'A12-3456',\n",
       "  'department': 'kitchen'},\n",
       " {'message': 'Hi, my name is John Carter.I recently ordered a set of dining utensils from your online store, and they arrived with several issues. The knife set, which was supposed to be a nonstick coated cutlery, showed rust spots on the blades, and the handles were misaligned, making them wobbly.This is order A12-3456',\n",
       "  'order_number': 'A12-3456',\n",
       "  'department': 'kitchen'},\n",
       " {'message': 'Hi, my name is Emily Clarke.I recently ordered a sweater for my cousin and she is extremely upset with the quality. The yarn is unraveling at the seams and the colors are already fading.The order number is D56-0073',\n",
       "  'order_number': 'D56-0073',\n",
       "  'department': 'clothing'},\n",
       " {'message': 'Hi, my name is Jordan Smith.I recently ordered the latest wireless headphones from your store, which came with high expectations. Unfortunately, upon arrival, the right side produced only static noise.The order number is A12-3456',\n",
       "  'order_number': 'A12-3456',\n",
       "  'department': 'electronics'},\n",
       " {'message': 'Hi, my name is Jessica Smith.I recently ordered a matte black steering wheel for my car, and when I received it, I noticed several scratches on the surface and one of the spoke caps was missing.This is order A12-3456',\n",
       "  'order_number': 'A12-3456',\n",
       "  'department': 'automotive'},\n",
       " {'message': 'Hi, my name is Julia Sanders.I recently ordered a product from your site, but to my dismay, the item isn t performing as expected. The device keeps losing connection, disrupting my work.My order was A123456',\n",
       "  'order_number': 'A12-3456',\n",
       "  'department': 'electronics'},\n",
       " {'message': 'Hi, my name is Sarah Johnson.I recently ordered a set of cutlery that included a variety of utensils, but I am having an issue with the main tool I received. It arrived with a flaw in the handle, making it unsafe to hold and use for its intended culinary applications.My order was Z837204',\n",
       "  'order_number': 'Z83-7204',\n",
       "  'department': 'kitchen'},\n",
       " {'message': 'Hi, my name is Emily Thompson.I recently ordered a blendable, multiuse tool from your store. However, when it arrived, it was nowhere near the expectations set by the promotional material.The order number is D12-3456',\n",
       "  'order_number': 'D12-3456',\n",
       "  'department': 'kitchen'},\n",
       " {'message': 'Hi, my name is Sarah Miller.I recently ordered a delicate blouse for a special occasion, but the fabric tore when I tried it on for the first time. It seems like poor quality material.My order was A123456',\n",
       "  'order_number': 'A12-3456',\n",
       "  'department': 'clothing'},\n",
       " {'message': 'Hi, my name is Emily Rogers.I recently ordered a tende grill pan from your store and would like to share my disappointment with the quality. The nonstick coating flakes off with every use, and cleaning the pan has become a hassle.My order was D564321',\n",
       "  'order_number': 'D56-4321',\n",
       "  'department': 'kitchen'},\n",
       " {'message': 'Hi, my name is Emily Johnson.I recently ordered a tailored blazer from your store, but upon arrival, I found the stitching coming apart. This is quite disappointing, as I was looking forward to wearing it to an upcoming event.This is order A13-4567',\n",
       "  'order_number': 'A13-4567',\n",
       "  'department': 'clothing'},\n",
       " {'message': 'Hi, my name is Emily Johnson.I recently ordered from your store and received my package on Tuesday. However, upon opening the box, I discovered that the chef knife I ordered had a hairline crack along the blade, rendering it unsafe for use.The order number is A12-3456',\n",
       "  'order_number': 'A12-3456',\n",
       "  'department': 'kitchen'},\n",
       " {'message': 'Hi, my name is Emily Jackson.I recently ordered a set of high performance tires and upon delivery, I discovered that they were not the correct size for my vehicle. This mishap has caused me a significant inconvenience.My order was A305712',\n",
       "  'order_number': 'A30-5712',\n",
       "  'department': 'automotive'},\n",
       " {'message': 'Hi, my name is John Smith.I recently ordered a Bluetooth speaker, but unfortunately, the left side produces no sound. It seems to be a fault with the audio component.The order number is A12-3456',\n",
       "  'order_number': 'A12-3456',\n",
       "  'department': 'electronics'},\n",
       " {'message': 'Hi, my name is Sarah Peterson.I recently ordered a car seat from your website. The strap system feels unsecure and I worry about the safety of the product. I would appreciate your prompt assistance in resolving this issue.This is order A12-3456',\n",
       "  'order_number': 'A12-3456',\n",
       "  'department': 'automotive'},\n",
       " {'message': 'Hi, my name is Andrew Marshall.I recently ordered a set of high carbon steel kitchen knives through your online store. Upon initial use, I discovered that the serrated bread knife I got in the set has a noticeably uneven blade edge, rendering it ineffective and dangerous to use.The order number is Z37-5921',\n",
       "  'order_number': 'Z37-5921',\n",
       "  'department': 'kitchen'},\n",
       " {'message': 'Hi, my name is Susan Johnson.I recently ordered a dress from your online store, but unfortunately, it arrived with a significant tear along the seam. The dress is now unwearable.The order number is A12-3456',\n",
       "  'order_number': 'A12-3456',\n",
       "  'department': 'clothing'},\n",
       " {'message': 'Hi, my name is Sarah Johnson.I recently ordered a set of chef knives from your store and I am deeply disappointed with my purchase. Upon usage, I noticed that the handles felt unusually slippery and unsafe to hold, leading to a few close calls.The order number is A65-7891',\n",
       "  'order_number': 'A65-7891',\n",
       "  'department': 'kitchen'},\n",
       " {'message': 'Hi, my name is Sarah Johnson.I recently ordered a set of 8 high carbon steel knives for my new home cooking ventures. However, upon delivery, I noticed that the handle of one of the knives had a significant crack along the spine, compromising its integrity and safety.My order was Z000000',\n",
       "  'order_number': 'Z00-0000',\n",
       "  'department': 'kitchen'},\n",
       " {'message': 'Hi, my name is John Doeandrecei.I recently ordered a set of tires, but there was a mismatch in the size. The arrangement paid for and the items delivered just donen. Please assist!\\nOrder no.The order number is A12-3456',\n",
       "  'order_number': 'A12-3456',\n",
       "  'department': 'automotive'},\n",
       " {'message': 'Hi, my name is John Smith.I recently ordered a gadget with the order number 567812. Upon its arrival, I was eager to explore its features, but to my dismay, it stopped functioning properly within days.The order number is A78-1462',\n",
       "  'order_number': 'A78-1462',\n",
       "  'department': 'electronics'},\n",
       " {'message': 'Hi, my name is Sarah Gonzalez.I recently ordered a product for my vehicle, and it seems to be faulty. The item in question, a branded tire, has already worn unevenly after just a single use.The order number is A12-3456',\n",
       "  'order_number': 'A12-3456',\n",
       "  'department': 'automotive'},\n",
       " {'message': 'Hi, my name is Sarah Connor.I recently ordered a dress from your online store, and unfortunately, I have been having a few issues with it. Firstly, the color of the dress differs significantly from what was shown on your website.My order was Z453921',\n",
       "  'order_number': 'Z45-3921',\n",
       "  'department': 'clothing'},\n",
       " {'message': 'Hi, my name is Sarah Patterson.I recently ordered a set of premium tires for my car, and upon delivery, I noticed that one of the tires had a visible bulge along the sidewall.The order number is A12-3456',\n",
       "  'order_number': 'A12-3456',\n",
       "  'department': 'automotive'},\n",
       " {'message': 'Hi, my name is Laura Smith.I recently ordered a wireless charger for my car from your store. Not only did it arrive late, but it also isnif handled properly during shipping.My order was A123456',\n",
       "  'order_number': 'A12-3456',\n",
       "  'department': 'automotive'},\n",
       " {'message': 'Hi, my name is John Smith.I recently ordered a new smartphone from your online store, and I am incredibly disappointed with the product I received. The device has already encountered multiple glitches, including an unresponsive touchscreen and frequent crashes.My order was A123456',\n",
       "  'order_number': 'A12-3456',\n",
       "  'department': 'electronics'},\n",
       " {'message': 'Hi, my name is Grace Johnson.I recently ordered a new shirt from your website, but when it arrived, I found that the color was entirely different from what was depicted on the site.The order number is A12-3456',\n",
       "  'order_number': 'A12-3456',\n",
       "  'department': 'clothing'},\n",
       " {'message': 'Hi, my name is Jack Reacher.I recently ordered a premium set of knives last month for my catering startup, but to my dismay, the knives delivered are nowhere near the quality advertised.My order was A123456',\n",
       "  'order_number': 'A12-3456',\n",
       "  'department': 'kitchen'},\n",
       " {'message': 'Hi, my name is Jessica Williams.I recently ordered a gift for my sister and eagerly awaited its arrival. Upon opening the package, however, I was disappointed to find that the red silk dress had a noticeable tear along the seam.This is order A68-7091',\n",
       "  'order_number': 'A68-7091',\n",
       "  'department': 'clothing'},\n",
       " {'message': 'Hi, my name is Sarah Patterson.I recently ordered a SurgePro 4K gaming monitor for my desk setup, and there are persistent display issues. When I first received the item, I noticed sparkles on the screen whenever I adjust the brightness settings.My order was D839912',\n",
       "  'order_number': 'D83-9912',\n",
       "  'department': 'electronics'},\n",
       " {'message': 'Hi, my name is Jane Doecustomer.I recently ordered a car oil filter replacement, and unfortunately, the product I received wasnenot up to the mark. I purchased the item with the hope of an improved car performance, but instead, the filter leaked during my first use, which is quite distressi.The order number is A12-3456',\n",
       "  'order_number': 'A12-3456',\n",
       "  'department': 'automotive'},\n",
       " {'message': 'Hi, my name is Sarah Johnson.I recently ordered a dress from your store, and despite being excited to wear it to an upcoming event, I encountered a disappointing issue. Upon arrival, I discovered it had a significant tear along the side seam, rendering it unwearable.This is order A48-3566',\n",
       "  'order_number': 'A48-3566',\n",
       "  'department': 'clothing'},\n",
       " {'message': 'Hi, my name is Emily Smith.I recently ordered a new pair of headphones. Unfortunately, they stopped working just within a week of use. Despite several attempts to pair them with different devices, they simply won\\nt connect anymore.My order was D543210',\n",
       "  'order_number': 'D54-3210',\n",
       "  'department': 'electronics'}]"
      ]
     },
     "execution_count": 7,
     "metadata": {},
     "output_type": "execute_result"
    }
   ],
   "source": [
    "complaints = [complainer.generate_complaint() for _ in range(50)]\n",
    "complaints"
   ]
  },
  {
   "cell_type": "code",
   "execution_count": 8,
   "id": "47e06bff-bc29-4bca-926e-d7754dd3c2ef",
   "metadata": {
    "execution": {
     "iopub.execute_input": "2024-08-13T01:36:32.142169Z",
     "iopub.status.busy": "2024-08-13T01:36:32.141978Z",
     "iopub.status.idle": "2024-08-13T01:36:32.144436Z",
     "shell.execute_reply": "2024-08-13T01:36:32.144148Z",
     "shell.execute_reply.started": "2024-08-13T01:36:32.142156Z"
    }
   },
   "outputs": [],
   "source": [
    "import json\n",
    "with open(\"examples.json\", 'w') as fout:\n",
    "    fout.write(json.dumps(complaints))"
   ]
  },
  {
   "cell_type": "code",
   "execution_count": 21,
   "id": "f1489a8d-b741-437e-9fab-74ceb4f6a4b7",
   "metadata": {
    "execution": {
     "iopub.execute_input": "2024-08-13T23:06:20.226099Z",
     "iopub.status.busy": "2024-08-13T23:06:20.225108Z",
     "iopub.status.idle": "2024-08-13T23:06:20.235857Z",
     "shell.execute_reply": "2024-08-13T23:06:20.234617Z",
     "shell.execute_reply.started": "2024-08-13T23:06:20.226029Z"
    }
   },
   "outputs": [
    {
     "data": {
      "text/plain": [
       "{'message': 'Hi, my name is Olivia Brown.I recently ordered a knife set from your wellness range, and it arrived earlier this week. Unfortunately, my satisfaction with the product has been less than ideal.My order was A123456',\n",
       " 'order_number': 'A12-3456',\n",
       " 'department': 'kitchen'}"
      ]
     },
     "execution_count": 21,
     "metadata": {},
     "output_type": "execute_result"
    }
   ],
   "source": [
    "complaint_data[0]"
   ]
  }
 ],
 "metadata": {
  "kernelspec": {
   "display_name": "Python 3 (ipykernel)",
   "language": "python",
   "name": "python3"
  },
  "language_info": {
   "codemirror_mode": {
    "name": "ipython",
    "version": 3
   },
   "file_extension": ".py",
   "mimetype": "text/x-python",
   "name": "python",
   "nbconvert_exporter": "python",
   "pygments_lexer": "ipython3",
   "version": "3.10.0"
  }
 },
 "nbformat": 4,
 "nbformat_minor": 5
}
