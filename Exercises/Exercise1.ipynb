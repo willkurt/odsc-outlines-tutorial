{
 "cells": [
  {
   "cell_type": "code",
   "execution_count": 4,
   "id": "39697032-a6fe-4342-a50a-5185df3ee3ef",
   "metadata": {
    "execution": {
     "iopub.execute_input": "2024-08-13T20:45:19.755141Z",
     "iopub.status.busy": "2024-08-13T20:45:19.754230Z",
     "iopub.status.idle": "2024-08-13T20:45:19.760627Z",
     "shell.execute_reply": "2024-08-13T20:45:19.759511Z",
     "shell.execute_reply.started": "2024-08-13T20:45:19.755063Z"
    }
   },
   "outputs": [],
   "source": [
    "import json\n",
    "import outlines\n",
    "from transformers import AutoTokenizer\n",
    "import torch\n",
    "from textwrap import dedent"
   ]
  },
  {
   "cell_type": "code",
   "execution_count": 5,
   "id": "2122a8dc-c159-4f96-b52c-ea937b1e3b97",
   "metadata": {
    "execution": {
     "iopub.execute_input": "2024-08-13T20:45:20.226755Z",
     "iopub.status.busy": "2024-08-13T20:45:20.225616Z",
     "iopub.status.idle": "2024-08-13T20:45:30.654219Z",
     "shell.execute_reply": "2024-08-13T20:45:30.653833Z",
     "shell.execute_reply.started": "2024-08-13T20:45:20.226655Z"
    }
   },
   "outputs": [
    {
     "name": "stderr",
     "output_type": "stream",
     "text": [
      "`flash-attention` package not found, consider installing for better performance: No module named 'flash_attn'.\n",
      "Current `flash-attenton` does not support `window_size`. Either upgrade or use `attn_implementation='eager'`.\n"
     ]
    },
    {
     "data": {
      "application/vnd.jupyter.widget-view+json": {
       "model_id": "387725920a4a44fb9f1bae674c039a6f",
       "version_major": 2,
       "version_minor": 0
      },
      "text/plain": [
       "Loading checkpoint shards:   0%|          | 0/6 [00:00<?, ?it/s]"
      ]
     },
     "metadata": {},
     "output_type": "display_data"
    },
    {
     "name": "stderr",
     "output_type": "stream",
     "text": [
      "Special tokens have been added in the vocabulary, make sure the associated word embeddings are fine-tuned or trained.\n",
      "Special tokens have been added in the vocabulary, make sure the associated word embeddings are fine-tuned or trained.\n"
     ]
    }
   ],
   "source": [
    "model_name = \"microsoft/Phi-3-medium-4k-instruct\"\n",
    "model = outlines.models.transformers(\n",
    "    model_name,\n",
    "    model_kwargs={\n",
    "        #'torch_dtype': torch.bfloat16,\n",
    "        'trust_remote_code': True\n",
    "    })\n",
    "tokenizer = AutoTokenizer.from_pretrained(model_name)"
   ]
  },
  {
   "cell_type": "code",
   "execution_count": 6,
   "id": "4d2037fb-d172-4983-bd0d-d6d94de3c011",
   "metadata": {
    "execution": {
     "iopub.execute_input": "2024-08-13T20:45:30.655302Z",
     "iopub.status.busy": "2024-08-13T20:45:30.655131Z",
     "iopub.status.idle": "2024-08-13T20:45:30.657654Z",
     "shell.execute_reply": "2024-08-13T20:45:30.657101Z",
     "shell.execute_reply.started": "2024-08-13T20:45:30.655287Z"
    }
   },
   "outputs": [],
   "source": [
    "departments = [\"clothing\",\"electronics\",\"kitchen\",\"automotive\"]"
   ]
  },
  {
   "cell_type": "code",
   "execution_count": 7,
   "id": "02b6f274-d760-498b-a0aa-7b8369d553ab",
   "metadata": {
    "execution": {
     "iopub.execute_input": "2024-08-13T20:45:30.658287Z",
     "iopub.status.busy": "2024-08-13T20:45:30.658180Z",
     "iopub.status.idle": "2024-08-13T20:45:30.660787Z",
     "shell.execute_reply": "2024-08-13T20:45:30.660424Z",
     "shell.execute_reply.started": "2024-08-13T20:45:30.658276Z"
    }
   },
   "outputs": [],
   "source": [
    "with open(\"../examples.json\",'r') as fin:\n",
    "    complaint_data = json.loads(fin.read())"
   ]
  },
  {
   "cell_type": "code",
   "execution_count": 8,
   "id": "ecfcc770-ddff-47c1-92f9-41fb646163cd",
   "metadata": {
    "execution": {
     "iopub.execute_input": "2024-08-13T20:45:30.661975Z",
     "iopub.status.busy": "2024-08-13T20:45:30.661853Z",
     "iopub.status.idle": "2024-08-13T20:45:30.666177Z",
     "shell.execute_reply": "2024-08-13T20:45:30.665844Z",
     "shell.execute_reply.started": "2024-08-13T20:45:30.661964Z"
    }
   },
   "outputs": [
    {
     "data": {
      "text/plain": [
       "[{'message': 'Hi, my name is Olivia Brown.I recently ordered a knife set from your wellness range, and it arrived earlier this week. Unfortunately, my satisfaction with the product has been less than ideal.My order was A123456',\n",
       "  'order_number': 'A12-3456',\n",
       "  'department': 'kitchen'},\n",
       " {'message': 'Hi, my name is John Smith.I recently ordered a dress for an upcoming event, which was alleged to meet my expectations both in fit and style. However, upon arrival, it became apparent that the fabric was of subpar quality, leading to a less than satisfactory appearance.The order number is A12-3456',\n",
       "  'order_number': 'A12-3456',\n",
       "  'department': 'clothing'},\n",
       " {'message': 'Hi, my name is Sarah Johnson.I recently ordered the ultimate ChefMaster 8 Drawer Cooktop. However, upon delivery, I discovered that one of the burners is malfunctioning.My order was A458739',\n",
       "  'order_number': 'A45-8739',\n",
       "  'department': 'kitchen'},\n",
       " {'message': 'Hi, my name is Jane Doeandcommn.I recently ordered a stylish black pair of headphones from your store, and unfortunately, they failed to work on the first try. Despite troubleshooting instructions in the manual, there seems to be no response from the device.The order number is D12-3456',\n",
       "  'order_number': 'D12-3456',\n",
       "  'department': 'electronics'},\n",
       " {'message': 'Hi, my name is Sarah Collins.I recently ordered your SmartWidget, but it hasn stopped working entirely! I just purchased the RapidCharge battery pack that does not charge at all.My order was Z123456',\n",
       "  'order_number': 'Z12-3456',\n",
       "  'department': 'electronics'},\n",
       " {'message': 'Hi, my name is Sarah Johnson.I recently ordered a set of knives online, but to my disappointment, when I received them today, they had multiple issues. The hardwood handles are missing screws, making them difficult to attach securely, and there was visible damage to some of the blades, r.This is order A12-3456',\n",
       "  'order_number': 'A12-3456',\n",
       "  'department': 'kitchen'},\n",
       " {'message': 'Hi, my name is Jennifer Stevens.I recently ordered a new gaming console online, and it arrived yesterday. To my dismay, the console wonnnot power on, despite multiple attempts, and thorough reading of manual instructions.My order was A678901',\n",
       "  'order_number': 'A67-8901',\n",
       "  'department': 'electronics'},\n",
       " {'message': 'Hi, my name is Susan Rodriguez.I recently ordered a car battery from your store and encountered some issues with it.\\n\\n\\nHere are the details of my complaint, Jane Doe, with the order number 1234567890.The order number is D45-7891',\n",
       "  'order_number': 'D45-7891',\n",
       "  'department': 'automotive'},\n",
       " {'message': 'Hi, my name is Emily Taylor.I recently ordered the latest UltraWave soundbar and I am really disappointed. Upon arrival, I noticed the sound is incredibly distorted and there are frequent crackling noises.The order number is A12-3456',\n",
       "  'order_number': 'A12-3456',\n",
       "  'department': 'electronics'},\n",
       " {'message': 'Hi, my name is Alex Johnson.I recently ordered a set of knives which has sadly arrived in a much less than satisfactory condition. The handle of the chef knife cracked noticeably, and the blade has an inconsistent sharpness across its length.The order number is D21-0987',\n",
       "  'order_number': 'D21-0987',\n",
       "  'department': 'kitchen'},\n",
       " {'message': 'Hi, my name is Sarah Johnson.I recently ordered a car tire replacement kit but received a set of headlight bulbs instead. The tires I was looking forward to using for my weekend trip are still not here, and it is causing a lot of inconvenience.My order was Z482951',\n",
       "  'order_number': 'Z48-2951',\n",
       "  'department': 'automotive'},\n",
       " {'message': 'Hi, my name is Emily Scott.I recently ordered an oil change for my car and unfortunately, the quality of service was not up to par. The mechanic seemed to rush the job, leaving behind a messy garage with some tools left out, and I noticed oil dripped on my car after picking it up.This is order A12-3457',\n",
       "  'order_number': 'A12-3457',\n",
       "  'department': 'automotive'},\n",
       " {'message': 'Hi, my name is Emily Johnson.I recently ordered a high performance chef grade knife for my kitchen, and upon receiving it, I found a noticeable flaw. The handle was cracked and the blade appears dull, hardly the premium product that was promised.This is order Z81-4567',\n",
       "  'order_number': 'Z81-4567',\n",
       "  'department': 'kitchen'},\n",
       " {'message': 'Hi, my name is Sarah Thompson.I recently ordered a set of knives from your store and have encountered a serious issue upon its use. Upon the first few attempts, the blades began to show signs of corrosion, which is quite unexpected and disappointing for a new purchase.My order was D123456',\n",
       "  'order_number': 'D12-3456',\n",
       "  'department': 'kitchen'},\n",
       " {'message': 'Hi, my name is John Smith.I recently ordered a hatchback for my child at sunset\\n\\nProblem is, some accessory isn still wrapped in plastic,\\n\\nOrder No 893274. Please advise.My order was Z678901',\n",
       "  'order_number': 'Z67-8901',\n",
       "  'department': 'automotive'},\n",
       " {'message': 'Hi, my name is Jane Smith.I recently ordered a set of knives for my kitchen, but upon arrival, I noticed that one of the knives has a significant chip on the blade. This is quite troubling since it compromises the product both in terms of performance and safety.The order number is D12-3456',\n",
       "  'order_number': 'D12-3456',\n",
       "  'department': 'kitchen'},\n",
       " {'message': 'Hi, my name is Emily Richards.I recently ordered a part from your automotive collection. Upon receiving the shipment, I realized the high beam bulb I ordered is not functioning as it should.My order was A123456',\n",
       "  'order_number': 'A12-3456',\n",
       "  'department': 'automotive'},\n",
       " {'message': 'Hi, my name is Sarah Johnson.I recently ordered a cheese slicer set, and although the knife was sharp when it arrived,\\nI found that the grip is uncomfortably small, causing difficulty and pain in holding it for\\nany length of time.The order number is A12-3456',\n",
       "  'order_number': 'A12-3456',\n",
       "  'department': 'kitchen'},\n",
       " {'message': 'Hi, my name is John Carter.I recently ordered a set of dining utensils from your online store, and they arrived with several issues. The knife set, which was supposed to be a nonstick coated cutlery, showed rust spots on the blades, and the handles were misaligned, making them wobbly.This is order A12-3456',\n",
       "  'order_number': 'A12-3456',\n",
       "  'department': 'kitchen'},\n",
       " {'message': 'Hi, my name is Emily Clarke.I recently ordered a sweater for my cousin and she is extremely upset with the quality. The yarn is unraveling at the seams and the colors are already fading.The order number is D56-0073',\n",
       "  'order_number': 'D56-0073',\n",
       "  'department': 'clothing'},\n",
       " {'message': 'Hi, my name is Jordan Smith.I recently ordered the latest wireless headphones from your store, which came with high expectations. Unfortunately, upon arrival, the right side produced only static noise.The order number is A12-3456',\n",
       "  'order_number': 'A12-3456',\n",
       "  'department': 'electronics'},\n",
       " {'message': 'Hi, my name is Jessica Smith.I recently ordered a matte black steering wheel for my car, and when I received it, I noticed several scratches on the surface and one of the spoke caps was missing.This is order A12-3456',\n",
       "  'order_number': 'A12-3456',\n",
       "  'department': 'automotive'},\n",
       " {'message': 'Hi, my name is Julia Sanders.I recently ordered a product from your site, but to my dismay, the item isn t performing as expected. The device keeps losing connection, disrupting my work.My order was A123456',\n",
       "  'order_number': 'A12-3456',\n",
       "  'department': 'electronics'},\n",
       " {'message': 'Hi, my name is Sarah Johnson.I recently ordered a set of cutlery that included a variety of utensils, but I am having an issue with the main tool I received. It arrived with a flaw in the handle, making it unsafe to hold and use for its intended culinary applications.My order was Z837204',\n",
       "  'order_number': 'Z83-7204',\n",
       "  'department': 'kitchen'},\n",
       " {'message': 'Hi, my name is Emily Thompson.I recently ordered a blendable, multiuse tool from your store. However, when it arrived, it was nowhere near the expectations set by the promotional material.The order number is D12-3456',\n",
       "  'order_number': 'D12-3456',\n",
       "  'department': 'kitchen'},\n",
       " {'message': 'Hi, my name is Sarah Miller.I recently ordered a delicate blouse for a special occasion, but the fabric tore when I tried it on for the first time. It seems like poor quality material.My order was A123456',\n",
       "  'order_number': 'A12-3456',\n",
       "  'department': 'clothing'},\n",
       " {'message': 'Hi, my name is Emily Rogers.I recently ordered a tende grill pan from your store and would like to share my disappointment with the quality. The nonstick coating flakes off with every use, and cleaning the pan has become a hassle.My order was D564321',\n",
       "  'order_number': 'D56-4321',\n",
       "  'department': 'kitchen'},\n",
       " {'message': 'Hi, my name is Emily Johnson.I recently ordered a tailored blazer from your store, but upon arrival, I found the stitching coming apart. This is quite disappointing, as I was looking forward to wearing it to an upcoming event.This is order A13-4567',\n",
       "  'order_number': 'A13-4567',\n",
       "  'department': 'clothing'},\n",
       " {'message': 'Hi, my name is Emily Johnson.I recently ordered from your store and received my package on Tuesday. However, upon opening the box, I discovered that the chef knife I ordered had a hairline crack along the blade, rendering it unsafe for use.The order number is A12-3456',\n",
       "  'order_number': 'A12-3456',\n",
       "  'department': 'kitchen'},\n",
       " {'message': 'Hi, my name is Emily Jackson.I recently ordered a set of high performance tires and upon delivery, I discovered that they were not the correct size for my vehicle. This mishap has caused me a significant inconvenience.My order was A305712',\n",
       "  'order_number': 'A30-5712',\n",
       "  'department': 'automotive'},\n",
       " {'message': 'Hi, my name is John Smith.I recently ordered a Bluetooth speaker, but unfortunately, the left side produces no sound. It seems to be a fault with the audio component.The order number is A12-3456',\n",
       "  'order_number': 'A12-3456',\n",
       "  'department': 'electronics'},\n",
       " {'message': 'Hi, my name is Sarah Peterson.I recently ordered a car seat from your website. The strap system feels unsecure and I worry about the safety of the product. I would appreciate your prompt assistance in resolving this issue.This is order A12-3456',\n",
       "  'order_number': 'A12-3456',\n",
       "  'department': 'automotive'},\n",
       " {'message': 'Hi, my name is Andrew Marshall.I recently ordered a set of high carbon steel kitchen knives through your online store. Upon initial use, I discovered that the serrated bread knife I got in the set has a noticeably uneven blade edge, rendering it ineffective and dangerous to use.The order number is Z37-5921',\n",
       "  'order_number': 'Z37-5921',\n",
       "  'department': 'kitchen'},\n",
       " {'message': 'Hi, my name is Susan Johnson.I recently ordered a dress from your online store, but unfortunately, it arrived with a significant tear along the seam. The dress is now unwearable.The order number is A12-3456',\n",
       "  'order_number': 'A12-3456',\n",
       "  'department': 'clothing'},\n",
       " {'message': 'Hi, my name is Sarah Johnson.I recently ordered a set of chef knives from your store and I am deeply disappointed with my purchase. Upon usage, I noticed that the handles felt unusually slippery and unsafe to hold, leading to a few close calls.The order number is A65-7891',\n",
       "  'order_number': 'A65-7891',\n",
       "  'department': 'kitchen'},\n",
       " {'message': 'Hi, my name is Sarah Johnson.I recently ordered a set of 8 high carbon steel knives for my new home cooking ventures. However, upon delivery, I noticed that the handle of one of the knives had a significant crack along the spine, compromising its integrity and safety.My order was Z000000',\n",
       "  'order_number': 'Z00-0000',\n",
       "  'department': 'kitchen'},\n",
       " {'message': 'Hi, my name is John Doeandrecei.I recently ordered a set of tires, but there was a mismatch in the size. The arrangement paid for and the items delivered just donen. Please assist!\\nOrder no.The order number is A12-3456',\n",
       "  'order_number': 'A12-3456',\n",
       "  'department': 'automotive'},\n",
       " {'message': 'Hi, my name is John Smith.I recently ordered a gadget with the order number 567812. Upon its arrival, I was eager to explore its features, but to my dismay, it stopped functioning properly within days.The order number is A78-1462',\n",
       "  'order_number': 'A78-1462',\n",
       "  'department': 'electronics'},\n",
       " {'message': 'Hi, my name is Sarah Gonzalez.I recently ordered a product for my vehicle, and it seems to be faulty. The item in question, a branded tire, has already worn unevenly after just a single use.The order number is A12-3456',\n",
       "  'order_number': 'A12-3456',\n",
       "  'department': 'automotive'},\n",
       " {'message': 'Hi, my name is Sarah Connor.I recently ordered a dress from your online store, and unfortunately, I have been having a few issues with it. Firstly, the color of the dress differs significantly from what was shown on your website.My order was Z453921',\n",
       "  'order_number': 'Z45-3921',\n",
       "  'department': 'clothing'},\n",
       " {'message': 'Hi, my name is Sarah Patterson.I recently ordered a set of premium tires for my car, and upon delivery, I noticed that one of the tires had a visible bulge along the sidewall.The order number is A12-3456',\n",
       "  'order_number': 'A12-3456',\n",
       "  'department': 'automotive'},\n",
       " {'message': 'Hi, my name is Laura Smith.I recently ordered a wireless charger for my car from your store. Not only did it arrive late, but it also isnif handled properly during shipping.My order was A123456',\n",
       "  'order_number': 'A12-3456',\n",
       "  'department': 'automotive'},\n",
       " {'message': 'Hi, my name is John Smith.I recently ordered a new smartphone from your online store, and I am incredibly disappointed with the product I received. The device has already encountered multiple glitches, including an unresponsive touchscreen and frequent crashes.My order was A123456',\n",
       "  'order_number': 'A12-3456',\n",
       "  'department': 'electronics'},\n",
       " {'message': 'Hi, my name is Grace Johnson.I recently ordered a new shirt from your website, but when it arrived, I found that the color was entirely different from what was depicted on the site.The order number is A12-3456',\n",
       "  'order_number': 'A12-3456',\n",
       "  'department': 'clothing'},\n",
       " {'message': 'Hi, my name is Jack Reacher.I recently ordered a premium set of knives last month for my catering startup, but to my dismay, the knives delivered are nowhere near the quality advertised.My order was A123456',\n",
       "  'order_number': 'A12-3456',\n",
       "  'department': 'kitchen'},\n",
       " {'message': 'Hi, my name is Jessica Williams.I recently ordered a gift for my sister and eagerly awaited its arrival. Upon opening the package, however, I was disappointed to find that the red silk dress had a noticeable tear along the seam.This is order A68-7091',\n",
       "  'order_number': 'A68-7091',\n",
       "  'department': 'clothing'},\n",
       " {'message': 'Hi, my name is Sarah Patterson.I recently ordered a SurgePro 4K gaming monitor for my desk setup, and there are persistent display issues. When I first received the item, I noticed sparkles on the screen whenever I adjust the brightness settings.My order was D839912',\n",
       "  'order_number': 'D83-9912',\n",
       "  'department': 'electronics'},\n",
       " {'message': 'Hi, my name is Jane Doecustomer.I recently ordered a car oil filter replacement, and unfortunately, the product I received wasnenot up to the mark. I purchased the item with the hope of an improved car performance, but instead, the filter leaked during my first use, which is quite distressi.The order number is A12-3456',\n",
       "  'order_number': 'A12-3456',\n",
       "  'department': 'automotive'},\n",
       " {'message': 'Hi, my name is Sarah Johnson.I recently ordered a dress from your store, and despite being excited to wear it to an upcoming event, I encountered a disappointing issue. Upon arrival, I discovered it had a significant tear along the side seam, rendering it unwearable.This is order A48-3566',\n",
       "  'order_number': 'A48-3566',\n",
       "  'department': 'clothing'},\n",
       " {'message': 'Hi, my name is Emily Smith.I recently ordered a new pair of headphones. Unfortunately, they stopped working just within a week of use. Despite several attempts to pair them with different devices, they simply won\\nt connect anymore.My order was D543210',\n",
       "  'order_number': 'D54-3210',\n",
       "  'department': 'electronics'}]"
      ]
     },
     "execution_count": 8,
     "metadata": {},
     "output_type": "execute_result"
    }
   ],
   "source": [
    "complaint_data"
   ]
  },
  {
   "cell_type": "code",
   "execution_count": 9,
   "id": "328bc75b-5e9e-488c-9715-9e40f8f61146",
   "metadata": {
    "execution": {
     "iopub.execute_input": "2024-08-13T20:45:30.667013Z",
     "iopub.status.busy": "2024-08-13T20:45:30.666816Z",
     "iopub.status.idle": "2024-08-13T20:45:30.669666Z",
     "shell.execute_reply": "2024-08-13T20:45:30.669389Z",
     "shell.execute_reply.started": "2024-08-13T20:45:30.667001Z"
    }
   },
   "outputs": [],
   "source": [
    "def create_prompt(complaint):\n",
    "    prompt_messages = [{\n",
    "        \"role\": \"user\",\n",
    "        \"content\": dedent(\"\"\"\n",
    "        I'm going to provide you with a consumer complaint to analyze.\n",
    "        The complaint is going to be regarding a product from one of our\n",
    "        departments. Here is the list of departments:\n",
    "            - \"clothing\"\n",
    "            - \"electronics\"\n",
    "            - \"kitchen\"\n",
    "            - \"automotive\"\n",
    "        Please reply with *only* the name of the department.\n",
    "        \"\"\")\n",
    "    },{\n",
    "        \"role\": \"assistant\",\n",
    "        \"content\": \"I understand and will only answer with the department name\"\n",
    "    },{\n",
    "        \"role\": \"user\",\n",
    "        \"content\": f\"Great! Here is the complaint: {complaint['message']}\"\n",
    "    }\n",
    "                       \n",
    "                      ]\n",
    "    prompt = tokenizer.apply_chat_template(prompt_messages, tokenize=False)\n",
    "    return prompt"
   ]
  },
  {
   "cell_type": "code",
   "execution_count": 10,
   "id": "2aa2cda2-fb64-4b77-9361-b00528322874",
   "metadata": {
    "execution": {
     "iopub.execute_input": "2024-08-13T20:45:30.670288Z",
     "iopub.status.busy": "2024-08-13T20:45:30.670156Z",
     "iopub.status.idle": "2024-08-13T20:45:30.680269Z",
     "shell.execute_reply": "2024-08-13T20:45:30.680019Z",
     "shell.execute_reply.started": "2024-08-13T20:45:30.670279Z"
    }
   },
   "outputs": [
    {
     "data": {
      "text/plain": [
       "'<|user|>\\n\\nI\\'m going to provide you with a consumer complaint to analyze.\\nThe complaint is going to be regarding a product from one of our\\ndepartments. Here is the list of departments:\\n    - \"clothing\"\\n    - \"electronics\"\\n    - \"kitchen\"\\n    - \"automotive\"\\nPlease reply with *only* the name of the department.\\n<|end|>\\n<|assistant|>\\nI understand and will only answer with the department name<|end|>\\n<|user|>\\nGreat! Here is the complaint: Hi, my name is Olivia Brown.I recently ordered a knife set from your wellness range, and it arrived earlier this week. Unfortunately, my satisfaction with the product has been less than ideal.My order was A123456<|end|>\\n<|assistant|>\\n'"
      ]
     },
     "execution_count": 10,
     "metadata": {},
     "output_type": "execute_result"
    }
   ],
   "source": [
    "create_prompt(complaint_data[0])"
   ]
  },
  {
   "cell_type": "markdown",
   "id": "8a4f375d-f8a9-4b82-883b-ba42714136cf",
   "metadata": {},
   "source": [
    "## Unstructured Generation"
   ]
  },
  {
   "cell_type": "code",
   "execution_count": 11,
   "id": "957a0b08-5198-4c3e-9ab7-ffc3b816eee8",
   "metadata": {
    "execution": {
     "iopub.execute_input": "2024-08-13T20:45:30.680828Z",
     "iopub.status.busy": "2024-08-13T20:45:30.680723Z",
     "iopub.status.idle": "2024-08-13T20:45:31.665779Z",
     "shell.execute_reply": "2024-08-13T20:45:31.665402Z",
     "shell.execute_reply.started": "2024-08-13T20:45:30.680817Z"
    }
   },
   "outputs": [],
   "source": [
    "generator = outlines.generate.text(model)"
   ]
  },
  {
   "cell_type": "code",
   "execution_count": 12,
   "id": "4e445702-41e8-41b6-8341-dd86231d3f6c",
   "metadata": {
    "execution": {
     "iopub.execute_input": "2024-08-13T20:45:33.561194Z",
     "iopub.status.busy": "2024-08-13T20:45:33.560794Z",
     "iopub.status.idle": "2024-08-13T20:48:21.783013Z",
     "shell.execute_reply": "2024-08-13T20:48:21.782668Z",
     "shell.execute_reply.started": "2024-08-13T20:45:33.561166Z"
    }
   },
   "outputs": [
    {
     "name": "stderr",
     "output_type": "stream",
     "text": [
      "You are not running the flash-attention implementation, expect numerical differences.\n"
     ]
    },
    {
     "name": "stdout",
     "output_type": "stream",
     "text": [
      "LLM: kitchen After analyzing the complaint, I' Actual: kitchen\n",
      "LLM: clothing clothing clothing Actual: clothing\n",
      "LLM: The department name is \"kitchen\" Thank you Actual: kitchen\n",
      "LLM: electronics The information provided in the consumer complaint Actual: electronics\n",
      "LLM: electronics Thank you for providing the details of your Actual: electronics\n",
      "LLM: kitchen To further address Sarah Johnson's concern about Actual: kitchen\n",
      "LLM: electronics Based on the consumer complaint provided by Actual: electronics\n",
      "LLM: automotive To address this complaint thoroughly, Actual: automotive\n",
      "LLM: electronics Upon analyzing the complaint, it Actual: electronics\n",
      "LLM: The complaint is related to a product in the \"k Actual: kitchen\n"
     ]
    }
   ],
   "source": [
    "for complaint in complaint_data[0:10]:\n",
    "    prompt = create_prompt(complaint)\n",
    "    result = generator(prompt, max_tokens=12)\n",
    "    print(f\"LLM: {result} Actual: {complaint['department']}\")"
   ]
  },
  {
   "cell_type": "markdown",
   "id": "09afce2f-bd36-4750-802b-a6200c51e47b",
   "metadata": {},
   "source": [
    "Too much yapping! This is not reliable for a real world system!\n",
    "\n",
    "## Structured Generation"
   ]
  },
  {
   "cell_type": "code",
   "execution_count": 10,
   "id": "0c6db5ce-035c-46ae-a849-4ed4b6d2016b",
   "metadata": {
    "execution": {
     "iopub.execute_input": "2024-08-12T22:37:47.806093Z",
     "iopub.status.busy": "2024-08-12T22:37:47.806001Z",
     "iopub.status.idle": "2024-08-12T22:37:47.808297Z",
     "shell.execute_reply": "2024-08-12T22:37:47.807744Z",
     "shell.execute_reply.started": "2024-08-12T22:37:47.806084Z"
    }
   },
   "outputs": [],
   "source": [
    "# TODO: Replace this with correct use of outlines.generate.choice\n",
    "generator_struct = None\n"
   ]
  },
  {
   "cell_type": "code",
   "execution_count": 11,
   "id": "8cc1682f-ce41-4136-ad17-f0dea4c4e3cd",
   "metadata": {
    "execution": {
     "iopub.execute_input": "2024-08-12T22:37:47.809256Z",
     "iopub.status.busy": "2024-08-12T22:37:47.809069Z",
     "iopub.status.idle": "2024-08-12T22:37:47.921015Z",
     "shell.execute_reply": "2024-08-12T22:37:47.920365Z",
     "shell.execute_reply.started": "2024-08-12T22:37:47.809227Z"
    }
   },
   "outputs": [
    {
     "ename": "TypeError",
     "evalue": "'NoneType' object is not callable",
     "output_type": "error",
     "traceback": [
      "\u001b[0;31m---------------------------------------------------------------------------\u001b[0m",
      "\u001b[0;31mTypeError\u001b[0m                                 Traceback (most recent call last)",
      "Cell \u001b[0;32mIn[11], line 3\u001b[0m\n\u001b[1;32m      1\u001b[0m \u001b[38;5;28;01mfor\u001b[39;00m complaint \u001b[38;5;129;01min\u001b[39;00m complaint_data:\n\u001b[1;32m      2\u001b[0m     prompt \u001b[38;5;241m=\u001b[39m create_prompt(complaint)\n\u001b[0;32m----> 3\u001b[0m     result \u001b[38;5;241m=\u001b[39m \u001b[43mgenerator_struct\u001b[49m\u001b[43m(\u001b[49m\u001b[43mprompt\u001b[49m\u001b[43m,\u001b[49m\u001b[43m \u001b[49m\u001b[43mmax_tokens\u001b[49m\u001b[38;5;241;43m=\u001b[39;49m\u001b[38;5;241;43m12\u001b[39;49m\u001b[43m)\u001b[49m\n\u001b[1;32m      4\u001b[0m     \u001b[38;5;28mprint\u001b[39m(\u001b[38;5;124mf\u001b[39m\u001b[38;5;124m\"\u001b[39m\u001b[38;5;124mLLM: \u001b[39m\u001b[38;5;132;01m{\u001b[39;00mresult\u001b[38;5;132;01m}\u001b[39;00m\u001b[38;5;124m Actual: \u001b[39m\u001b[38;5;132;01m{\u001b[39;00mcomplaint[\u001b[38;5;124m'\u001b[39m\u001b[38;5;124mdepartment\u001b[39m\u001b[38;5;124m'\u001b[39m]\u001b[38;5;132;01m}\u001b[39;00m\u001b[38;5;124m\"\u001b[39m)\n",
      "\u001b[0;31mTypeError\u001b[0m: 'NoneType' object is not callable"
     ]
    }
   ],
   "source": [
    "for complaint in complaint_data[0:10]:\n",
    "    prompt = create_prompt(complaint)\n",
    "    result = generator_struct(prompt, max_tokens=12)\n",
    "    print(f\"LLM: {result} Actual: {complaint['department']}\")"
   ]
  }
 ],
 "metadata": {
  "kernelspec": {
   "display_name": "Python 3 (ipykernel)",
   "language": "python",
   "name": "python3"
  },
  "language_info": {
   "codemirror_mode": {
    "name": "ipython",
    "version": 3
   },
   "file_extension": ".py",
   "mimetype": "text/x-python",
   "name": "python",
   "nbconvert_exporter": "python",
   "pygments_lexer": "ipython3",
   "version": "3.10.0"
  }
 },
 "nbformat": 4,
 "nbformat_minor": 5
}
