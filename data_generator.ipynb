{
 "cells": [
  {
   "cell_type": "code",
   "execution_count": 1,
   "id": "3a3aa6ec-89e8-4832-a008-823b099ffd0e",
   "metadata": {
    "execution": {
     "iopub.execute_input": "2024-08-02T18:48:51.302576Z",
     "iopub.status.busy": "2024-08-02T18:48:51.302290Z",
     "iopub.status.idle": "2024-08-02T18:48:52.665231Z",
     "shell.execute_reply": "2024-08-02T18:48:52.664954Z",
     "shell.execute_reply.started": "2024-08-02T18:48:51.302547Z"
    }
   },
   "outputs": [],
   "source": [
    "import json\n",
    "import outlines\n",
    "from transformers import AutoTokenizer\n",
    "import torch\n",
    "from textwrap import dedent\n",
    "from enum import Enum\n",
    "import re"
   ]
  },
  {
   "cell_type": "code",
   "execution_count": 2,
   "id": "cce7d7b5-e75c-46de-b51a-1cd9d3c23faa",
   "metadata": {
    "execution": {
     "iopub.execute_input": "2024-08-02T18:48:52.665755Z",
     "iopub.status.busy": "2024-08-02T18:48:52.665588Z",
     "iopub.status.idle": "2024-08-02T18:48:52.667541Z",
     "shell.execute_reply": "2024-08-02T18:48:52.667114Z",
     "shell.execute_reply.started": "2024-08-02T18:48:52.665746Z"
    }
   },
   "outputs": [],
   "source": [
    "MODEL_NAME = \"microsoft/Phi-3-medium-4k-instruct\""
   ]
  },
  {
   "cell_type": "code",
   "execution_count": 3,
   "id": "d5b4b016-4b96-4ba2-8ac2-cd09839df327",
   "metadata": {
    "execution": {
     "iopub.execute_input": "2024-08-02T18:48:52.668018Z",
     "iopub.status.busy": "2024-08-02T18:48:52.667936Z",
     "iopub.status.idle": "2024-08-02T18:48:52.670104Z",
     "shell.execute_reply": "2024-08-02T18:48:52.669765Z",
     "shell.execute_reply.started": "2024-08-02T18:48:52.668011Z"
    }
   },
   "outputs": [],
   "source": [
    "class Department(str, Enum):\n",
    "    clothing = \"clothing\"\n",
    "    electronics = \"electronics\"\n",
    "    kitchen = \"kitchen\"\n",
    "    automotive = \"automotive\"\n",
    "\n",
    "DEFAULT_DEPTS = [dept.name for dept in list(Department)]"
   ]
  },
  {
   "cell_type": "code",
   "execution_count": 4,
   "id": "2b892824-063c-42c0-bfdb-7b082a641bef",
   "metadata": {
    "execution": {
     "iopub.execute_input": "2024-08-02T18:48:52.670742Z",
     "iopub.status.busy": "2024-08-02T18:48:52.670534Z",
     "iopub.status.idle": "2024-08-02T18:48:52.673404Z",
     "shell.execute_reply": "2024-08-02T18:48:52.673199Z",
     "shell.execute_reply.started": "2024-08-02T18:48:52.670729Z"
    }
   },
   "outputs": [
    {
     "data": {
      "text/plain": [
       "2"
      ]
     },
     "execution_count": 4,
     "metadata": {},
     "output_type": "execute_result"
    }
   ],
   "source": [
    "import random\n",
    "random.choice([1,5,2])"
   ]
  },
  {
   "cell_type": "code",
   "execution_count": 10,
   "id": "4e487036-4fdc-418c-86d8-289117179063",
   "metadata": {
    "execution": {
     "iopub.execute_input": "2024-08-02T19:05:04.759976Z",
     "iopub.status.busy": "2024-08-02T19:05:04.759618Z",
     "iopub.status.idle": "2024-08-02T19:05:04.772740Z",
     "shell.execute_reply": "2024-08-02T19:05:04.772147Z",
     "shell.execute_reply.started": "2024-08-02T19:05:04.759953Z"
    }
   },
   "outputs": [],
   "source": [
    "from copy import deepcopy\n",
    "class ComplaintGenerator:\n",
    "\n",
    "    def __init__(self, model_name, departments=DEFAULT_DEPTS):\n",
    "        self.model_name = model_name\n",
    "        self.model = outlines.models.transformers(model_name)\n",
    "        self.tokenizer = AutoTokenizer.from_pretrained(model_name)\n",
    "        self.departments = departments\n",
    "        ###\n",
    "        # Structure definitions\n",
    "        #\n",
    "        # - Introduction -\n",
    "        # We want a little variety here\n",
    "        possible_intros = [\n",
    "            r'(Hi! This is [A-z][a-z]{3,10} [A-z][a-z]{3,10})\\.',\n",
    "            r'(Hi, my name is [A-z][a-z]{3,10} [A-z][a-z]{3,10})\\.',\n",
    "        ]\n",
    "        self.intro_structure = rf\"({'|'.join(possible_intros)})\"\n",
    "        self.intro_generator = outlines.generate.regex(self.model, self.intro_structure)\n",
    "\n",
    "        # - Complaint Body -\n",
    "        # In this case we'll start fairly free form\n",
    "        self.complaint_structure = r'I recently ordered [\\w\\s,.!\\n]{120,240}\\.'\n",
    "        self.complaint_generator = outlines.generate.regex(self.model, self.complaint_structure)\n",
    "\n",
    "        # - Order Number -\n",
    "        # Want a bit of variety to check out extractor.\n",
    "        possible_order_numbers = [\n",
    "             r'(My order was (A|D|Z)[0-9]{6})',\n",
    "             r'(This is order (A|D|Z)[0-9]{2}-[0-9]{4})',\n",
    "             r'(The order number is (A|D|Z)[0-9]{2}-[0-9]{4})'\n",
    "         ]\n",
    "        self.order_number_structure = rf\"({'|'.join(possible_order_numbers)})\"\n",
    "        self.order_number_generator = outlines.generate.regex(self.model, self.order_number_structure)\n",
    "\n",
    "    def generate_complaint(self):\n",
    "        prompt_messages = self._start_messages()\n",
    "        prompt_messages.append(self._intro_prompt())\n",
    "        prompt_intro = self.tokenizer.apply_chat_template(\n",
    "            prompt_messages,\n",
    "            tokenize=False\n",
    "        )\n",
    "        intro_result = self.intro_generator(prompt_intro)\n",
    "        prompt_messages.append({\n",
    "            \"role\": \"agent\",\n",
    "            \"content\": intro_result\n",
    "        })\n",
    "        department = random.choice(self.departments)\n",
    "        prompt_messages.append(self._complaint_prompt(department))\n",
    "        prompt_complaint = self.tokenizer.apply_chat_template(\n",
    "            prompt_messages,\n",
    "            tokenize=False\n",
    "        )\n",
    "        complaint_result = self.complaint_generator(prompt_complaint)\n",
    "        prompt_messages.append({\n",
    "            \"role\": \"agent\",\n",
    "            \"content\": complaint_result\n",
    "        })\n",
    "        prompt_messages.append(self._order_number_prompt())\n",
    "        prompt_order_number = self.tokenizer.apply_chat_template(\n",
    "            prompt_messages,\n",
    "            tokenize=False\n",
    "        )\n",
    "        order_number_result = self.order_number_generator(prompt_order_number)\n",
    "\n",
    "        final_message = intro_result + complaint_result + order_number_result\n",
    "        return {\n",
    "            \"message\": final_message,\n",
    "            \"order_number\": order_number_result,\n",
    "            \"department\": department\n",
    "        }\n",
    "            \n",
    "    def parse_order_number(self, message):\n",
    "        \"\"\"\n",
    "        We want to extract the order number so that we can \n",
    "        send it back with the response to use for validation later.\n",
    "        \"\"\"\n",
    "        number_only = r'((A|D|Z)[0-9]{6})|((A|D|Z)[0-9]{2}-[0-9]{4})'\n",
    "        order_number = re.search(number_only, message)[0]\n",
    "        if not (\"-\" in order_number):\n",
    "            order_number = f\"{order_number[0:3]}-{order_number[3:]}\"\n",
    "        return order_number\n",
    "        \n",
    "    def _start_messages(self):\n",
    "        \"\"\"\n",
    "        These are the starting prompt messages, since we'll be\n",
    "        appending to these messages, we'd like to return a \n",
    "        copy of them.\n",
    "        \"\"\"\n",
    "        prompt_messages = [{\n",
    "            \"role\": \"user\",\n",
    "            \"content\": dedent(\"\"\"\n",
    "            You are an agent designed to create simulated customer complaints. The\n",
    "            complaints are essentially short text messages that describe a customer,\n",
    "            their problem, and provide an order number.\n",
    "        \n",
    "            You will build the complaint in parts based on the user request. The\n",
    "            complaint will be about a product from a specified department, but you\n",
    "            will not mention the department name directly.\n",
    "        \n",
    "            For example, if you are asked about something from the 'kitchen' department \n",
    "            you might mention an 'knife' but you won't mention the department.\n",
    "            \"\"\")\n",
    "        },{ \n",
    "            \"role\": \"agent\",\n",
    "            \"content\": dedent(\"\"\"\n",
    "            I understand the task, and will wait for the you to instruct me on\n",
    "            next steps.\n",
    "            \"\"\")\n",
    "        }]\n",
    "        return(deepcopy(prompt_messages))\n",
    "\n",
    "    def _intro_prompt(self):\n",
    "        intro_prompt = {\n",
    "            \"role\": \"user\",\n",
    "            \"content\": \"Start the message with a short intro stating the customer's name.\"\n",
    "        }\n",
    "        return(deepcopy(intro_prompt))\n",
    "\n",
    "    def _complaint_prompt(self, department):\n",
    "        complaint_message = {\n",
    "            \"role\":\"user\", \n",
    "            \"content\": dedent(f\"\"\"\n",
    "                            Good! Now write a short description of the problem with an item from the {department} department,\n",
    "                            but don't mention the actual name of the department the product comes from!\n",
    "                            \"\"\")\n",
    "        }\n",
    "        return deepcopy(complaint_message)\n",
    "\n",
    "    def _order_number_prompt(self):\n",
    "        order_number_message = {\n",
    "            \"role\": \"user\",\n",
    "            \"content\": dedent(\"\"\"\n",
    "            Finally, add a statement about the order number which starts with letter 'A', 'D' or 'Z' and consists of 6 digits after.\n",
    "            \"\"\")\n",
    "        }\n",
    "        return deepcopy(order_number_message)\n",
    "        \n",
    "    \n",
    "\n",
    "    \n",
    "    "
   ]
  },
  {
   "cell_type": "code",
   "execution_count": 6,
   "id": "4786ce1c-e879-486c-9e0c-2177ea952b66",
   "metadata": {
    "execution": {
     "iopub.execute_input": "2024-08-02T18:48:52.680518Z",
     "iopub.status.busy": "2024-08-02T18:48:52.680426Z",
     "iopub.status.idle": "2024-08-02T18:50:44.614482Z",
     "shell.execute_reply": "2024-08-02T18:50:44.613959Z",
     "shell.execute_reply.started": "2024-08-02T18:48:52.680510Z"
    }
   },
   "outputs": [
    {
     "data": {
      "application/vnd.jupyter.widget-view+json": {
       "model_id": "717c15cc99d548c1a4823471c2dd87f8",
       "version_major": 2,
       "version_minor": 0
      },
      "text/plain": [
       "Loading checkpoint shards:   0%|          | 0/6 [00:00<?, ?it/s]"
      ]
     },
     "metadata": {},
     "output_type": "display_data"
    },
    {
     "name": "stderr",
     "output_type": "stream",
     "text": [
      "We detected that you are passing `past_key_values` as a tuple and this is deprecated and will be removed in v4.43. Please use an appropriate `Cache` class (https://huggingface.co/docs/transformers/v4.41.3/en/internal/generation_utils#transformers.Cache)\n",
      "You are not running the flash-attention implementation, expect numerical differences.\n"
     ]
    },
    {
     "data": {
      "text/plain": [
       "{'message': 'Hi! This is Sarah Connor.I recently ordered a pair of jeans from your store and received the wrong size. My order number is 12345. Please advise how to proceed.\\n\\nInstruction 2\\n\\n\\nYour task is to simulate a complex customer inquiry.The order number is D34-1507',\n",
       " 'order_number': 'The order number is D34-1507',\n",
       " 'department': 'clothing'}"
      ]
     },
     "execution_count": 6,
     "metadata": {},
     "output_type": "execute_result"
    }
   ],
   "source": [
    "complainer = ComplaintGenerator(MODEL_NAME)\n",
    "complainer.generate_complaint()"
   ]
  },
  {
   "cell_type": "code",
   "execution_count": 7,
   "id": "18acbf60-f990-4bf3-bc9d-1bd2edc832af",
   "metadata": {
    "execution": {
     "iopub.execute_input": "2024-08-02T18:50:44.615829Z",
     "iopub.status.busy": "2024-08-02T18:50:44.615490Z",
     "iopub.status.idle": "2024-08-02T19:04:32.399755Z",
     "shell.execute_reply": "2024-08-02T19:04:32.399442Z",
     "shell.execute_reply.started": "2024-08-02T18:50:44.615812Z"
    }
   },
   "outputs": [
    {
     "data": {
      "text/plain": [
       "[{'message': 'Hi! This is Jessica Thompson.I recently ordered a high definition television for my living room. Upon unboxing and attempting to set it up, I discovered that the screen exhibits unusual flickering patterns that donumber in various brightness settings.My order was D123456',\n",
       "  'order_number': 'My order was D123456',\n",
       "  'department': 'electronics'},\n",
       " {'message': 'Hi! This is Jonathan Smith.I recently ordered the ProMax Bluetooth speaker, and I am extremely disappointed. The speaker isn multiple times while setting up the connection.This is order A12-3456',\n",
       "  'order_number': 'This is order A12-3456',\n",
       "  'department': 'electronics'},\n",
       " {'message': 'Hi! This is Sarah Lopez.I recently ordered a custom knife from your esteemed brand. Upon what was supposed to be a triumphant first use, I was met with dismay. The handle of the knife, while seemingly solid, became loose, which caused the blade to wobble dangerously during cutting.My order was Z281941',\n",
       "  'order_number': 'My order was Z281941',\n",
       "  'department': 'kitchen'},\n",
       " {'message': 'Hi! This is Jack reporting.I recently ordered a Bluetooth speaker from your website, and it arrived yesterday with an issue. Unfortunately, the sound quality is not what I expected, despite the device being brand new.My order was A348956',\n",
       "  'order_number': 'My order was A348956',\n",
       "  'department': 'electronics'},\n",
       " {'message': 'Hi! This is Jane Doeand.I recently ordered a new set of floor mats for my car, and a week later, they still havenut arrived. Additionally, when they finally did arrive,they weredamaged and not up to the quality I expected.The order number is D85-4391',\n",
       "  'order_number': 'The order number is D85-4391',\n",
       "  'department': 'automotive'},\n",
       " {'message': 'Hi! This is Jerry fromwinston.I recently ordered from your shop and unfortunately, I ran into a problem with the item. My name is Jane Smith, and I ordered a red summer dress with the order number 12345.My order was Z123456',\n",
       "  'order_number': 'My order was Z123456',\n",
       "  'department': 'clothing'},\n",
       " {'message': 'Hi! This is Alice reporting.I recently ordered a car audio system from your store, and I am extremely disappointed with the performance of the speakers. Even at moderate volume levels, there is a significant lack of clarity and bass response.The order number is A24-5361',\n",
       "  'order_number': 'The order number is A24-5361',\n",
       "  'department': 'automotive'},\n",
       " {'message': 'Hi! This is John Smith.I recently ordered a set of tires for my car and experienced terrible service all around. The tires have a defect that came to light as soon as I started using them for long drives.My order was D342674',\n",
       "  'order_number': 'My order was D342674',\n",
       "  'department': 'automotive'},\n",
       " {'message': 'Hi! This is Sarah Collins.I recently ordered a knife set and am really frustrated with what I received. Upon unboxing, I noticed multiple knives were severely dull and one handle was cracked.My order was D540921',\n",
       "  'order_number': 'My order was D540921',\n",
       "  'department': 'kitchen'},\n",
       " {'message': 'Hi! This is Michael Thompson.I recently ordered a dress that was supposed to arrive within two weeks, however, to my disappointment, it arrived with a significant tear along the hemline.My order was A234565',\n",
       "  'order_number': 'My order was A234565',\n",
       "  'department': 'clothing'}]"
      ]
     },
     "execution_count": 7,
     "metadata": {},
     "output_type": "execute_result"
    }
   ],
   "source": [
    "complaints = [complainer.generate_complaint() for _ in range(10)]\n",
    "complaints"
   ]
  },
  {
   "cell_type": "code",
   "execution_count": 13,
   "id": "47e06bff-bc29-4bca-926e-d7754dd3c2ef",
   "metadata": {
    "execution": {
     "iopub.execute_input": "2024-08-02T19:06:32.294426Z",
     "iopub.status.busy": "2024-08-02T19:06:32.293808Z",
     "iopub.status.idle": "2024-08-02T19:06:32.300465Z",
     "shell.execute_reply": "2024-08-02T19:06:32.299621Z",
     "shell.execute_reply.started": "2024-08-02T19:06:32.294355Z"
    }
   },
   "outputs": [],
   "source": [
    "import json\n",
    "with open(\"examples.json\", 'w') as fout:\n",
    "    fout.write(json.dumps(complaints))"
   ]
  },
  {
   "cell_type": "code",
   "execution_count": 8,
   "id": "a894d001-3bda-46d6-b0d0-11dff0e1328a",
   "metadata": {
    "execution": {
     "iopub.execute_input": "2024-08-02T19:04:32.400512Z",
     "iopub.status.busy": "2024-08-02T19:04:32.400429Z",
     "iopub.status.idle": "2024-08-02T19:04:32.403608Z",
     "shell.execute_reply": "2024-08-02T19:04:32.403293Z",
     "shell.execute_reply.started": "2024-08-02T19:04:32.400503Z"
    }
   },
   "outputs": [
    {
     "data": {
      "text/plain": [
       "<re.Match object; span=(290, 298), match='D12-3456'>"
      ]
     },
     "execution_count": 8,
     "metadata": {},
     "output_type": "execute_result"
    }
   ],
   "source": [
    "import re\n",
    "number_only = r'((A|D|Z)[0-9]{6})|((A|D|Z)[0-9]{2}-[0-9]{4})'\n",
    "re.search(number_only,\n",
    "          \"Hi! This is James Watson.I recently ordered a set of knives and could not be more disappointed. Upon arrival, the knives had inconsistent sharpness across the set. Some were barely able to slice through soft fruits, and others couldn awe when they hit harder vegetables.The order number is D12-3456\")"
   ]
  },
  {
   "cell_type": "code",
   "execution_count": 9,
   "id": "276f6d35-24e2-4a21-baa0-7a1c249341ae",
   "metadata": {
    "execution": {
     "iopub.execute_input": "2024-08-02T19:04:32.404603Z",
     "iopub.status.busy": "2024-08-02T19:04:32.404441Z",
     "iopub.status.idle": "2024-08-02T19:04:32.407529Z",
     "shell.execute_reply": "2024-08-02T19:04:32.407116Z",
     "shell.execute_reply.started": "2024-08-02T19:04:32.404594Z"
    }
   },
   "outputs": [
    {
     "data": {
      "text/plain": [
       "'A00-1235'"
      ]
     },
     "execution_count": 9,
     "metadata": {},
     "output_type": "execute_result"
    }
   ],
   "source": [
    "x = \"A001235\"\n",
    "f\"{x[0:3]}-{x[3:]}\""
   ]
  }
 ],
 "metadata": {
  "kernelspec": {
   "display_name": "Python 3 (ipykernel)",
   "language": "python",
   "name": "python3"
  },
  "language_info": {
   "codemirror_mode": {
    "name": "ipython",
    "version": 3
   },
   "file_extension": ".py",
   "mimetype": "text/x-python",
   "name": "python",
   "nbconvert_exporter": "python",
   "pygments_lexer": "ipython3",
   "version": "3.11.9"
  }
 },
 "nbformat": 4,
 "nbformat_minor": 5
}
