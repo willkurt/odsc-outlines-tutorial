{
 "cells": [
  {
   "cell_type": "code",
   "execution_count": 1,
   "id": "3a3aa6ec-89e8-4832-a008-823b099ffd0e",
   "metadata": {
    "execution": {
     "iopub.execute_input": "2024-08-09T20:48:30.548030Z",
     "iopub.status.busy": "2024-08-09T20:48:30.547778Z",
     "iopub.status.idle": "2024-08-09T20:48:31.451250Z",
     "shell.execute_reply": "2024-08-09T20:48:31.450922Z",
     "shell.execute_reply.started": "2024-08-09T20:48:30.548002Z"
    }
   },
   "outputs": [],
   "source": [
    "import json\n",
    "import outlines\n",
    "from transformers import AutoTokenizer\n",
    "import torch\n",
    "from textwrap import dedent\n",
    "from enum import Enum\n",
    "import re"
   ]
  },
  {
   "cell_type": "code",
   "execution_count": 2,
   "id": "cce7d7b5-e75c-46de-b51a-1cd9d3c23faa",
   "metadata": {
    "execution": {
     "iopub.execute_input": "2024-08-09T20:48:31.452534Z",
     "iopub.status.busy": "2024-08-09T20:48:31.452413Z",
     "iopub.status.idle": "2024-08-09T20:48:31.454381Z",
     "shell.execute_reply": "2024-08-09T20:48:31.454116Z",
     "shell.execute_reply.started": "2024-08-09T20:48:31.452526Z"
    }
   },
   "outputs": [],
   "source": [
    "MODEL_NAME = \"microsoft/Phi-3-medium-4k-instruct\""
   ]
  },
  {
   "cell_type": "code",
   "execution_count": 3,
   "id": "d5b4b016-4b96-4ba2-8ac2-cd09839df327",
   "metadata": {
    "execution": {
     "iopub.execute_input": "2024-08-09T20:48:31.454895Z",
     "iopub.status.busy": "2024-08-09T20:48:31.454801Z",
     "iopub.status.idle": "2024-08-09T20:48:31.456834Z",
     "shell.execute_reply": "2024-08-09T20:48:31.456574Z",
     "shell.execute_reply.started": "2024-08-09T20:48:31.454886Z"
    }
   },
   "outputs": [],
   "source": [
    "class Department(str, Enum):\n",
    "    clothing = \"clothing\"\n",
    "    electronics = \"electronics\"\n",
    "    kitchen = \"kitchen\"\n",
    "    automotive = \"automotive\"\n",
    "\n",
    "DEFAULT_DEPTS = [dept.name for dept in list(Department)]"
   ]
  },
  {
   "cell_type": "code",
   "execution_count": 4,
   "id": "2b892824-063c-42c0-bfdb-7b082a641bef",
   "metadata": {
    "execution": {
     "iopub.execute_input": "2024-08-09T20:48:31.457227Z",
     "iopub.status.busy": "2024-08-09T20:48:31.457142Z",
     "iopub.status.idle": "2024-08-09T20:48:31.460229Z",
     "shell.execute_reply": "2024-08-09T20:48:31.459966Z",
     "shell.execute_reply.started": "2024-08-09T20:48:31.457219Z"
    }
   },
   "outputs": [
    {
     "data": {
      "text/plain": [
       "1"
      ]
     },
     "execution_count": 4,
     "metadata": {},
     "output_type": "execute_result"
    }
   ],
   "source": [
    "import random\n",
    "random.choice([1,5,2])"
   ]
  },
  {
   "cell_type": "code",
   "execution_count": 5,
   "id": "4e487036-4fdc-418c-86d8-289117179063",
   "metadata": {
    "execution": {
     "iopub.execute_input": "2024-08-09T20:48:31.460921Z",
     "iopub.status.busy": "2024-08-09T20:48:31.460822Z",
     "iopub.status.idle": "2024-08-09T20:48:31.468401Z",
     "shell.execute_reply": "2024-08-09T20:48:31.468116Z",
     "shell.execute_reply.started": "2024-08-09T20:48:31.460910Z"
    }
   },
   "outputs": [],
   "source": [
    "from copy import deepcopy\n",
    "class ComplaintGenerator:\n",
    "\n",
    "    def __init__(self, model_name, departments=DEFAULT_DEPTS):\n",
    "        self.model_name = model_name\n",
    "        self.departments = departments\n",
    "        self._model = None\n",
    "        self._tokenizer = None\n",
    "        self._intro_generator = None\n",
    "        self._complaint_generator = None\n",
    "        self._order_number_generator = None\n",
    "    ####################################\n",
    "    # Structured Generation Section\n",
    "    #\n",
    "    @property\n",
    "    def intro_structure(self):\n",
    "        possible_intros = [\n",
    "            r'(Hi! This is [A-z][a-z]{3,10} [A-z][a-z]{3,10})\\.',\n",
    "            r'(Hi, my name is [A-z][a-z]{3,10} [A-z][a-z]{3,10})\\.',\n",
    "        ]\n",
    "        return rf\"({'|'.join(possible_intros)})\"        \n",
    "\n",
    "    @property\n",
    "    def complaint_structure(self):\n",
    "        return r'I recently ordered [\\w\\s,.!\\n]{120,240}\\.'\n",
    "\n",
    "    @property\n",
    "    def order_number_structure(self):\n",
    "        possible_order_numbers = [\n",
    "             r'(My order was (A|D|Z)[0-9]{6})',\n",
    "             r'(This is order (A|D|Z)[0-9]{2}-[0-9]{4})',\n",
    "             r'(The order number is (A|D|Z)[0-9]{2}-[0-9]{4})'\n",
    "         ]\n",
    "        return rf\"({'|'.join(possible_order_numbers)})\"\n",
    "    #\n",
    "    #\n",
    "    ####################################\n",
    "\n",
    "    \n",
    "    @property\n",
    "    def intro_generator(self):\n",
    "        if self._intro_generator is None:\n",
    "            self._intro_generator = outlines.generate.regex(\n",
    "                self.model, self.intro_structure\n",
    "            )\n",
    "        return self._intro_generator\n",
    "        \n",
    "    @property\n",
    "    def complaint_generator(self):\n",
    "        if self._complaint_generator is None:\n",
    "            self._complaint_generator = outlines.generate.regex(self.model, self.complaint_structure)\n",
    "        return self._complaint_generator\n",
    "\n",
    "    @property\n",
    "    def order_number_generator(self):\n",
    "        if self._order_number_generator is None:\n",
    "            self._order_number_generator = outlines.generate.regex(\n",
    "                self.model, \n",
    "                self.order_number_structure)\n",
    "        return self._order_number_generator\n",
    "    \n",
    "    @property\n",
    "    def model(self):\n",
    "        print(\"getting model\")\n",
    "        if self._model is None:\n",
    "            print(\"loading model\")\n",
    "            self._model = outlines.models.transformers(\n",
    "                self.model_name,\n",
    "                model_kwargs={\n",
    "                    'torch_dtype': torch.bfloat16,\n",
    "                    'trust_remote_code': True\n",
    "                },)\n",
    "        return self._model\n",
    "\n",
    "    @property\n",
    "    def tokenizer(self):\n",
    "        if self._tokenizer is None:\n",
    "            print(\"loading tokenizer\")\n",
    "            self._tokenizer = AutoTokenizer.from_pretrained(self.model_name)\n",
    "        return self._tokenizer\n",
    "        \n",
    "    def generate_complaint(self):\n",
    "        prompt_messages = self._start_messages()\n",
    "        prompt_messages.append(self._intro_prompt())\n",
    "        prompt_intro = self.tokenizer.apply_chat_template(\n",
    "            prompt_messages,\n",
    "            tokenize=False\n",
    "        )\n",
    "        print(\"Generating intro\")\n",
    "        intro_result = self.intro_generator(prompt_intro)\n",
    "        prompt_messages.append({\n",
    "            \"role\": \"agent\",\n",
    "            \"content\": intro_result\n",
    "        })\n",
    "        print(\"Generating Complaint\")\n",
    "        department = random.choice(self.departments)\n",
    "        prompt_messages.append(self._complaint_prompt(department))\n",
    "        prompt_complaint = self.tokenizer.apply_chat_template(\n",
    "            prompt_messages,\n",
    "            tokenize=False\n",
    "        )\n",
    "        complaint_result = self.complaint_generator(prompt_complaint)\n",
    "        prompt_messages.append({\n",
    "            \"role\": \"agent\",\n",
    "            \"content\": complaint_result\n",
    "        })\n",
    "        prompt_messages.append(self._order_number_prompt())\n",
    "        prompt_order_number = self.tokenizer.apply_chat_template(\n",
    "            prompt_messages,\n",
    "            tokenize=False\n",
    "        )\n",
    "        print(\"Generating order number\")\n",
    "        order_number_result = self.order_number_generator(prompt_order_number)\n",
    "\n",
    "        final_message = intro_result + complaint_result + order_number_result\n",
    "        return {\n",
    "            \"message\": final_message,\n",
    "            \"order_number\": self.parse_order_number(order_number_result),\n",
    "            \"department\": department\n",
    "        }\n",
    "    \n",
    "    def parse_order_number(self, message):\n",
    "        \"\"\"\n",
    "        We want to extract the order number so that we can \n",
    "        send it back with the response to use for validation later.\n",
    "        \"\"\"\n",
    "        number_only = r'((A|D|Z)[0-9]{6})|((A|D|Z)[0-9]{2}-[0-9]{4})'\n",
    "        order_number = re.search(number_only, message)[0]\n",
    "        if not (\"-\" in order_number):\n",
    "            order_number = f\"{order_number[0:3]}-{order_number[3:]}\"\n",
    "        return order_number\n",
    "        \n",
    "    def _start_messages(self):\n",
    "        \"\"\"\n",
    "        These are the starting prompt messages, since we'll be\n",
    "        appending to these messages, we'd like to return a \n",
    "        copy of them.\n",
    "        \"\"\"\n",
    "        prompt_messages = [{\n",
    "            \"role\": \"user\",\n",
    "            \"content\": dedent(\"\"\"\n",
    "            You are an agent designed to create simulated customer complaints. The\n",
    "            complaints are essentially short text messages that describe a customer,\n",
    "            their problem, and provide an order number.\n",
    "        \n",
    "            You will build the complaint in parts based on the user request. The\n",
    "            complaint will be about a product from a specified department, but you\n",
    "            will not mention the department name directly.\n",
    "        \n",
    "            For example, if you are asked about something from the 'kitchen' department \n",
    "            you might mention an 'knife' but you won't mention the department.\n",
    "            \"\"\")\n",
    "        },{ \n",
    "            \"role\": \"agent\",\n",
    "            \"content\": dedent(\"\"\"\n",
    "            I understand the task, and will wait for the you to instruct me on\n",
    "            next steps.\n",
    "            \"\"\")\n",
    "        }]\n",
    "        return(deepcopy(prompt_messages))\n",
    "\n",
    "    def _intro_prompt(self):\n",
    "        intro_prompt = {\n",
    "            \"role\": \"user\",\n",
    "            \"content\": \"Start the message with a short intro stating the customer's name.\"\n",
    "        }\n",
    "        return(deepcopy(intro_prompt))\n",
    "\n",
    "    def _complaint_prompt(self, department):\n",
    "        complaint_message = {\n",
    "            \"role\":\"user\", \n",
    "            \"content\": dedent(f\"\"\"\n",
    "                            Good! Now write a short description of the problem with an item from the {department} department,\n",
    "                            but don't mention the actual name of the department the product comes from!\n",
    "                            \"\"\")\n",
    "        }\n",
    "        return deepcopy(complaint_message)\n",
    "\n",
    "    def _order_number_prompt(self):\n",
    "        order_number_message = {\n",
    "            \"role\": \"user\",\n",
    "            \"content\": dedent(\"\"\"\n",
    "            Finally, add a statement about the order number which starts with letter 'A', 'D' or 'Z' and consists of 6 digits after.\n",
    "            \"\"\")\n",
    "        }\n",
    "        return deepcopy(order_number_message)\n",
    "        \n",
    "    \n",
    "\n",
    "    \n",
    "    "
   ]
  },
  {
   "cell_type": "code",
   "execution_count": 6,
   "id": "4786ce1c-e879-486c-9e0c-2177ea952b66",
   "metadata": {
    "execution": {
     "iopub.execute_input": "2024-08-09T20:48:31.469102Z",
     "iopub.status.busy": "2024-08-09T20:48:31.468948Z",
     "iopub.status.idle": "2024-08-09T21:16:40.172333Z",
     "shell.execute_reply": "2024-08-09T21:16:40.172044Z",
     "shell.execute_reply.started": "2024-08-09T20:48:31.469091Z"
    }
   },
   "outputs": [
    {
     "name": "stdout",
     "output_type": "stream",
     "text": [
      "loading tokenizer\n"
     ]
    },
    {
     "name": "stderr",
     "output_type": "stream",
     "text": [
      "Special tokens have been added in the vocabulary, make sure the associated word embeddings are fine-tuned or trained.\n"
     ]
    },
    {
     "name": "stdout",
     "output_type": "stream",
     "text": [
      "Generating intro\n",
      "getting model\n",
      "loading model\n"
     ]
    },
    {
     "name": "stderr",
     "output_type": "stream",
     "text": [
      "`flash-attention` package not found, consider installing for better performance: No module named 'flash_attn'.\n",
      "Current `flash-attenton` does not support `window_size`. Either upgrade or use `attn_implementation='eager'`.\n"
     ]
    },
    {
     "data": {
      "application/vnd.jupyter.widget-view+json": {
       "model_id": "f0cd0fa40e7a4ed283641bc218bf2fcf",
       "version_major": 2,
       "version_minor": 0
      },
      "text/plain": [
       "Loading checkpoint shards:   0%|          | 0/6 [00:00<?, ?it/s]"
      ]
     },
     "metadata": {},
     "output_type": "display_data"
    },
    {
     "name": "stderr",
     "output_type": "stream",
     "text": [
      "Special tokens have been added in the vocabulary, make sure the associated word embeddings are fine-tuned or trained.\n",
      "You are not running the flash-attention implementation, expect numerical differences.\n"
     ]
    },
    {
     "name": "stdout",
     "output_type": "stream",
     "text": [
      "Generating Complaint\n",
      "getting model\n",
      "Generating order number\n",
      "getting model\n"
     ]
    },
    {
     "data": {
      "text/plain": [
       "{'message': 'Hi! This is James Johnson.I recently ordered a pair of shoes from your online store, and I must say I am disappointed with the quality. After just two weeks of use, the soles started to come apart, and the stitching on the side is coming undone.The order number is D45-7891',\n",
       " 'order_number': 'D45-7891',\n",
       " 'department': 'clothing'}"
      ]
     },
     "execution_count": 6,
     "metadata": {},
     "output_type": "execute_result"
    }
   ],
   "source": [
    "complainer = ComplaintGenerator(MODEL_NAME)\n",
    "complainer.generate_complaint()"
   ]
  },
  {
   "cell_type": "code",
   "execution_count": 7,
   "id": "85ee1b7a-5863-4fc1-bac0-42efaf07fc47",
   "metadata": {
    "execution": {
     "iopub.execute_input": "2024-08-09T21:16:40.173883Z",
     "iopub.status.busy": "2024-08-09T21:16:40.173763Z",
     "iopub.status.idle": "2024-08-09T21:16:40.176360Z",
     "shell.execute_reply": "2024-08-09T21:16:40.176080Z",
     "shell.execute_reply.started": "2024-08-09T21:16:40.173870Z"
    }
   },
   "outputs": [
    {
     "data": {
      "text/plain": [
       "{'message': 'Hi, my name is Emily andbuyerser.I recently ordered a laptop with an extended warranty, but upon arrival, I noticed a malfunctioning trackpad. Despite numerous attempts at troubleshooting, the issue persists, greatly hindering my everyday use.This is order A12-3456',\n",
       " 'order_number': 'A12-3456',\n",
       " 'department': 'electronics'}"
      ]
     },
     "execution_count": 7,
     "metadata": {},
     "output_type": "execute_result"
    }
   ],
   "source": [
    "{'message': 'Hi, my name is Emily andbuyerser.I recently ordered a laptop with an extended warranty, but upon arrival, I noticed a malfunctioning trackpad. Despite numerous attempts at troubleshooting, the issue persists, greatly hindering my everyday use.This is order A12-3456',\n",
    " 'order_number': 'A12-3456',\n",
    " 'department': 'electronics'}"
   ]
  },
  {
   "cell_type": "code",
   "execution_count": null,
   "id": "18acbf60-f990-4bf3-bc9d-1bd2edc832af",
   "metadata": {
    "execution": {
     "iopub.execute_input": "2024-08-09T21:16:40.176914Z",
     "iopub.status.busy": "2024-08-09T21:16:40.176787Z"
    }
   },
   "outputs": [
    {
     "name": "stdout",
     "output_type": "stream",
     "text": [
      "Generating intro\n",
      "Generating Complaint\n",
      "Generating order number\n",
      "Generating intro\n",
      "Generating Complaint\n",
      "Generating order number\n",
      "Generating intro\n",
      "Generating Complaint\n"
     ]
    }
   ],
   "source": [
    "complaints = [complainer.generate_complaint() for _ in range(10)]\n",
    "complaints"
   ]
  },
  {
   "cell_type": "code",
   "execution_count": null,
   "id": "47e06bff-bc29-4bca-926e-d7754dd3c2ef",
   "metadata": {},
   "outputs": [],
   "source": [
    "import json\n",
    "with open(\"examples.json\", 'w') as fout:\n",
    "    fout.write(json.dumps(complaints))"
   ]
  },
  {
   "cell_type": "code",
   "execution_count": null,
   "id": "a894d001-3bda-46d6-b0d0-11dff0e1328a",
   "metadata": {},
   "outputs": [],
   "source": [
    "### this is good exmaple!\n",
    "{'message': 'Hi, my name is Emily andbuyerser.I recently ordered a laptop with an extended warranty, but upon arrival, I noticed a malfunctioning trackpad. Despite numerous attempts at troubleshooting, the issue persists, greatly hindering my everyday use.This is order A12-3456',\n",
    " 'order_number': 'A12-3456',\n",
    " 'department': 'electronics'}\n",
    "import re\n",
    "number_only = r'((A|D|Z)[0-9]{6})|((A|D|Z)[0-9]{2}-[0-9]{4})'\n",
    "re.search(number_only,\n",
    "          \"Hi! This is James Watson.I recently ordered a set of knives and could not be more disappointed. Upon arrival, the knives had inconsistent sharpness across the set. Some were barely able to slice through soft fruits, and others couldn awe when they hit harder vegetables.The order number is D12-3456\")"
   ]
  },
  {
   "cell_type": "code",
   "execution_count": null,
   "id": "276f6d35-24e2-4a21-baa0-7a1c249341ae",
   "metadata": {},
   "outputs": [],
   "source": [
    "x = \"A001235\"\n",
    "f\"{x[0:3]}-{x[3:]}\""
   ]
  }
 ],
 "metadata": {
  "kernelspec": {
   "display_name": "Python 3 (ipykernel)",
   "language": "python",
   "name": "python3"
  },
  "language_info": {
   "codemirror_mode": {
    "name": "ipython",
    "version": 3
   },
   "file_extension": ".py",
   "mimetype": "text/x-python",
   "name": "python",
   "nbconvert_exporter": "python",
   "pygments_lexer": "ipython3",
   "version": "3.10.0"
  }
 },
 "nbformat": 4,
 "nbformat_minor": 5
}
